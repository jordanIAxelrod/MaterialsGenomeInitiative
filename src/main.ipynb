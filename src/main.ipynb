{
 "cells": [
  {
   "cell_type": "markdown",
   "id": "83e2458b",
   "metadata": {},
   "source": [
    "# Import Libraries"
   ]
  },
  {
   "cell_type": "code",
   "execution_count": 160,
   "id": "a8abd43e",
   "metadata": {
    "ExecuteTime": {
     "end_time": "2022-11-19T22:02:54.951575Z",
     "start_time": "2022-11-19T22:02:53.766677Z"
    }
   },
   "outputs": [],
   "source": [
    "import pandas as pd\n",
    "import numpy as np\n",
    "\n",
    "import nltk\n",
    "\n",
    "import itertools\n",
    "\n",
    "from sentence_level_preprocess import *\n",
    "from word_level_preprocess import *\n",
    "from indexation import *\n",
    "from featurize import *\n",
    "from embeddings import Embeddings\n",
    "\n",
    "from typing import Tuple, List\n",
    "\n",
    "from sklearn.model_selection import train_test_split\n",
    "from sklearn.metrics import f1_score\n",
    "from sklearn.base import BaseEstimator"
   ]
  },
  {
   "cell_type": "code",
   "execution_count": 178,
   "id": "99424037",
   "metadata": {},
   "outputs": [],
   "source": [
    "numpy_records = List[Tuple]\n",
    "\n",
    "def load_data(path: str) -> numpy_records:\n",
    "    df = pd.read_csv(path, sep='\\t')\n",
    "    return df.to_records(index=False)\n",
    "\n",
    "def preprocess(data: numpy_records) -> numpy_records:\n",
    "    # remove line breaks (e.g. \"elec- tron\" -> \"electron\")\n",
    "    data = [(rm_linebreaks(t), l) for t, l in data]\n",
    "\n",
    "    # lower case\n",
    "    data = [(t.lower(), l) for t, l in data]\n",
    "\n",
    "    # unify expressions for temperature (e.g. '° c' -> '<temp>')\n",
    "    data = [(c2temp_2(t), l) for t, l in data]\n",
    "\n",
    "    data = [(nltk.tokenize.word_tokenize(t), l) for t, l in data]\n",
    "\n",
    "    # recognize integer as '<int>' (e.g. '60' -> '<int>')\n",
    "    data = [([put_int_together(w) for w in t], l) for t, l in data]\n",
    "\n",
    "    # recognize decimal as '<dec>' (e.g. '0.5' -> '<dec>')\n",
    "    data = [([put_decimal_together(w) for w in t], l) for t, l in data]\n",
    "\n",
    "    # recognize ratioas '<ratio>' (e.g. '1:1' -> '<ratio>')\n",
    "    data = [([put_ratio_together(w) for w in t], l) for t, l in data]\n",
    "\n",
    "    # split slash (e.g. 'g/mol' -> '['g', '/', 'mol'])\n",
    "    data = [([split_slash(w) for w in t], l) for t, l in data]\n",
    "    data = [(list(itertools.chain.from_iterable(t)), l) for t, l in data] # flatten\n",
    "\n",
    "    # unify expressions for temperature (e.g. '°c' -> '<temp>')\n",
    "    data = [([c2temp(w) for w in t], l) for t, l in data]\n",
    "    \n",
    "    return data\n",
    "\n",
    "def index_words(data: numpy_records):\n",
    "    texts   = [x[0] for x in data]\n",
    "    targets = [[x[1]] for x in data]\n",
    "    texts, vocab_size, _   = word2idx(texts)\n",
    "    targets, _, _          = word2idx(targets)\n",
    "    targets = [l[0] for l in targets]\n",
    "    data_idx = list(zip(texts, targets))\n",
    "    return (data_idx, vocab_size, targets)\n",
    "\n",
    "def BOW_featurize(data_idx, vocab_size):\n",
    "    return [(bow(t, vocab_size), l) for t, l in data_idx]\n",
    "\n",
    "def train_val_split(data: numpy_records) -> Tuple[List[str]]:\n",
    "    X = [t for t, _ in data]\n",
    "    y = [l for _, l in data]\n",
    "    X_train, X_val, y_train, y_val = train_test_split(X, y, test_size=0.2)\n",
    "    return (X_train, X_val, y_train, y_val)\n",
    "\n",
    "def embed(embedding, train_data, val_data):\n",
    "    return embedding.transform(\n",
    "        train_data.text.apply(lambda x: ' '.join([str(y) for y in x]))\n",
    "    ), embedding.transform(\n",
    "        val_data.text.apply(lambda x: ' '.join([str(y) for y in x]))\n",
    "    )\n",
    "\n",
    "# def generate_embeddings(path: str, embed):\n",
    "#     data_idx, vocab_size, targets = index_words(preprocess(load_data(path)))\n",
    "#     X_total = pd.DataFrame(data_idx, columns=['text', 'classification'])\n",
    "#     y_total = X_total.pop('classification')\n",
    "#     X_train, X_val, y_train, y_val = train_test_split(X_total, y_total, test_size=0.2)\n",
    "#     embeddings = Embeddings(X_train, X_val)\n",
    "#     X_train, X_val = embed(embed, X_train, X_val)\n",
    "#     return (X_train, X_val, y_train, y_val)\n",
    "\n",
    "def generate_split(path):\n",
    "    data_idx, vocab_size, targets = index_words(preprocess(load_data(path)))\n",
    "    X_total = pd.DataFrame(data_idx, columns=['text', 'classification'])\n",
    "    y_total = X_total.pop('classification')\n",
    "    X_train, X_val, y_train, y_val = train_test_split(X_total, y_total, test_size=0.2)\n",
    "    return (X_train, X_val, y_train, y_val)\n",
    "\n",
    "def find_avg_performance(test_model: BaseEstimator, embedding_type, num_trial = 20) -> None:\n",
    "    f1s = []\n",
    "\n",
    "    for i in range(num_trial):\n",
    "        X_train_avg, X_val_avg, y_train_avg, y_val_avg = generate_split('../data/train.tsv')\n",
    "        X_train_avg, X_val_avg = embed(embedding_type, X_train_avg, X_val_avg)\n",
    "        test_model.fit(X_train_avg, y_train_avg)\n",
    "        y_pred = test_model.predict(X_val_avg)\n",
    "        f1 = f1_score(y_val_avg, y_pred, average='micro')\n",
    "        f1s.append(f1)\n",
    "\n",
    "    print(\"mean:\", np.mean(f1s))\n",
    "    print(\"std :\", np.std(f1s))"
   ]
  },
  {
   "cell_type": "code",
   "execution_count": 185,
   "id": "7cda21f7",
   "metadata": {},
   "outputs": [],
   "source": [
    "X_train, X_val, y_train, y_val = generate_split('../data/train.tsv')\n",
    "embeddings = Embeddings(X_train, X_val)"
   ]
  },
  {
   "cell_type": "markdown",
   "id": "17ad82a4",
   "metadata": {},
   "source": [
    "### BOW Data"
   ]
  },
  {
   "cell_type": "code",
   "execution_count": 163,
   "id": "776b6c59",
   "metadata": {},
   "outputs": [],
   "source": [
    "# embed_type = embeddings.BOW()\n",
    "# X_train, X_val = embed(embed_type, X_train, X_val)"
   ]
  },
  {
   "cell_type": "markdown",
   "id": "9571148e",
   "metadata": {},
   "source": [
    "### TF-IDF Data"
   ]
  },
  {
   "cell_type": "code",
   "execution_count": 164,
   "id": "5cbb5473",
   "metadata": {},
   "outputs": [],
   "source": [
    "# embed_type = embeddings.TFIDF()\n",
    "# X_train, X_val = embed(embeddings.TFIDF(), X_train, X_val)"
   ]
  },
  {
   "cell_type": "markdown",
   "id": "5d09e700",
   "metadata": {},
   "source": [
    "### word2vec Data"
   ]
  },
  {
   "cell_type": "code",
   "execution_count": 186,
   "id": "7caa4b33",
   "metadata": {},
   "outputs": [],
   "source": [
    "embed_type = embeddings.word2vec()\n",
    "X_train, X_val = embed(embed_type, X_train, X_val)"
   ]
  },
  {
   "cell_type": "markdown",
   "id": "e881f4fe",
   "metadata": {},
   "source": [
    "# Learn Classifiers"
   ]
  },
  {
   "cell_type": "markdown",
   "id": "eaf06951",
   "metadata": {},
   "source": [
    "## Logistic regression"
   ]
  },
  {
   "cell_type": "code",
   "execution_count": 187,
   "id": "a61ec758",
   "metadata": {
    "ExecuteTime": {
     "end_time": "2022-11-19T22:02:56.451369Z",
     "start_time": "2022-11-19T22:02:55.833269Z"
    }
   },
   "outputs": [
    {
     "data": {
      "text/plain": [
       "0.7845303867403315"
      ]
     },
     "execution_count": 187,
     "metadata": {},
     "output_type": "execute_result"
    }
   ],
   "source": [
    "from sklearn.linear_model import LogisticRegression\n",
    "model = LogisticRegression(max_iter=5000)\n",
    "model.fit(X_train, y_train)\n",
    "model.score(X_val, y_val)"
   ]
  },
  {
   "cell_type": "markdown",
   "id": "662f746a",
   "metadata": {},
   "source": [
    "### Confusion matrix"
   ]
  },
  {
   "cell_type": "code",
   "execution_count": 125,
   "id": "986b17b6",
   "metadata": {
    "ExecuteTime": {
     "end_time": "2022-11-19T22:02:57.921546Z",
     "start_time": "2022-11-19T22:02:56.502867Z"
    }
   },
   "outputs": [],
   "source": [
    "from sklearn.metrics import confusion_matrix\n",
    "\n",
    "import seaborn as sns"
   ]
  },
  {
   "cell_type": "code",
   "execution_count": 78,
   "id": "68e48951",
   "metadata": {
    "ExecuteTime": {
     "end_time": "2022-11-19T22:02:57.967075Z",
     "start_time": "2022-11-19T22:02:57.924990Z"
    }
   },
   "outputs": [],
   "source": [
    "y_pred = model.predict(X_val)\n",
    "cm = confusion_matrix(y_val, y_pred)"
   ]
  },
  {
   "cell_type": "code",
   "execution_count": 65,
   "id": "23a24ebc",
   "metadata": {
    "ExecuteTime": {
     "end_time": "2022-11-19T22:02:58.321837Z",
     "start_time": "2022-11-19T22:02:57.970701Z"
    }
   },
   "outputs": [
    {
     "data": {
      "text/plain": [
       "<AxesSubplot:>"
      ]
     },
     "execution_count": 65,
     "metadata": {},
     "output_type": "execute_result"
    },
    {
     "data": {
      "image/png": "[encoded data removed]",
      "text/plain": [
       "<Figure size 640x480 with 2 Axes>"
      ]
     },
     "metadata": {},
     "output_type": "display_data"
    }
   ],
   "source": [
    "sns.heatmap(cm, annot=True)"
   ]
  },
  {
   "cell_type": "code",
   "execution_count": 126,
   "id": "c3a1e03e",
   "metadata": {
    "ExecuteTime": {
     "end_time": "2022-11-19T22:02:58.530209Z",
     "start_time": "2022-11-19T22:02:58.326281Z"
    }
   },
   "outputs": [
    {
     "data": {
      "text/plain": [
       "<AxesSubplot:>"
      ]
     },
     "execution_count": 126,
     "metadata": {},
     "output_type": "execute_result"
    },
    {
     "data": {
      "image/png": "[encoded data removed]",
      "text/plain": [
       "<Figure size 640x480 with 2 Axes>"
      ]
     },
     "metadata": {},
     "output_type": "display_data"
    }
   ],
   "source": [
    "sns.heatmap(cm / np.tile(np.sum(cm, axis=1), (4, 1)).T, annot=True)"
   ]
  },
  {
   "cell_type": "markdown",
   "id": "1b14c934",
   "metadata": {},
   "source": [
    "### Average performance"
   ]
  },
  {
   "cell_type": "code",
   "execution_count": 127,
   "id": "44992816",
   "metadata": {
    "ExecuteTime": {
     "end_time": "2022-11-19T22:03:10.534357Z",
     "start_time": "2022-11-19T22:02:58.552332Z"
    }
   },
   "outputs": [
    {
     "name": "stdout",
     "output_type": "stream",
     "text": [
      "mean: 0.8359116022099448\n",
      "std : 0.027463621042290786\n"
     ]
    }
   ],
   "source": [
    "find_avg_performance(LogisticRegression(max_iter=5000), embed_type)"
   ]
  },
  {
   "cell_type": "markdown",
   "id": "68853fcd",
   "metadata": {},
   "source": [
    "### Hyperparameter Tuning"
   ]
  },
  {
   "cell_type": "code",
   "execution_count": 157,
   "id": "b8c8c658",
   "metadata": {},
   "outputs": [],
   "source": [
    "from sklearn.model_selection import GridSearchCV"
   ]
  },
  {
   "cell_type": "code",
   "execution_count": 188,
   "id": "90248930",
   "metadata": {},
   "outputs": [
    {
     "name": "stderr",
     "output_type": "stream",
     "text": [
      "/home/ldtcoop/miniconda3/envs/pollydarton/lib/python3.9/site-packages/sklearn/linear_model/_logistic.py:444: ConvergenceWarning: lbfgs failed to converge (status=1):\n",
      "STOP: TOTAL NO. of ITERATIONS REACHED LIMIT.\n",
      "\n",
      "Increase the number of iterations (max_iter) or scale the data as shown in:\n",
      "    https://scikit-learn.org/stable/modules/preprocessing.html\n",
      "Please also refer to the documentation for alternative solver options:\n",
      "    https://scikit-learn.org/stable/modules/linear_model.html#logistic-regression\n",
      "  n_iter_i = _check_optimize_result(\n",
      "/home/ldtcoop/miniconda3/envs/pollydarton/lib/python3.9/site-packages/sklearn/linear_model/_logistic.py:444: ConvergenceWarning: lbfgs failed to converge (status=1):\n",
      "STOP: TOTAL NO. of ITERATIONS REACHED LIMIT.\n",
      "\n",
      "Increase the number of iterations (max_iter) or scale the data as shown in:\n",
      "    https://scikit-learn.org/stable/modules/preprocessing.html\n",
      "Please also refer to the documentation for alternative solver options:\n",
      "    https://scikit-learn.org/stable/modules/linear_model.html#logistic-regression\n",
      "  n_iter_i = _check_optimize_result(\n",
      "/home/ldtcoop/miniconda3/envs/pollydarton/lib/python3.9/site-packages/sklearn/linear_model/_logistic.py:444: ConvergenceWarning: lbfgs failed to converge (status=1):\n",
      "STOP: TOTAL NO. of ITERATIONS REACHED LIMIT.\n",
      "\n",
      "Increase the number of iterations (max_iter) or scale the data as shown in:\n",
      "    https://scikit-learn.org/stable/modules/preprocessing.html\n",
      "Please also refer to the documentation for alternative solver options:\n",
      "    https://scikit-learn.org/stable/modules/linear_model.html#logistic-regression\n",
      "  n_iter_i = _check_optimize_result(\n",
      "/home/ldtcoop/miniconda3/envs/pollydarton/lib/python3.9/site-packages/sklearn/linear_model/_logistic.py:444: ConvergenceWarning: lbfgs failed to converge (status=1):\n",
      "STOP: TOTAL NO. of ITERATIONS REACHED LIMIT.\n",
      "\n",
      "Increase the number of iterations (max_iter) or scale the data as shown in:\n",
      "    https://scikit-learn.org/stable/modules/preprocessing.html\n",
      "Please also refer to the documentation for alternative solver options:\n",
      "    https://scikit-learn.org/stable/modules/linear_model.html#logistic-regression\n",
      "  n_iter_i = _check_optimize_result(\n",
      "/home/ldtcoop/miniconda3/envs/pollydarton/lib/python3.9/site-packages/sklearn/linear_model/_logistic.py:444: ConvergenceWarning: lbfgs failed to converge (status=1):\n",
      "STOP: TOTAL NO. of ITERATIONS REACHED LIMIT.\n",
      "\n",
      "Increase the number of iterations (max_iter) or scale the data as shown in:\n",
      "    https://scikit-learn.org/stable/modules/preprocessing.html\n",
      "Please also refer to the documentation for alternative solver options:\n",
      "    https://scikit-learn.org/stable/modules/linear_model.html#logistic-regression\n",
      "  n_iter_i = _check_optimize_result(\n",
      "/home/ldtcoop/miniconda3/envs/pollydarton/lib/python3.9/site-packages/sklearn/linear_model/_logistic.py:444: ConvergenceWarning: lbfgs failed to converge (status=1):\n",
      "STOP: TOTAL NO. of ITERATIONS REACHED LIMIT.\n",
      "\n",
      "Increase the number of iterations (max_iter) or scale the data as shown in:\n",
      "    https://scikit-learn.org/stable/modules/preprocessing.html\n",
      "Please also refer to the documentation for alternative solver options:\n",
      "    https://scikit-learn.org/stable/modules/linear_model.html#logistic-regression\n",
      "  n_iter_i = _check_optimize_result(\n",
      "/home/ldtcoop/miniconda3/envs/pollydarton/lib/python3.9/site-packages/sklearn/linear_model/_logistic.py:444: ConvergenceWarning: lbfgs failed to converge (status=1):\n",
      "STOP: TOTAL NO. of ITERATIONS REACHED LIMIT.\n",
      "\n",
      "Increase the number of iterations (max_iter) or scale the data as shown in:\n",
      "    https://scikit-learn.org/stable/modules/preprocessing.html\n",
      "Please also refer to the documentation for alternative solver options:\n",
      "    https://scikit-learn.org/stable/modules/linear_model.html#logistic-regression\n",
      "  n_iter_i = _check_optimize_result(\n",
      "/home/ldtcoop/miniconda3/envs/pollydarton/lib/python3.9/site-packages/sklearn/linear_model/_logistic.py:444: ConvergenceWarning: lbfgs failed to converge (status=1):\n",
      "STOP: TOTAL NO. of ITERATIONS REACHED LIMIT.\n",
      "\n",
      "Increase the number of iterations (max_iter) or scale the data as shown in:\n",
      "    https://scikit-learn.org/stable/modules/preprocessing.html\n",
      "Please also refer to the documentation for alternative solver options:\n",
      "    https://scikit-learn.org/stable/modules/linear_model.html#logistic-regression\n",
      "  n_iter_i = _check_optimize_result(\n",
      "/home/ldtcoop/miniconda3/envs/pollydarton/lib/python3.9/site-packages/sklearn/linear_model/_logistic.py:444: ConvergenceWarning: lbfgs failed to converge (status=1):\n",
      "STOP: TOTAL NO. of ITERATIONS REACHED LIMIT.\n",
      "\n",
      "Increase the number of iterations (max_iter) or scale the data as shown in:\n",
      "    https://scikit-learn.org/stable/modules/preprocessing.html\n",
      "Please also refer to the documentation for alternative solver options:\n",
      "    https://scikit-learn.org/stable/modules/linear_model.html#logistic-regression\n",
      "  n_iter_i = _check_optimize_result(\n",
      "/home/ldtcoop/miniconda3/envs/pollydarton/lib/python3.9/site-packages/sklearn/linear_model/_logistic.py:444: ConvergenceWarning: lbfgs failed to converge (status=1):\n",
      "STOP: TOTAL NO. of ITERATIONS REACHED LIMIT.\n",
      "\n",
      "Increase the number of iterations (max_iter) or scale the data as shown in:\n",
      "    https://scikit-learn.org/stable/modules/preprocessing.html\n",
      "Please also refer to the documentation for alternative solver options:\n",
      "    https://scikit-learn.org/stable/modules/linear_model.html#logistic-regression\n",
      "  n_iter_i = _check_optimize_result(\n",
      "/home/ldtcoop/miniconda3/envs/pollydarton/lib/python3.9/site-packages/sklearn/linear_model/_logistic.py:444: ConvergenceWarning: lbfgs failed to converge (status=1):\n",
      "STOP: TOTAL NO. of ITERATIONS REACHED LIMIT.\n",
      "\n",
      "Increase the number of iterations (max_iter) or scale the data as shown in:\n",
      "    https://scikit-learn.org/stable/modules/preprocessing.html\n",
      "Please also refer to the documentation for alternative solver options:\n",
      "    https://scikit-learn.org/stable/modules/linear_model.html#logistic-regression\n",
      "  n_iter_i = _check_optimize_result(\n",
      "/home/ldtcoop/miniconda3/envs/pollydarton/lib/python3.9/site-packages/sklearn/linear_model/_logistic.py:444: ConvergenceWarning: lbfgs failed to converge (status=1):\n",
      "STOP: TOTAL NO. of ITERATIONS REACHED LIMIT.\n",
      "\n",
      "Increase the number of iterations (max_iter) or scale the data as shown in:\n",
      "    https://scikit-learn.org/stable/modules/preprocessing.html\n",
      "Please also refer to the documentation for alternative solver options:\n",
      "    https://scikit-learn.org/stable/modules/linear_model.html#logistic-regression\n",
      "  n_iter_i = _check_optimize_result(\n"
     ]
    },
    {
     "data": {
      "text/plain": [
       "0.8397790055248618"
      ]
     },
     "execution_count": 188,
     "metadata": {},
     "output_type": "execute_result"
    }
   ],
   "source": [
    "param_grid_lr = {\n",
    "    'C': [0.001, 0.01, 0.1, 1, 10, 100, 1000]\n",
    "}\n",
    "\n",
    "lr_grid = GridSearchCV(LogisticRegression(max_iter=5000), param_grid_lr, n_jobs=-1)\n",
    "lr_grid.fit(X_train, y_train)\n",
    "lr_grid.score(X_val, y_val)"
   ]
  },
  {
   "cell_type": "code",
   "execution_count": 103,
   "id": "bd0507b9",
   "metadata": {},
   "outputs": [
    {
     "ename": "KeyboardInterrupt",
     "evalue": "",
     "output_type": "error",
     "traceback": [
      "\u001b[0;31m---------------------------------------------------------------------------\u001b[0m",
      "\u001b[0;31mKeyboardInterrupt\u001b[0m                         Traceback (most recent call last)",
      "Cell \u001b[0;32mIn [103], line 1\u001b[0m\n\u001b[0;32m----> 1\u001b[0m find_avg_performance(lr_grid, embed_type)\n",
      "Cell \u001b[0;32mIn [97], line 84\u001b[0m, in \u001b[0;36mfind_avg_performance\u001b[0;34m(test_model, embedding_type, num_trial)\u001b[0m\n\u001b[1;32m     82\u001b[0m X_train_avg, X_val_avg, y_train_avg, y_val_avg \u001b[39m=\u001b[39m generate_split(\u001b[39m'\u001b[39m\u001b[39m../data/train.tsv\u001b[39m\u001b[39m'\u001b[39m)\n\u001b[1;32m     83\u001b[0m X_train_avg, X_val_avg \u001b[39m=\u001b[39m embed(embedding_type, X_train_avg, X_val_avg)\n\u001b[0;32m---> 84\u001b[0m test_model\u001b[39m.\u001b[39;49mfit(X_train_avg, y_train_avg)\n\u001b[1;32m     85\u001b[0m y_pred \u001b[39m=\u001b[39m test_model\u001b[39m.\u001b[39mpredict(X_val_avg)\n\u001b[1;32m     86\u001b[0m f1 \u001b[39m=\u001b[39m f1_score(y_val_avg, y_pred, average\u001b[39m=\u001b[39m\u001b[39m'\u001b[39m\u001b[39mmicro\u001b[39m\u001b[39m'\u001b[39m)\n",
      "File \u001b[0;32m~/miniconda3/envs/pollydarton/lib/python3.9/site-packages/sklearn/model_selection/_search.py:875\u001b[0m, in \u001b[0;36mBaseSearchCV.fit\u001b[0;34m(self, X, y, groups, **fit_params)\u001b[0m\n\u001b[1;32m    869\u001b[0m     results \u001b[39m=\u001b[39m \u001b[39mself\u001b[39m\u001b[39m.\u001b[39m_format_results(\n\u001b[1;32m    870\u001b[0m         all_candidate_params, n_splits, all_out, all_more_results\n\u001b[1;32m    871\u001b[0m     )\n\u001b[1;32m    873\u001b[0m     \u001b[39mreturn\u001b[39;00m results\n\u001b[0;32m--> 875\u001b[0m \u001b[39mself\u001b[39;49m\u001b[39m.\u001b[39;49m_run_search(evaluate_candidates)\n\u001b[1;32m    877\u001b[0m \u001b[39m# multimetric is determined here because in the case of a callable\u001b[39;00m\n\u001b[1;32m    878\u001b[0m \u001b[39m# self.scoring the return type is only known after calling\u001b[39;00m\n\u001b[1;32m    879\u001b[0m first_test_score \u001b[39m=\u001b[39m all_out[\u001b[39m0\u001b[39m][\u001b[39m\"\u001b[39m\u001b[39mtest_scores\u001b[39m\u001b[39m\"\u001b[39m]\n",
      "File \u001b[0;32m~/miniconda3/envs/pollydarton/lib/python3.9/site-packages/sklearn/model_selection/_search.py:1379\u001b[0m, in \u001b[0;36mGridSearchCV._run_search\u001b[0;34m(self, evaluate_candidates)\u001b[0m\n\u001b[1;32m   1377\u001b[0m \u001b[39mdef\u001b[39;00m \u001b[39m_run_search\u001b[39m(\u001b[39mself\u001b[39m, evaluate_candidates):\n\u001b[1;32m   1378\u001b[0m     \u001b[39m\"\"\"Search all candidates in param_grid\"\"\"\u001b[39;00m\n\u001b[0;32m-> 1379\u001b[0m     evaluate_candidates(ParameterGrid(\u001b[39mself\u001b[39;49m\u001b[39m.\u001b[39;49mparam_grid))\n",
      "File \u001b[0;32m~/miniconda3/envs/pollydarton/lib/python3.9/site-packages/sklearn/model_selection/_search.py:822\u001b[0m, in \u001b[0;36mBaseSearchCV.fit.<locals>.evaluate_candidates\u001b[0;34m(candidate_params, cv, more_results)\u001b[0m\n\u001b[1;32m    814\u001b[0m \u001b[39mif\u001b[39;00m \u001b[39mself\u001b[39m\u001b[39m.\u001b[39mverbose \u001b[39m>\u001b[39m \u001b[39m0\u001b[39m:\n\u001b[1;32m    815\u001b[0m     \u001b[39mprint\u001b[39m(\n\u001b[1;32m    816\u001b[0m         \u001b[39m\"\u001b[39m\u001b[39mFitting \u001b[39m\u001b[39m{0}\u001b[39;00m\u001b[39m folds for each of \u001b[39m\u001b[39m{1}\u001b[39;00m\u001b[39m candidates,\u001b[39m\u001b[39m\"\u001b[39m\n\u001b[1;32m    817\u001b[0m         \u001b[39m\"\u001b[39m\u001b[39m totalling \u001b[39m\u001b[39m{2}\u001b[39;00m\u001b[39m fits\u001b[39m\u001b[39m\"\u001b[39m\u001b[39m.\u001b[39mformat(\n\u001b[1;32m    818\u001b[0m             n_splits, n_candidates, n_candidates \u001b[39m*\u001b[39m n_splits\n\u001b[1;32m    819\u001b[0m         )\n\u001b[1;32m    820\u001b[0m     )\n\u001b[0;32m--> 822\u001b[0m out \u001b[39m=\u001b[39m parallel(\n\u001b[1;32m    823\u001b[0m     delayed(_fit_and_score)(\n\u001b[1;32m    824\u001b[0m         clone(base_estimator),\n\u001b[1;32m    825\u001b[0m         X,\n\u001b[1;32m    826\u001b[0m         y,\n\u001b[1;32m    827\u001b[0m         train\u001b[39m=\u001b[39;49mtrain,\n\u001b[1;32m    828\u001b[0m         test\u001b[39m=\u001b[39;49mtest,\n\u001b[1;32m    829\u001b[0m         parameters\u001b[39m=\u001b[39;49mparameters,\n\u001b[1;32m    830\u001b[0m         split_progress\u001b[39m=\u001b[39;49m(split_idx, n_splits),\n\u001b[1;32m    831\u001b[0m         candidate_progress\u001b[39m=\u001b[39;49m(cand_idx, n_candidates),\n\u001b[1;32m    832\u001b[0m         \u001b[39m*\u001b[39;49m\u001b[39m*\u001b[39;49mfit_and_score_kwargs,\n\u001b[1;32m    833\u001b[0m     )\n\u001b[1;32m    834\u001b[0m     \u001b[39mfor\u001b[39;49;00m (cand_idx, parameters), (split_idx, (train, test)) \u001b[39min\u001b[39;49;00m product(\n\u001b[1;32m    835\u001b[0m         \u001b[39menumerate\u001b[39;49m(candidate_params), \u001b[39menumerate\u001b[39;49m(cv\u001b[39m.\u001b[39;49msplit(X, y, groups))\n\u001b[1;32m    836\u001b[0m     )\n\u001b[1;32m    837\u001b[0m )\n\u001b[1;32m    839\u001b[0m \u001b[39mif\u001b[39;00m \u001b[39mlen\u001b[39m(out) \u001b[39m<\u001b[39m \u001b[39m1\u001b[39m:\n\u001b[1;32m    840\u001b[0m     \u001b[39mraise\u001b[39;00m \u001b[39mValueError\u001b[39;00m(\n\u001b[1;32m    841\u001b[0m         \u001b[39m\"\u001b[39m\u001b[39mNo fits were performed. \u001b[39m\u001b[39m\"\u001b[39m\n\u001b[1;32m    842\u001b[0m         \u001b[39m\"\u001b[39m\u001b[39mWas the CV iterator empty? \u001b[39m\u001b[39m\"\u001b[39m\n\u001b[1;32m    843\u001b[0m         \u001b[39m\"\u001b[39m\u001b[39mWere there no candidates?\u001b[39m\u001b[39m\"\u001b[39m\n\u001b[1;32m    844\u001b[0m     )\n",
      "File \u001b[0;32m~/miniconda3/envs/pollydarton/lib/python3.9/site-packages/joblib/parallel.py:1061\u001b[0m, in \u001b[0;36mParallel.__call__\u001b[0;34m(self, iterable)\u001b[0m\n\u001b[1;32m   1058\u001b[0m     \u001b[39mself\u001b[39m\u001b[39m.\u001b[39m_iterating \u001b[39m=\u001b[39m \u001b[39mFalse\u001b[39;00m\n\u001b[1;32m   1060\u001b[0m \u001b[39mwith\u001b[39;00m \u001b[39mself\u001b[39m\u001b[39m.\u001b[39m_backend\u001b[39m.\u001b[39mretrieval_context():\n\u001b[0;32m-> 1061\u001b[0m     \u001b[39mself\u001b[39;49m\u001b[39m.\u001b[39;49mretrieve()\n\u001b[1;32m   1062\u001b[0m \u001b[39m# Make sure that we get a last message telling us we are done\u001b[39;00m\n\u001b[1;32m   1063\u001b[0m elapsed_time \u001b[39m=\u001b[39m time\u001b[39m.\u001b[39mtime() \u001b[39m-\u001b[39m \u001b[39mself\u001b[39m\u001b[39m.\u001b[39m_start_time\n",
      "File \u001b[0;32m~/miniconda3/envs/pollydarton/lib/python3.9/site-packages/joblib/parallel.py:938\u001b[0m, in \u001b[0;36mParallel.retrieve\u001b[0;34m(self)\u001b[0m\n\u001b[1;32m    936\u001b[0m \u001b[39mtry\u001b[39;00m:\n\u001b[1;32m    937\u001b[0m     \u001b[39mif\u001b[39;00m \u001b[39mgetattr\u001b[39m(\u001b[39mself\u001b[39m\u001b[39m.\u001b[39m_backend, \u001b[39m'\u001b[39m\u001b[39msupports_timeout\u001b[39m\u001b[39m'\u001b[39m, \u001b[39mFalse\u001b[39;00m):\n\u001b[0;32m--> 938\u001b[0m         \u001b[39mself\u001b[39m\u001b[39m.\u001b[39m_output\u001b[39m.\u001b[39mextend(job\u001b[39m.\u001b[39;49mget(timeout\u001b[39m=\u001b[39;49m\u001b[39mself\u001b[39;49m\u001b[39m.\u001b[39;49mtimeout))\n\u001b[1;32m    939\u001b[0m     \u001b[39melse\u001b[39;00m:\n\u001b[1;32m    940\u001b[0m         \u001b[39mself\u001b[39m\u001b[39m.\u001b[39m_output\u001b[39m.\u001b[39mextend(job\u001b[39m.\u001b[39mget())\n",
      "File \u001b[0;32m~/miniconda3/envs/pollydarton/lib/python3.9/site-packages/joblib/_parallel_backends.py:542\u001b[0m, in \u001b[0;36mLokyBackend.wrap_future_result\u001b[0;34m(future, timeout)\u001b[0m\n\u001b[1;32m    539\u001b[0m \u001b[39m\"\"\"Wrapper for Future.result to implement the same behaviour as\u001b[39;00m\n\u001b[1;32m    540\u001b[0m \u001b[39mAsyncResults.get from multiprocessing.\"\"\"\u001b[39;00m\n\u001b[1;32m    541\u001b[0m \u001b[39mtry\u001b[39;00m:\n\u001b[0;32m--> 542\u001b[0m     \u001b[39mreturn\u001b[39;00m future\u001b[39m.\u001b[39;49mresult(timeout\u001b[39m=\u001b[39;49mtimeout)\n\u001b[1;32m    543\u001b[0m \u001b[39mexcept\u001b[39;00m CfTimeoutError \u001b[39mas\u001b[39;00m e:\n\u001b[1;32m    544\u001b[0m     \u001b[39mraise\u001b[39;00m \u001b[39mTimeoutError\u001b[39;00m \u001b[39mfrom\u001b[39;00m \u001b[39me\u001b[39;00m\n",
      "File \u001b[0;32m~/miniconda3/envs/pollydarton/lib/python3.9/concurrent/futures/_base.py:441\u001b[0m, in \u001b[0;36mFuture.result\u001b[0;34m(self, timeout)\u001b[0m\n\u001b[1;32m    438\u001b[0m \u001b[39melif\u001b[39;00m \u001b[39mself\u001b[39m\u001b[39m.\u001b[39m_state \u001b[39m==\u001b[39m FINISHED:\n\u001b[1;32m    439\u001b[0m     \u001b[39mreturn\u001b[39;00m \u001b[39mself\u001b[39m\u001b[39m.\u001b[39m__get_result()\n\u001b[0;32m--> 441\u001b[0m \u001b[39mself\u001b[39;49m\u001b[39m.\u001b[39;49m_condition\u001b[39m.\u001b[39;49mwait(timeout)\n\u001b[1;32m    443\u001b[0m \u001b[39mif\u001b[39;00m \u001b[39mself\u001b[39m\u001b[39m.\u001b[39m_state \u001b[39min\u001b[39;00m [CANCELLED, CANCELLED_AND_NOTIFIED]:\n\u001b[1;32m    444\u001b[0m     \u001b[39mraise\u001b[39;00m CancelledError()\n",
      "File \u001b[0;32m~/miniconda3/envs/pollydarton/lib/python3.9/threading.py:312\u001b[0m, in \u001b[0;36mCondition.wait\u001b[0;34m(self, timeout)\u001b[0m\n\u001b[1;32m    310\u001b[0m \u001b[39mtry\u001b[39;00m:    \u001b[39m# restore state no matter what (e.g., KeyboardInterrupt)\u001b[39;00m\n\u001b[1;32m    311\u001b[0m     \u001b[39mif\u001b[39;00m timeout \u001b[39mis\u001b[39;00m \u001b[39mNone\u001b[39;00m:\n\u001b[0;32m--> 312\u001b[0m         waiter\u001b[39m.\u001b[39;49macquire()\n\u001b[1;32m    313\u001b[0m         gotit \u001b[39m=\u001b[39m \u001b[39mTrue\u001b[39;00m\n\u001b[1;32m    314\u001b[0m     \u001b[39melse\u001b[39;00m:\n",
      "\u001b[0;31mKeyboardInterrupt\u001b[0m: "
     ]
    }
   ],
   "source": [
    "find_avg_performance(lr_grid, embed_type)"
   ]
  },
  {
   "cell_type": "code",
   "execution_count": 17,
   "id": "f426a0e8",
   "metadata": {},
   "outputs": [
    {
     "data": {
      "text/plain": [
       "<AxesSubplot:>"
      ]
     },
     "execution_count": 17,
     "metadata": {},
     "output_type": "execute_result"
    },
    {
     "data": {
      "image/png": "[encoded data removed]",
      "text/plain": [
       "<Figure size 640x480 with 2 Axes>"
      ]
     },
     "metadata": {},
     "output_type": "display_data"
    }
   ],
   "source": [
    "y_pred = lr_grid.predict(X_val)\n",
    "cm = confusion_matrix(y_val, y_pred)\n",
    "sns.heatmap(cm, annot=True)"
   ]
  },
  {
   "cell_type": "markdown",
   "id": "c6424d4f",
   "metadata": {},
   "source": [
    "## SVM"
   ]
  },
  {
   "cell_type": "code",
   "execution_count": 189,
   "id": "740f0f80",
   "metadata": {},
   "outputs": [
    {
     "data": {
      "text/plain": [
       "0.6187845303867403"
      ]
     },
     "execution_count": 189,
     "metadata": {},
     "output_type": "execute_result"
    }
   ],
   "source": [
    "from sklearn.svm import SVC\n",
    "\n",
    "svm_model = SVC()\n",
    "svm_model.fit(X_train, y_train)\n",
    "svm_model.score(X_val, y_val)"
   ]
  },
  {
   "cell_type": "code",
   "execution_count": 190,
   "id": "8a97d0a0",
   "metadata": {},
   "outputs": [
    {
     "data": {
      "text/plain": [
       "0.8342541436464088"
      ]
     },
     "execution_count": 190,
     "metadata": {},
     "output_type": "execute_result"
    }
   ],
   "source": [
    "param_grid_svm = {\n",
    "    'C': [0.001, 0.01, 0.1, 1, 10, 100, 1000], \n",
    "    'gamma': [1, 0.1, 0.01, 0.001, 0.0001, 'scale']\n",
    "}\n",
    "\n",
    "svm_grid = GridSearchCV(SVC(), param_grid_svm, refit=True, n_jobs=-1)\n",
    "svm_grid.fit(X_train, y_train)\n",
    "svm_grid.score(X_val, y_val)"
   ]
  },
  {
   "cell_type": "code",
   "execution_count": 63,
   "id": "082e528e",
   "metadata": {},
   "outputs": [
    {
     "data": {
      "text/plain": [
       "<AxesSubplot:>"
      ]
     },
     "execution_count": 63,
     "metadata": {},
     "output_type": "execute_result"
    },
    {
     "data": {
      "image/png": "[encoded data removed]",
      "text/plain": [
       "<Figure size 640x480 with 2 Axes>"
      ]
     },
     "metadata": {},
     "output_type": "display_data"
    }
   ],
   "source": [
    "y_pred = svm_grid.predict(X_val)\n",
    "cm = confusion_matrix(y_val, y_pred)\n",
    "sns.heatmap(cm, annot=True)"
   ]
  },
  {
   "cell_type": "markdown",
   "id": "e830847b",
   "metadata": {},
   "source": [
    "## Attention"
   ]
  },
  {
   "cell_type": "code",
   "execution_count": null,
   "id": "44f635ad",
   "metadata": {},
   "outputs": [],
   "source": [
    "from neural_network import RNN, NNTrainer\n",
    "import torch"
   ]
  },
  {
   "cell_type": "code",
   "execution_count": null,
   "id": "8df08b14",
   "metadata": {},
   "outputs": [],
   "source": [
    "train_set = pd.concat((X_train, y_train))\n",
    "val_set = pd.concat((X_val, y_val))\n",
    "\n",
    "train_loader = torch.utils.data.DataLoader(train_set, batch_size=10, shuffle=True)\n",
    "val_loader = torch.utils.data.DataLoader(val_set, batch_size=100, shuffle=False)"
   ]
  },
  {
   "cell_type": "code",
   "execution_count": null,
   "id": "88ff7811",
   "metadata": {},
   "outputs": [],
   "source": [
    "\n",
    "\n",
    "nn_embed = RNN(4, 50, num_words, 100, False, word_types)\n",
    "nn_w2v = RNN(4, 50, num_words, 100, False, word_types)\n",
    "nn_w2v.set_embedding_weights()\n",
    "nn_trainer_e = NNTrainer(\n",
    "    nn_embed,\n",
    "    5,\n",
    "    torch.optim.Adam,\n",
    "    torch.nn.CrossEntropyLoss(),\n",
    "    train_loader,\n",
    "    val_loader\n",
    ")\n",
    "nn_trainer_w = NNTrainer(\n",
    "    nn_embed,\n",
    "    5,\n",
    "    torch.optim.Adam,\n",
    "    torch.nn.CrossEntropyLoss(),\n",
    "    train_loader,\n",
    "    val_loader\n",
    ")"
   ]
  }
 ],
 "metadata": {
  "kernelspec": {
   "display_name": "Python 3.9.15 ('pollydarton')",
   "language": "python",
   "name": "python3"
  },
  "language_info": {
   "codemirror_mode": {
    "name": "ipython",
    "version": 3
   },
   "file_extension": ".py",
   "mimetype": "text/x-python",
   "name": "python",
   "nbconvert_exporter": "python",
   "pygments_lexer": "ipython3",
   "version": "3.9.15"
  },
  "toc": {
   "base_numbering": 1,
   "nav_menu": {},
   "number_sections": true,
   "sideBar": true,
   "skip_h1_title": false,
   "title_cell": "Table of Contents",
   "title_sidebar": "Contents",
   "toc_cell": false,
   "toc_position": {},
   "toc_section_display": true,
   "toc_window_display": false
  },
  "varInspector": {
   "cols": {
    "lenName": 16,
    "lenType": 16,
    "lenVar": 40
   },
   "kernels_config": {
    "python": {
     "delete_cmd_postfix": "",
     "delete_cmd_prefix": "del ",
     "library": "var_list.py",
     "varRefreshCmd": "print(var_dic_list())"
    },
    "r": {
     "delete_cmd_postfix": ") ",
     "delete_cmd_prefix": "rm(",
     "library": "var_list.r",
     "varRefreshCmd": "cat(var_dic_list()) "
    }
   },
   "types_to_exclude": [
    "module",
    "function",
    "builtin_function_or_method",
    "instance",
    "_Feature"
   ],
   "window_display": false
  },
  "vscode": {
   "interpreter": {
    "hash": "a9b78b718931f80fc5e3ab72ed521239234f1386c1c68376b39676895c1cd556"
   }
  }
 },
 "nbformat": 4,
 "nbformat_minor": 5
}
