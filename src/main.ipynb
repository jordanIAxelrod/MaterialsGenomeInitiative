{
 "cells": [
  {
   "cell_type": "markdown",
   "id": "83e2458b",
   "metadata": {},
   "source": [
    "# Import Libraries"
   ]
  },
  {
   "cell_type": "code",
   "execution_count": 3,
   "id": "a8abd43e",
   "metadata": {
    "ExecuteTime": {
     "end_time": "2022-11-19T22:02:54.951575Z",
     "start_time": "2022-11-19T22:02:53.766677Z"
    }
   },
   "outputs": [],
   "source": [
    "import pandas as pd\n",
    "import numpy as np\n",
    "\n",
    "import nltk\n",
    "\n",
    "import itertools\n",
    "\n",
    "from sentence_level_preprocess import *\n",
    "from word_level_preprocess import *\n",
    "from indexation import *\n",
    "from featurize import *\n",
    "from embeddings import Embeddings\n",
    "\n",
    "from typing import Tuple, List\n",
    "\n",
    "from sklearn.model_selection import train_test_split\n",
    "from sklearn.metrics import f1_score, confusion_matrix\n",
    "from sklearn.base import BaseEstimator\n",
    "from sklearn.model_selection import GridSearchCV, RandomizedSearchCV\n",
    "from sklearn.preprocessing import StandardScaler\n",
    "from sklearn.linear_model import LogisticRegression\n",
    "\n",
    "from scipy.stats import uniform\n",
    "\n",
    "import seaborn as sns"
   ]
  },
  {
   "cell_type": "code",
   "execution_count": 4,
   "id": "99424037",
   "metadata": {},
   "outputs": [],
   "source": [
    "numpy_records = List[Tuple]\n",
    "\n",
    "def load_data(path: str) -> numpy_records:\n",
    "    df = pd.read_csv(path, sep='\\t')\n",
    "    return df.to_records(index=False)\n",
    "\n",
    "def preprocess(data: numpy_records) -> numpy_records:\n",
    "    # remove line breaks (e.g. \"elec- tron\" -> \"electron\")\n",
    "    data = [(rm_linebreaks(t), l) for t, l in data]\n",
    "\n",
    "    # lower case\n",
    "    data = [(t.lower(), l) for t, l in data]\n",
    "\n",
    "    # unify expressions for temperature (e.g. '° c' -> '<temp>')\n",
    "    data = [(c2temp_2(t), l) for t, l in data]\n",
    "\n",
    "    data = [(nltk.tokenize.word_tokenize(t), l) for t, l in data]\n",
    "\n",
    "    # recognize integer as '<int>' (e.g. '60' -> '<int>')\n",
    "    data = [([put_int_together(w) for w in t], l) for t, l in data]\n",
    "\n",
    "    # recognize decimal as '<dec>' (e.g. '0.5' -> '<dec>')\n",
    "    data = [([put_decimal_together(w) for w in t], l) for t, l in data]\n",
    "\n",
    "    # recognize ratioas '<ratio>' (e.g. '1:1' -> '<ratio>')\n",
    "    data = [([put_ratio_together(w) for w in t], l) for t, l in data]\n",
    "\n",
    "    # split slash (e.g. 'g/mol' -> '['g', '/', 'mol'])\n",
    "    data = [([split_slash(w) for w in t], l) for t, l in data]\n",
    "    data = [(list(itertools.chain.from_iterable(t)), l) for t, l in data] # flatten\n",
    "\n",
    "    # unify expressions for temperature (e.g. '°c' -> '<temp>')\n",
    "    data = [([c2temp(w) for w in t], l) for t, l in data]\n",
    "    \n",
    "    return data\n",
    "\n",
    "def index_words(data: numpy_records):\n",
    "    texts   = [x[0] for x in data]\n",
    "    targets = [[x[1]] for x in data]\n",
    "    texts, vocab_size, _   = word2idx(texts)\n",
    "    targets, _, _          = word2idx(targets)\n",
    "    targets = [l[0] for l in targets]\n",
    "    data_idx = list(zip(texts, targets))\n",
    "    return (data_idx, vocab_size, targets)\n",
    "\n",
    "def BOW_featurize(data_idx, vocab_size):\n",
    "    return [(bow(t, vocab_size), l) for t, l in data_idx]\n",
    "\n",
    "# def train_val_split(data: numpy_records) -> Tuple[List[str]]:\n",
    "#     X = [t for t, _ in data]\n",
    "#     y = [l for _, l in data]\n",
    "#     X_train, X_val, y_train, y_val = train_test_split(X, y, test_size=0.2)\n",
    "#     return (X_train, X_val, y_train, y_val)\n",
    "\n",
    "def embed_one_set(embedding, X):\n",
    "    return embedding.transform(X.text.apply(lambda x: ' '.join([str(y) for y in x])))\n",
    "\n",
    "def embed(embedding, train_data, val_data):\n",
    "    return (embed_one_set(embedding, train_data), embed_one_set(embedding, val_data))\n",
    "\n",
    "def generate_embeddings(path: str, embed):\n",
    "    data_idx, vocab_size, targets = index_words(preprocess(load_data(path)))\n",
    "    X_total = pd.DataFrame(data_idx, columns=['text', 'classification'])\n",
    "    y_total = X_total.pop('classification')\n",
    "    X_train, X_val, y_train, y_val = train_test_split(X_total, y_total, test_size=0.2)\n",
    "    embeddings = Embeddings(X_train, X_val)\n",
    "    X_train, X_val = embed(embed, X_train, X_val)\n",
    "    return (X_train, X_val, y_train, y_val)\n",
    "\n",
    "def do_all_preprocess(path: str) -> Tuple[pd.DataFrame]:\n",
    "    data_idx, vocab_size, targets = index_words(preprocess(load_data(path)))\n",
    "    X_total = pd.DataFrame(data_idx, columns=['text', 'classification'])\n",
    "    y_total = X_total.pop('classification')\n",
    "    return (X_total, y_total)\n",
    "\n",
    "def generate_split(path: str):\n",
    "    X_total, y_total = do_all_preprocess(path)\n",
    "    X_train, X_val, y_train, y_val = train_test_split(X_total, y_total, test_size=0.2)\n",
    "    return (X_train, X_val, y_train, y_val)\n",
    "\n",
    "def find_avg_performance(test_model: BaseEstimator, embedding_type, num_trial = 20) -> None:\n",
    "    f1s = []\n",
    "\n",
    "    for i in range(num_trial):\n",
    "        X_train_avg, X_val_avg, y_train_avg, y_val_avg = generate_split('../data/train.tsv')\n",
    "        X_train_avg, X_val_avg = embed(embedding_type, X_train_avg, X_val_avg)\n",
    "        test_model.fit(X_train_avg, y_train_avg)\n",
    "        y_pred = test_model.predict(X_val_avg)\n",
    "        f1 = f1_score(y_val_avg, y_pred, average='micro')\n",
    "        f1s.append(f1)\n",
    "\n",
    "    print(\"mean:\", np.mean(f1s))\n",
    "    print(\"std :\", np.std(f1s))\n",
    "\n",
    "def to_scaled_embeds(X_train, X_val, embed_type, dense=True):\n",
    "    X_train, X_val = embed(embed_type, X_train, X_val)\n",
    "    if dense:\n",
    "        X_train = X_train.todense()\n",
    "        X_val = X_val.todense()\n",
    "    X_train = StandardScaler().fit_transform(X_train)\n",
    "    X_val = StandardScaler().fit_transform(X_val)\n",
    "    return (X_train, X_val)\n",
    "\n",
    "def scale_embed(X, embed_type, dense=True):\n",
    "    X = embed_one_set(embed_type, X)\n",
    "    if dense:\n",
    "        X = X.todense()\n",
    "    X = StandardScaler().fit_transform(X)\n",
    "    return X\n",
    "\n",
    "def find_test_performance(model, embed_type, dense=True):\n",
    "    X_test, y_test = do_all_preprocess('../data/test.tsv')\n",
    "    X_test = scale_embed(X_test, embed_type, dense)\n",
    "    preds = model.predict(X_test)\n",
    "    sns.heatmap(confusion_matrix(y_test, preds), annot=True)\n",
    "    return f1_score(y_test, preds, average='micro')\n"
   ]
  },
  {
   "cell_type": "code",
   "execution_count": 125,
   "id": "7cda21f7",
   "metadata": {},
   "outputs": [],
   "source": [
    "X_train, X_val, y_train, y_val = generate_split('../data/train.tsv')\n",
    "\n",
    "total_train = do_all_preprocess('../data/train.tsv')\n",
    "total_test = do_all_preprocess('../data/test.tsv')\n",
    "embeddings = Embeddings(total_train[0].text, total_test[0].text)"
   ]
  },
  {
   "attachments": {},
   "cell_type": "markdown",
   "id": "17ad82a4",
   "metadata": {},
   "source": [
    "### BOW Data\n",
    "\n",
    "Uncomment **one** of these three cells to experiment with that type of word-representation."
   ]
  },
  {
   "cell_type": "code",
   "execution_count": 126,
   "id": "776b6c59",
   "metadata": {},
   "outputs": [
    {
     "name": "stderr",
     "output_type": "stream",
     "text": [
      "/home/ldtcoop/miniconda3/envs/pollydarton/lib/python3.9/site-packages/sklearn/utils/validation.py:727: FutureWarning: np.matrix usage is deprecated in 1.0 and will raise a TypeError in 1.2. Please convert to a numpy array with np.asarray. For more information see: https://numpy.org/doc/stable/reference/generated/numpy.matrix.html\n",
      "  warnings.warn(\n",
      "/home/ldtcoop/miniconda3/envs/pollydarton/lib/python3.9/site-packages/sklearn/utils/validation.py:727: FutureWarning: np.matrix usage is deprecated in 1.0 and will raise a TypeError in 1.2. Please convert to a numpy array with np.asarray. For more information see: https://numpy.org/doc/stable/reference/generated/numpy.matrix.html\n",
      "  warnings.warn(\n",
      "/home/ldtcoop/miniconda3/envs/pollydarton/lib/python3.9/site-packages/sklearn/utils/validation.py:727: FutureWarning: np.matrix usage is deprecated in 1.0 and will raise a TypeError in 1.2. Please convert to a numpy array with np.asarray. For more information see: https://numpy.org/doc/stable/reference/generated/numpy.matrix.html\n",
      "  warnings.warn(\n",
      "/home/ldtcoop/miniconda3/envs/pollydarton/lib/python3.9/site-packages/sklearn/utils/validation.py:727: FutureWarning: np.matrix usage is deprecated in 1.0 and will raise a TypeError in 1.2. Please convert to a numpy array with np.asarray. For more information see: https://numpy.org/doc/stable/reference/generated/numpy.matrix.html\n",
      "  warnings.warn(\n"
     ]
    }
   ],
   "source": [
    "embed_type = embeddings.BOW()\n",
    "X_train, X_val = to_scaled_embeds(X_train, X_val, embed_type, dense=True)"
   ]
  },
  {
   "cell_type": "markdown",
   "id": "9571148e",
   "metadata": {},
   "source": [
    "### TF-IDF Data"
   ]
  },
  {
   "cell_type": "code",
   "execution_count": 120,
   "id": "5cbb5473",
   "metadata": {},
   "outputs": [],
   "source": [
    "# embed_type = embeddings.TFIDF()\n",
    "# X_train, X_val = to_scaled_embeds(X_train, X_val, embed_type, dense=True)"
   ]
  },
  {
   "cell_type": "markdown",
   "id": "5d09e700",
   "metadata": {},
   "source": [
    "### word2vec Data"
   ]
  },
  {
   "cell_type": "code",
   "execution_count": 121,
   "id": "7caa4b33",
   "metadata": {},
   "outputs": [],
   "source": [
    "# embed_type = embeddings.word2vec()\n",
    "# X_train, X_val = to_scaled_embeds(X_train, X_val, embed_type, dense=False)"
   ]
  },
  {
   "cell_type": "markdown",
   "id": "e881f4fe",
   "metadata": {},
   "source": [
    "# Learn Classifiers"
   ]
  },
  {
   "cell_type": "markdown",
   "id": "eaf06951",
   "metadata": {},
   "source": [
    "## Logistic regression"
   ]
  },
  {
   "cell_type": "code",
   "execution_count": 139,
   "id": "a61ec758",
   "metadata": {
    "ExecuteTime": {
     "end_time": "2022-11-19T22:02:56.451369Z",
     "start_time": "2022-11-19T22:02:55.833269Z"
    }
   },
   "outputs": [
    {
     "name": "stderr",
     "output_type": "stream",
     "text": [
      "/home/ldtcoop/miniconda3/envs/pollydarton/lib/python3.9/site-packages/sklearn/linear_model/_logistic.py:444: ConvergenceWarning: lbfgs failed to converge (status=1):\n",
      "STOP: TOTAL NO. of ITERATIONS REACHED LIMIT.\n",
      "\n",
      "Increase the number of iterations (max_iter) or scale the data as shown in:\n",
      "    https://scikit-learn.org/stable/modules/preprocessing.html\n",
      "Please also refer to the documentation for alternative solver options:\n",
      "    https://scikit-learn.org/stable/modules/linear_model.html#logistic-regression\n",
      "  n_iter_i = _check_optimize_result(\n"
     ]
    },
    {
     "data": {
      "text/plain": [
       "0.995850622406639"
      ]
     },
     "execution_count": 139,
     "metadata": {},
     "output_type": "execute_result"
    }
   ],
   "source": [
    "lr_model = LogisticRegression(penalty='l2', max_iter=5000)\n",
    "lr_model.fit(X_train, y_train)\n",
    "\n",
    "f1_score(y_train, lr_model.predict(X_train), average='micro')"
   ]
  },
  {
   "cell_type": "markdown",
   "id": "662f746a",
   "metadata": {},
   "source": [
    "### Confusion matrix"
   ]
  },
  {
   "cell_type": "code",
   "execution_count": 129,
   "id": "68e48951",
   "metadata": {
    "ExecuteTime": {
     "end_time": "2022-11-19T22:02:57.967075Z",
     "start_time": "2022-11-19T22:02:57.924990Z"
    }
   },
   "outputs": [],
   "source": [
    "y_pred = lr_model.predict(X_val)\n",
    "cm = confusion_matrix(y_val, y_pred)"
   ]
  },
  {
   "cell_type": "code",
   "execution_count": 130,
   "id": "23a24ebc",
   "metadata": {
    "ExecuteTime": {
     "end_time": "2022-11-19T22:02:58.321837Z",
     "start_time": "2022-11-19T22:02:57.970701Z"
    }
   },
   "outputs": [
    {
     "data": {
      "text/plain": [
       "<AxesSubplot:>"
      ]
     },
     "execution_count": 130,
     "metadata": {},
     "output_type": "execute_result"
    },
    {
     "data": {
      "image/png": "[encoded data removed]",
      "text/plain": [
       "<Figure size 640x480 with 2 Axes>"
      ]
     },
     "metadata": {},
     "output_type": "display_data"
    }
   ],
   "source": [
    "sns.heatmap(cm, annot=True)"
   ]
  },
  {
   "cell_type": "code",
   "execution_count": 131,
   "id": "c3a1e03e",
   "metadata": {
    "ExecuteTime": {
     "end_time": "2022-11-19T22:02:58.530209Z",
     "start_time": "2022-11-19T22:02:58.326281Z"
    }
   },
   "outputs": [
    {
     "data": {
      "text/plain": [
       "<AxesSubplot:>"
      ]
     },
     "execution_count": 131,
     "metadata": {},
     "output_type": "execute_result"
    },
    {
     "data": {
      "image/png": "[encoded data removed]",
      "text/plain": [
       "<Figure size 640x480 with 2 Axes>"
      ]
     },
     "metadata": {},
     "output_type": "display_data"
    }
   ],
   "source": [
    "sns.heatmap(cm / np.tile(np.sum(cm, axis=1), (4, 1)).T, annot=True)"
   ]
  },
  {
   "cell_type": "markdown",
   "id": "1b14c934",
   "metadata": {},
   "source": [
    "### Average performance"
   ]
  },
  {
   "cell_type": "code",
   "execution_count": 132,
   "id": "44992816",
   "metadata": {
    "ExecuteTime": {
     "end_time": "2022-11-19T22:03:10.534357Z",
     "start_time": "2022-11-19T22:02:58.552332Z"
    }
   },
   "outputs": [
    {
     "name": "stdout",
     "output_type": "stream",
     "text": [
      "mean: 0.8403314917127072\n",
      "std : 0.028542743321744703\n"
     ]
    }
   ],
   "source": [
    "find_avg_performance(LogisticRegression(max_iter=10000), embed_type)"
   ]
  },
  {
   "cell_type": "code",
   "execution_count": 133,
   "id": "899d4555",
   "metadata": {},
   "outputs": [
    {
     "name": "stderr",
     "output_type": "stream",
     "text": [
      "/home/ldtcoop/miniconda3/envs/pollydarton/lib/python3.9/site-packages/sklearn/utils/validation.py:727: FutureWarning: np.matrix usage is deprecated in 1.0 and will raise a TypeError in 1.2. Please convert to a numpy array with np.asarray. For more information see: https://numpy.org/doc/stable/reference/generated/numpy.matrix.html\n",
      "  warnings.warn(\n",
      "/home/ldtcoop/miniconda3/envs/pollydarton/lib/python3.9/site-packages/sklearn/utils/validation.py:727: FutureWarning: np.matrix usage is deprecated in 1.0 and will raise a TypeError in 1.2. Please convert to a numpy array with np.asarray. For more information see: https://numpy.org/doc/stable/reference/generated/numpy.matrix.html\n",
      "  warnings.warn(\n"
     ]
    },
    {
     "data": {
      "text/plain": [
       "0.5726872246696035"
      ]
     },
     "execution_count": 133,
     "metadata": {},
     "output_type": "execute_result"
    },
    {
     "data": {
      "image/png": "[encoded data removed]",
      "text/plain": [
       "<Figure size 640x480 with 2 Axes>"
      ]
     },
     "metadata": {},
     "output_type": "display_data"
    }
   ],
   "source": [
    "find_test_performance(lr_model, embed_type, True)"
   ]
  },
  {
   "cell_type": "markdown",
   "id": "68853fcd",
   "metadata": {},
   "source": [
    "### Hyperparameter Tuning"
   ]
  },
  {
   "cell_type": "code",
   "execution_count": 134,
   "id": "b3b3daa0",
   "metadata": {},
   "outputs": [
    {
     "data": {
      "text/html": [
       "<style>#sk-container-id-6 {color: black;background-color: white;}#sk-container-id-6 pre{padding: 0;}#sk-container-id-6 div.sk-toggleable {background-color: white;}#sk-container-id-6 label.sk-toggleable__label {cursor: pointer;display: block;width: 100%;margin-bottom: 0;padding: 0.3em;box-sizing: border-box;text-align: center;}#sk-container-id-6 label.sk-toggleable__label-arrow:before {content: \"▸\";float: left;margin-right: 0.25em;color: #696969;}#sk-container-id-6 label.sk-toggleable__label-arrow:hover:before {color: black;}#sk-container-id-6 div.sk-estimator:hover label.sk-toggleable__label-arrow:before {color: black;}#sk-container-id-6 div.sk-toggleable__content {max-height: 0;max-width: 0;overflow: hidden;text-align: left;background-color: #f0f8ff;}#sk-container-id-6 div.sk-toggleable__content pre {margin: 0.2em;color: black;border-radius: 0.25em;background-color: #f0f8ff;}#sk-container-id-6 input.sk-toggleable__control:checked~div.sk-toggleable__content {max-height: 200px;max-width: 100%;overflow: auto;}#sk-container-id-6 input.sk-toggleable__control:checked~label.sk-toggleable__label-arrow:before {content: \"▾\";}#sk-container-id-6 div.sk-estimator input.sk-toggleable__control:checked~label.sk-toggleable__label {background-color: #d4ebff;}#sk-container-id-6 div.sk-label input.sk-toggleable__control:checked~label.sk-toggleable__label {background-color: #d4ebff;}#sk-container-id-6 input.sk-hidden--visually {border: 0;clip: rect(1px 1px 1px 1px);clip: rect(1px, 1px, 1px, 1px);height: 1px;margin: -1px;overflow: hidden;padding: 0;position: absolute;width: 1px;}#sk-container-id-6 div.sk-estimator {font-family: monospace;background-color: #f0f8ff;border: 1px dotted black;border-radius: 0.25em;box-sizing: border-box;margin-bottom: 0.5em;}#sk-container-id-6 div.sk-estimator:hover {background-color: #d4ebff;}#sk-container-id-6 div.sk-parallel-item::after {content: \"\";width: 100%;border-bottom: 1px solid gray;flex-grow: 1;}#sk-container-id-6 div.sk-label:hover label.sk-toggleable__label {background-color: #d4ebff;}#sk-container-id-6 div.sk-serial::before {content: \"\";position: absolute;border-left: 1px solid gray;box-sizing: border-box;top: 0;bottom: 0;left: 50%;z-index: 0;}#sk-container-id-6 div.sk-serial {display: flex;flex-direction: column;align-items: center;background-color: white;padding-right: 0.2em;padding-left: 0.2em;position: relative;}#sk-container-id-6 div.sk-item {position: relative;z-index: 1;}#sk-container-id-6 div.sk-parallel {display: flex;align-items: stretch;justify-content: center;background-color: white;position: relative;}#sk-container-id-6 div.sk-item::before, #sk-container-id-6 div.sk-parallel-item::before {content: \"\";position: absolute;border-left: 1px solid gray;box-sizing: border-box;top: 0;bottom: 0;left: 50%;z-index: -1;}#sk-container-id-6 div.sk-parallel-item {display: flex;flex-direction: column;z-index: 1;position: relative;background-color: white;}#sk-container-id-6 div.sk-parallel-item:first-child::after {align-self: flex-end;width: 50%;}#sk-container-id-6 div.sk-parallel-item:last-child::after {align-self: flex-start;width: 50%;}#sk-container-id-6 div.sk-parallel-item:only-child::after {width: 0;}#sk-container-id-6 div.sk-dashed-wrapped {border: 1px dashed gray;margin: 0 0.4em 0.5em 0.4em;box-sizing: border-box;padding-bottom: 0.4em;background-color: white;}#sk-container-id-6 div.sk-label label {font-family: monospace;font-weight: bold;display: inline-block;line-height: 1.2em;}#sk-container-id-6 div.sk-label-container {text-align: center;}#sk-container-id-6 div.sk-container {/* jupyter's `normalize.less` sets `[hidden] { display: none; }` but bootstrap.min.css set `[hidden] { display: none !important; }` so we also need the `!important` here to be able to override the default hidden behavior on the sphinx rendered scikit-learn.org. See: https://github.com/scikit-learn/scikit-learn/issues/21755 */display: inline-block !important;position: relative;}#sk-container-id-6 div.sk-text-repr-fallback {display: none;}</style><div id=\"sk-container-id-6\" class=\"sk-top-container\"><div class=\"sk-text-repr-fallback\"><pre>RandomizedSearchCV(estimator=LogisticRegression(max_iter=30000), n_jobs=-1,\n",
       "                   param_distributions={&#x27;C&#x27;: &lt;scipy.stats._distn_infrastructure.rv_continuous_frozen object at 0x7f69bbdf1d00&gt;,\n",
       "                                        &#x27;class_weight&#x27;: [None, &#x27;balanced&#x27;]},\n",
       "                   scoring=&#x27;f1_micro&#x27;)</pre><b>In a Jupyter environment, please rerun this cell to show the HTML representation or trust the notebook. <br />On GitHub, the HTML representation is unable to render, please try loading this page with nbviewer.org.</b></div><div class=\"sk-container\" hidden><div class=\"sk-item sk-dashed-wrapped\"><div class=\"sk-label-container\"><div class=\"sk-label sk-toggleable\"><input class=\"sk-toggleable__control sk-hidden--visually\" id=\"sk-estimator-id-14\" type=\"checkbox\" ><label for=\"sk-estimator-id-14\" class=\"sk-toggleable__label sk-toggleable__label-arrow\">RandomizedSearchCV</label><div class=\"sk-toggleable__content\"><pre>RandomizedSearchCV(estimator=LogisticRegression(max_iter=30000), n_jobs=-1,\n",
       "                   param_distributions={&#x27;C&#x27;: &lt;scipy.stats._distn_infrastructure.rv_continuous_frozen object at 0x7f69bbdf1d00&gt;,\n",
       "                                        &#x27;class_weight&#x27;: [None, &#x27;balanced&#x27;]},\n",
       "                   scoring=&#x27;f1_micro&#x27;)</pre></div></div></div><div class=\"sk-parallel\"><div class=\"sk-parallel-item\"><div class=\"sk-item\"><div class=\"sk-label-container\"><div class=\"sk-label sk-toggleable\"><input class=\"sk-toggleable__control sk-hidden--visually\" id=\"sk-estimator-id-15\" type=\"checkbox\" ><label for=\"sk-estimator-id-15\" class=\"sk-toggleable__label sk-toggleable__label-arrow\">estimator: LogisticRegression</label><div class=\"sk-toggleable__content\"><pre>LogisticRegression(max_iter=30000)</pre></div></div></div><div class=\"sk-serial\"><div class=\"sk-item\"><div class=\"sk-estimator sk-toggleable\"><input class=\"sk-toggleable__control sk-hidden--visually\" id=\"sk-estimator-id-16\" type=\"checkbox\" ><label for=\"sk-estimator-id-16\" class=\"sk-toggleable__label sk-toggleable__label-arrow\">LogisticRegression</label><div class=\"sk-toggleable__content\"><pre>LogisticRegression(max_iter=30000)</pre></div></div></div></div></div></div></div></div></div></div>"
      ],
      "text/plain": [
       "RandomizedSearchCV(estimator=LogisticRegression(max_iter=30000), n_jobs=-1,\n",
       "                   param_distributions={'C': <scipy.stats._distn_infrastructure.rv_continuous_frozen object at 0x7f69bbdf1d00>,\n",
       "                                        'class_weight': [None, 'balanced']},\n",
       "                   scoring='f1_micro')"
      ]
     },
     "execution_count": 134,
     "metadata": {},
     "output_type": "execute_result"
    }
   ],
   "source": [
    "param_grid_lr = {\n",
    "    'C': uniform(0.001, 1000),\n",
    "     'class_weight': [None, 'balanced']\n",
    "}\n",
    "\n",
    "lr2_grid = RandomizedSearchCV(\n",
    "    LogisticRegression(max_iter=30000), \n",
    "    param_distributions=param_grid_lr, \n",
    "    n_jobs=-1, \n",
    "    scoring='f1_micro'\n",
    ")\n",
    "lr2_grid.fit(X_train, y_train)"
   ]
  },
  {
   "cell_type": "code",
   "execution_count": 136,
   "id": "bd0507b9",
   "metadata": {},
   "outputs": [
    {
     "ename": "KeyboardInterrupt",
     "evalue": "",
     "output_type": "error",
     "traceback": [
      "\u001b[0;31m---------------------------------------------------------------------------\u001b[0m",
      "\u001b[0;31mKeyboardInterrupt\u001b[0m                         Traceback (most recent call last)",
      "Cell \u001b[0;32mIn [136], line 1\u001b[0m\n\u001b[0;32m----> 1\u001b[0m find_avg_performance(lr2_grid, embed_type)\n",
      "Cell \u001b[0;32mIn [124], line 87\u001b[0m, in \u001b[0;36mfind_avg_performance\u001b[0;34m(test_model, embedding_type, num_trial)\u001b[0m\n\u001b[1;32m     85\u001b[0m X_train_avg, X_val_avg, y_train_avg, y_val_avg \u001b[39m=\u001b[39m generate_split(\u001b[39m'\u001b[39m\u001b[39m../data/train.tsv\u001b[39m\u001b[39m'\u001b[39m)\n\u001b[1;32m     86\u001b[0m X_train_avg, X_val_avg \u001b[39m=\u001b[39m embed(embedding_type, X_train_avg, X_val_avg)\n\u001b[0;32m---> 87\u001b[0m test_model\u001b[39m.\u001b[39;49mfit(X_train_avg, y_train_avg)\n\u001b[1;32m     88\u001b[0m y_pred \u001b[39m=\u001b[39m test_model\u001b[39m.\u001b[39mpredict(X_val_avg)\n\u001b[1;32m     89\u001b[0m f1 \u001b[39m=\u001b[39m f1_score(y_val_avg, y_pred, average\u001b[39m=\u001b[39m\u001b[39m'\u001b[39m\u001b[39mmicro\u001b[39m\u001b[39m'\u001b[39m)\n",
      "File \u001b[0;32m~/miniconda3/envs/pollydarton/lib/python3.9/site-packages/sklearn/model_selection/_search.py:875\u001b[0m, in \u001b[0;36mBaseSearchCV.fit\u001b[0;34m(self, X, y, groups, **fit_params)\u001b[0m\n\u001b[1;32m    869\u001b[0m     results \u001b[39m=\u001b[39m \u001b[39mself\u001b[39m\u001b[39m.\u001b[39m_format_results(\n\u001b[1;32m    870\u001b[0m         all_candidate_params, n_splits, all_out, all_more_results\n\u001b[1;32m    871\u001b[0m     )\n\u001b[1;32m    873\u001b[0m     \u001b[39mreturn\u001b[39;00m results\n\u001b[0;32m--> 875\u001b[0m \u001b[39mself\u001b[39;49m\u001b[39m.\u001b[39;49m_run_search(evaluate_candidates)\n\u001b[1;32m    877\u001b[0m \u001b[39m# multimetric is determined here because in the case of a callable\u001b[39;00m\n\u001b[1;32m    878\u001b[0m \u001b[39m# self.scoring the return type is only known after calling\u001b[39;00m\n\u001b[1;32m    879\u001b[0m first_test_score \u001b[39m=\u001b[39m all_out[\u001b[39m0\u001b[39m][\u001b[39m\"\u001b[39m\u001b[39mtest_scores\u001b[39m\u001b[39m\"\u001b[39m]\n",
      "File \u001b[0;32m~/miniconda3/envs/pollydarton/lib/python3.9/site-packages/sklearn/model_selection/_search.py:1753\u001b[0m, in \u001b[0;36mRandomizedSearchCV._run_search\u001b[0;34m(self, evaluate_candidates)\u001b[0m\n\u001b[1;32m   1751\u001b[0m \u001b[39mdef\u001b[39;00m \u001b[39m_run_search\u001b[39m(\u001b[39mself\u001b[39m, evaluate_candidates):\n\u001b[1;32m   1752\u001b[0m     \u001b[39m\"\"\"Search n_iter candidates from param_distributions\"\"\"\u001b[39;00m\n\u001b[0;32m-> 1753\u001b[0m     evaluate_candidates(\n\u001b[1;32m   1754\u001b[0m         ParameterSampler(\n\u001b[1;32m   1755\u001b[0m             \u001b[39mself\u001b[39;49m\u001b[39m.\u001b[39;49mparam_distributions, \u001b[39mself\u001b[39;49m\u001b[39m.\u001b[39;49mn_iter, random_state\u001b[39m=\u001b[39;49m\u001b[39mself\u001b[39;49m\u001b[39m.\u001b[39;49mrandom_state\n\u001b[1;32m   1756\u001b[0m         )\n\u001b[1;32m   1757\u001b[0m     )\n",
      "File \u001b[0;32m~/miniconda3/envs/pollydarton/lib/python3.9/site-packages/sklearn/model_selection/_search.py:822\u001b[0m, in \u001b[0;36mBaseSearchCV.fit.<locals>.evaluate_candidates\u001b[0;34m(candidate_params, cv, more_results)\u001b[0m\n\u001b[1;32m    814\u001b[0m \u001b[39mif\u001b[39;00m \u001b[39mself\u001b[39m\u001b[39m.\u001b[39mverbose \u001b[39m>\u001b[39m \u001b[39m0\u001b[39m:\n\u001b[1;32m    815\u001b[0m     \u001b[39mprint\u001b[39m(\n\u001b[1;32m    816\u001b[0m         \u001b[39m\"\u001b[39m\u001b[39mFitting \u001b[39m\u001b[39m{0}\u001b[39;00m\u001b[39m folds for each of \u001b[39m\u001b[39m{1}\u001b[39;00m\u001b[39m candidates,\u001b[39m\u001b[39m\"\u001b[39m\n\u001b[1;32m    817\u001b[0m         \u001b[39m\"\u001b[39m\u001b[39m totalling \u001b[39m\u001b[39m{2}\u001b[39;00m\u001b[39m fits\u001b[39m\u001b[39m\"\u001b[39m\u001b[39m.\u001b[39mformat(\n\u001b[1;32m    818\u001b[0m             n_splits, n_candidates, n_candidates \u001b[39m*\u001b[39m n_splits\n\u001b[1;32m    819\u001b[0m         )\n\u001b[1;32m    820\u001b[0m     )\n\u001b[0;32m--> 822\u001b[0m out \u001b[39m=\u001b[39m parallel(\n\u001b[1;32m    823\u001b[0m     delayed(_fit_and_score)(\n\u001b[1;32m    824\u001b[0m         clone(base_estimator),\n\u001b[1;32m    825\u001b[0m         X,\n\u001b[1;32m    826\u001b[0m         y,\n\u001b[1;32m    827\u001b[0m         train\u001b[39m=\u001b[39;49mtrain,\n\u001b[1;32m    828\u001b[0m         test\u001b[39m=\u001b[39;49mtest,\n\u001b[1;32m    829\u001b[0m         parameters\u001b[39m=\u001b[39;49mparameters,\n\u001b[1;32m    830\u001b[0m         split_progress\u001b[39m=\u001b[39;49m(split_idx, n_splits),\n\u001b[1;32m    831\u001b[0m         candidate_progress\u001b[39m=\u001b[39;49m(cand_idx, n_candidates),\n\u001b[1;32m    832\u001b[0m         \u001b[39m*\u001b[39;49m\u001b[39m*\u001b[39;49mfit_and_score_kwargs,\n\u001b[1;32m    833\u001b[0m     )\n\u001b[1;32m    834\u001b[0m     \u001b[39mfor\u001b[39;49;00m (cand_idx, parameters), (split_idx, (train, test)) \u001b[39min\u001b[39;49;00m product(\n\u001b[1;32m    835\u001b[0m         \u001b[39menumerate\u001b[39;49m(candidate_params), \u001b[39menumerate\u001b[39;49m(cv\u001b[39m.\u001b[39;49msplit(X, y, groups))\n\u001b[1;32m    836\u001b[0m     )\n\u001b[1;32m    837\u001b[0m )\n\u001b[1;32m    839\u001b[0m \u001b[39mif\u001b[39;00m \u001b[39mlen\u001b[39m(out) \u001b[39m<\u001b[39m \u001b[39m1\u001b[39m:\n\u001b[1;32m    840\u001b[0m     \u001b[39mraise\u001b[39;00m \u001b[39mValueError\u001b[39;00m(\n\u001b[1;32m    841\u001b[0m         \u001b[39m\"\u001b[39m\u001b[39mNo fits were performed. \u001b[39m\u001b[39m\"\u001b[39m\n\u001b[1;32m    842\u001b[0m         \u001b[39m\"\u001b[39m\u001b[39mWas the CV iterator empty? \u001b[39m\u001b[39m\"\u001b[39m\n\u001b[1;32m    843\u001b[0m         \u001b[39m\"\u001b[39m\u001b[39mWere there no candidates?\u001b[39m\u001b[39m\"\u001b[39m\n\u001b[1;32m    844\u001b[0m     )\n",
      "File \u001b[0;32m~/miniconda3/envs/pollydarton/lib/python3.9/site-packages/joblib/parallel.py:1061\u001b[0m, in \u001b[0;36mParallel.__call__\u001b[0;34m(self, iterable)\u001b[0m\n\u001b[1;32m   1058\u001b[0m     \u001b[39mself\u001b[39m\u001b[39m.\u001b[39m_iterating \u001b[39m=\u001b[39m \u001b[39mFalse\u001b[39;00m\n\u001b[1;32m   1060\u001b[0m \u001b[39mwith\u001b[39;00m \u001b[39mself\u001b[39m\u001b[39m.\u001b[39m_backend\u001b[39m.\u001b[39mretrieval_context():\n\u001b[0;32m-> 1061\u001b[0m     \u001b[39mself\u001b[39;49m\u001b[39m.\u001b[39;49mretrieve()\n\u001b[1;32m   1062\u001b[0m \u001b[39m# Make sure that we get a last message telling us we are done\u001b[39;00m\n\u001b[1;32m   1063\u001b[0m elapsed_time \u001b[39m=\u001b[39m time\u001b[39m.\u001b[39mtime() \u001b[39m-\u001b[39m \u001b[39mself\u001b[39m\u001b[39m.\u001b[39m_start_time\n",
      "File \u001b[0;32m~/miniconda3/envs/pollydarton/lib/python3.9/site-packages/joblib/parallel.py:938\u001b[0m, in \u001b[0;36mParallel.retrieve\u001b[0;34m(self)\u001b[0m\n\u001b[1;32m    936\u001b[0m \u001b[39mtry\u001b[39;00m:\n\u001b[1;32m    937\u001b[0m     \u001b[39mif\u001b[39;00m \u001b[39mgetattr\u001b[39m(\u001b[39mself\u001b[39m\u001b[39m.\u001b[39m_backend, \u001b[39m'\u001b[39m\u001b[39msupports_timeout\u001b[39m\u001b[39m'\u001b[39m, \u001b[39mFalse\u001b[39;00m):\n\u001b[0;32m--> 938\u001b[0m         \u001b[39mself\u001b[39m\u001b[39m.\u001b[39m_output\u001b[39m.\u001b[39mextend(job\u001b[39m.\u001b[39;49mget(timeout\u001b[39m=\u001b[39;49m\u001b[39mself\u001b[39;49m\u001b[39m.\u001b[39;49mtimeout))\n\u001b[1;32m    939\u001b[0m     \u001b[39melse\u001b[39;00m:\n\u001b[1;32m    940\u001b[0m         \u001b[39mself\u001b[39m\u001b[39m.\u001b[39m_output\u001b[39m.\u001b[39mextend(job\u001b[39m.\u001b[39mget())\n",
      "File \u001b[0;32m~/miniconda3/envs/pollydarton/lib/python3.9/site-packages/joblib/_parallel_backends.py:542\u001b[0m, in \u001b[0;36mLokyBackend.wrap_future_result\u001b[0;34m(future, timeout)\u001b[0m\n\u001b[1;32m    539\u001b[0m \u001b[39m\"\"\"Wrapper for Future.result to implement the same behaviour as\u001b[39;00m\n\u001b[1;32m    540\u001b[0m \u001b[39mAsyncResults.get from multiprocessing.\"\"\"\u001b[39;00m\n\u001b[1;32m    541\u001b[0m \u001b[39mtry\u001b[39;00m:\n\u001b[0;32m--> 542\u001b[0m     \u001b[39mreturn\u001b[39;00m future\u001b[39m.\u001b[39;49mresult(timeout\u001b[39m=\u001b[39;49mtimeout)\n\u001b[1;32m    543\u001b[0m \u001b[39mexcept\u001b[39;00m CfTimeoutError \u001b[39mas\u001b[39;00m e:\n\u001b[1;32m    544\u001b[0m     \u001b[39mraise\u001b[39;00m \u001b[39mTimeoutError\u001b[39;00m \u001b[39mfrom\u001b[39;00m \u001b[39me\u001b[39;00m\n",
      "File \u001b[0;32m~/miniconda3/envs/pollydarton/lib/python3.9/concurrent/futures/_base.py:441\u001b[0m, in \u001b[0;36mFuture.result\u001b[0;34m(self, timeout)\u001b[0m\n\u001b[1;32m    438\u001b[0m \u001b[39melif\u001b[39;00m \u001b[39mself\u001b[39m\u001b[39m.\u001b[39m_state \u001b[39m==\u001b[39m FINISHED:\n\u001b[1;32m    439\u001b[0m     \u001b[39mreturn\u001b[39;00m \u001b[39mself\u001b[39m\u001b[39m.\u001b[39m__get_result()\n\u001b[0;32m--> 441\u001b[0m \u001b[39mself\u001b[39;49m\u001b[39m.\u001b[39;49m_condition\u001b[39m.\u001b[39;49mwait(timeout)\n\u001b[1;32m    443\u001b[0m \u001b[39mif\u001b[39;00m \u001b[39mself\u001b[39m\u001b[39m.\u001b[39m_state \u001b[39min\u001b[39;00m [CANCELLED, CANCELLED_AND_NOTIFIED]:\n\u001b[1;32m    444\u001b[0m     \u001b[39mraise\u001b[39;00m CancelledError()\n",
      "File \u001b[0;32m~/miniconda3/envs/pollydarton/lib/python3.9/threading.py:312\u001b[0m, in \u001b[0;36mCondition.wait\u001b[0;34m(self, timeout)\u001b[0m\n\u001b[1;32m    310\u001b[0m \u001b[39mtry\u001b[39;00m:    \u001b[39m# restore state no matter what (e.g., KeyboardInterrupt)\u001b[39;00m\n\u001b[1;32m    311\u001b[0m     \u001b[39mif\u001b[39;00m timeout \u001b[39mis\u001b[39;00m \u001b[39mNone\u001b[39;00m:\n\u001b[0;32m--> 312\u001b[0m         waiter\u001b[39m.\u001b[39;49macquire()\n\u001b[1;32m    313\u001b[0m         gotit \u001b[39m=\u001b[39m \u001b[39mTrue\u001b[39;00m\n\u001b[1;32m    314\u001b[0m     \u001b[39melse\u001b[39;00m:\n",
      "\u001b[0;31mKeyboardInterrupt\u001b[0m: "
     ]
    }
   ],
   "source": [
    "find_avg_performance(lr2_grid, embed_type)"
   ]
  },
  {
   "cell_type": "code",
   "execution_count": 137,
   "id": "f426a0e8",
   "metadata": {},
   "outputs": [
    {
     "data": {
      "text/plain": [
       "<AxesSubplot:>"
      ]
     },
     "execution_count": 137,
     "metadata": {},
     "output_type": "execute_result"
    },
    {
     "data": {
      "image/png": "[encoded data removed]",
      "text/plain": [
       "<Figure size 640x480 with 2 Axes>"
      ]
     },
     "metadata": {},
     "output_type": "display_data"
    }
   ],
   "source": [
    "y_pred = lr2_grid.predict(X_val)\n",
    "cm = confusion_matrix(y_val, y_pred)\n",
    "sns.heatmap(cm, annot=True)"
   ]
  },
  {
   "cell_type": "code",
   "execution_count": 138,
   "id": "cc47f1c3",
   "metadata": {},
   "outputs": [
    {
     "name": "stderr",
     "output_type": "stream",
     "text": [
      "/home/ldtcoop/miniconda3/envs/pollydarton/lib/python3.9/site-packages/sklearn/utils/validation.py:727: FutureWarning: np.matrix usage is deprecated in 1.0 and will raise a TypeError in 1.2. Please convert to a numpy array with np.asarray. For more information see: https://numpy.org/doc/stable/reference/generated/numpy.matrix.html\n",
      "  warnings.warn(\n",
      "/home/ldtcoop/miniconda3/envs/pollydarton/lib/python3.9/site-packages/sklearn/utils/validation.py:727: FutureWarning: np.matrix usage is deprecated in 1.0 and will raise a TypeError in 1.2. Please convert to a numpy array with np.asarray. For more information see: https://numpy.org/doc/stable/reference/generated/numpy.matrix.html\n",
      "  warnings.warn(\n"
     ]
    },
    {
     "data": {
      "text/plain": [
       "0.33480176211453744"
      ]
     },
     "execution_count": 138,
     "metadata": {},
     "output_type": "execute_result"
    },
    {
     "data": {
      "image/png": "[encoded data removed]",
      "text/plain": [
       "<Figure size 640x480 with 2 Axes>"
      ]
     },
     "metadata": {},
     "output_type": "display_data"
    }
   ],
   "source": [
    "find_test_performance(lr2_grid, embed_type, True)"
   ]
  },
  {
   "cell_type": "markdown",
   "id": "c6424d4f",
   "metadata": {},
   "source": [
    "## SVM"
   ]
  },
  {
   "cell_type": "code",
   "execution_count": 81,
   "id": "740f0f80",
   "metadata": {},
   "outputs": [],
   "source": [
    "from sklearn.svm import SVC, LinearSVC\n",
    "\n",
    "def get_kernel(model) -> str:\n",
    "    params = model.get_params()\n",
    "    return model.get_params()['kernel'] if ('kernel' in params) else 'linear'\n",
    "\n",
    "def evaluate_svm(model, X, y):\n",
    "    y_pred_train = model.predict(X)\n",
    "    cm = confusion_matrix(y, y_pred)\n",
    "    sns.heatmap(cm, annot=True)\n",
    "    kernel = get_kernel(model)\n",
    "    print(f'F1 Score (test, {kernel}): {model.score(X, y)}')\n",
    "\n",
    "def train_svm(model, X, y):\n",
    "    model.fit(X, y)\n",
    "    print(f'F1 Score (train, {get_kernel(model)}): {model.score(X, y)}')\n",
    "\n",
    "def tune_svm(model, grid, X, y): \n",
    "    model_grid = RandomizedSearchCV(model, grid, refit=True, n_jobs=-1, scoring='f1_micro')\n",
    "    model_grid.fit(X_train, y_train)\n",
    "    print(f'F1 Score (train, {get_kernel(model)}): {model_grid.score(X, y)}')\n",
    "    return model_grid"
   ]
  },
  {
   "cell_type": "code",
   "execution_count": 82,
   "id": "a0882153",
   "metadata": {},
   "outputs": [
    {
     "name": "stdout",
     "output_type": "stream",
     "text": [
      "F1 Score (train, rbf): 0.9820193637621023\n",
      "F1 Score (train, sigmoid): 0.9225449515905948\n"
     ]
    }
   ],
   "source": [
    "lin_svm = LinearSVC(max_iter=10000)\n",
    "poly_svm = SVC(kernel='poly', cache_size=500)\n",
    "rbf_svm = SVC(kernel='rbf', cache_size=500)\n",
    "sigmoid_svm = SVC(kernel='sigmoid', cache_size=500)\n",
    "\n",
    "train_svm(rbf_svm, X_train, y_train)\n",
    "train_svm(sigmoid_svm, X_train, y_train)"
   ]
  },
  {
   "cell_type": "code",
   "execution_count": 83,
   "id": "8a97d0a0",
   "metadata": {},
   "outputs": [
    {
     "name": "stdout",
     "output_type": "stream",
     "text": [
      "F1 Score (train, rbf): 0.9930843706777317\n",
      "F1 Score (train, sigmoid): 0.9944674965421854\n"
     ]
    }
   ],
   "source": [
    "from scipy.stats import randint, uniform\n",
    "\n",
    "poly_grid = {\n",
    "    'C': uniform(1e-4, 1e4),\n",
    "    'degree': [3,4,5,6,7,8],\n",
    "    'gamma': uniform(1e-5, 1),\n",
    "    'coef0': uniform(0,1),\n",
    "    'class_weight': [None, 'balanced']\n",
    "}\n",
    "\n",
    "rbf_grid = {\n",
    "    'C': uniform(1e-4, 1e4),\n",
    "    'gamma': uniform(1e-5, 1),\n",
    "    'class_weight': [None, 'balanced']\n",
    "}\n",
    "\n",
    "tuned_rbf = tune_svm(rbf_svm, rbf_grid, X_train, y_train)\n",
    "tuned_sig = tune_svm(sigmoid_svm, poly_grid, X_train, y_train)\n"
   ]
  },
  {
   "cell_type": "code",
   "execution_count": 84,
   "id": "de407cd2",
   "metadata": {},
   "outputs": [
    {
     "name": "stdout",
     "output_type": "stream",
     "text": [
      "RBF SVM\n",
      "mean: 0.8370165745856353\n",
      "std : 0.02430311320212459\n",
      "Sigmoid SVM\n",
      "mean: 0.8314917127071825\n",
      "std : 0.026293931567493458\n"
     ]
    }
   ],
   "source": [
    "print('RBF SVM')\n",
    "find_avg_performance(tuned_rbf.best_estimator_, embed_type)\n",
    "\n",
    "print('Sigmoid SVM')\n",
    "find_avg_performance(tuned_sig.best_estimator_, embed_type)"
   ]
  },
  {
   "attachments": {},
   "cell_type": "markdown",
   "id": "aacf2fe7",
   "metadata": {},
   "source": [
    "## Neural Net"
   ]
  },
  {
   "cell_type": "code",
   "execution_count": 5,
   "id": "44f635ad",
   "metadata": {},
   "outputs": [],
   "source": [
    "from neural_network import RNN, NNTrainer\n",
    "import torch\n",
    "import torch.utils.data\n",
    "\n",
    "import os\n",
    "\n",
    "import neural_network\n",
    "import DataLoader\n",
    "import indexation\n",
    "import Tokenizer"
   ]
  },
  {
   "cell_type": "code",
   "execution_count": 8,
   "id": "8df08b14",
   "metadata": {},
   "outputs": [],
   "source": [
    "main_dir = os.path.dirname('./')\n",
    "train_path = os.path.join(main_dir, '../data/new_train.tsv')\n",
    "test_path = os.path.join(main_dir, '../data/new_test.tsv')\n",
    "train = pd.read_csv(train_path, sep='\\t')\n",
    "test = pd.read_csv(test_path, sep='\\t')\n",
    "\n",
    "# preprocessing\n",
    "train = pd.DataFrame(preprocess(train.to_records(index=False)), columns=train.columns)\n",
    "test = pd.DataFrame(preprocess(test.to_records(index=False)), columns=test.columns)\n",
    "\n",
    "# tokenize\n",
    "train.text = train.text.str.join(' ').apply(Tokenizer.tokenize_text)\n",
    "test.text = test.text.str.join(' ').apply(Tokenizer.tokenize_text)\n",
    "\n",
    "# continue script\n",
    "words, num_words, word_types = indexation.word2idx(list(pd.concat([train, test]).text))\n",
    "train_words = words[:len(train)]\n",
    "test_words = words[len(train):]\n",
    "train['idx'] = train_words\n",
    "test['idx'] = test_words\n",
    "max_len = max([len(word) for word in words])\n",
    "# print(max_len) <--- change to use python logging\n",
    "train_set = DataLoader.TextDataset(train, max_len, num_words)\n",
    "test_set = DataLoader.TextDataset(test, max_len, num_words)\n",
    "train_loader = torch.utils.data.DataLoader(train_set, batch_size=10, shuffle=True)\n",
    "test_loader = torch.utils.data.DataLoader(test_set, batch_size=100, shuffle=False)\n",
    "nn_embed = neural_network.RNN(4, 50, num_words, 100, False, word_types)\n",
    "nn_w2v = neural_network.RNN(4, 50, num_words, 100, False, word_types)\n",
    "nn_w2v.set_embedding_weights()\n",
    "nn_trainer_e = neural_network.NNTrainer(\n",
    "    nn_embed,\n",
    "    5,\n",
    "    torch.optim.Adam,\n",
    "    torch.nn.CrossEntropyLoss(),\n",
    "    train_loader,\n",
    "    test_loader\n",
    ")\n",
    "nn_trainer_w = neural_network.NNTrainer(\n",
    "    nn_embed,\n",
    "    5,\n",
    "    torch.optim.Adam,\n",
    "    torch.nn.CrossEntropyLoss(),\n",
    "    train_loader,\n",
    "    test_loader\n",
    ")"
   ]
  },
  {
   "cell_type": "code",
   "execution_count": 10,
   "id": "7f9f6ec5",
   "metadata": {},
   "outputs": [
    {
     "data": {
      "text/html": [
       "<div>\n",
       "<style scoped>\n",
       "    .dataframe tbody tr th:only-of-type {\n",
       "        vertical-align: middle;\n",
       "    }\n",
       "\n",
       "    .dataframe tbody tr th {\n",
       "        vertical-align: top;\n",
       "    }\n",
       "\n",
       "    .dataframe thead th {\n",
       "        text-align: right;\n",
       "    }\n",
       "</style>\n",
       "<table border=\"1\" class=\"dataframe\">\n",
       "  <thead>\n",
       "    <tr style=\"text-align: right;\">\n",
       "      <th></th>\n",
       "      <th>text</th>\n",
       "      <th>label</th>\n",
       "      <th>idx</th>\n",
       "    </tr>\n",
       "  </thead>\n",
       "  <tbody>\n",
       "    <tr>\n",
       "      <th>0</th>\n",
       "      <td>[the, mixture, was, stirred, overnight, .]</td>\n",
       "      <td>action</td>\n",
       "      <td>[2, 42, 11, 116, 262, 5]</td>\n",
       "    </tr>\n",
       "    <tr>\n",
       "      <th>1</th>\n",
       "      <td>[sd, and, swf, were, milled, through, an, 80-m...</td>\n",
       "      <td>action</td>\n",
       "      <td>[2387, 9, 3744, 12, 2388, 157, 29, 6603, 6604,...</td>\n",
       "    </tr>\n",
       "    <tr>\n",
       "      <th>2</th>\n",
       "      <td>[prior, to, each, experiment, ,, a, suspension...</td>\n",
       "      <td>action</td>\n",
       "      <td>[221, 14, 86, 398, 3, 10, 148, 8, 2, 496, 497,...</td>\n",
       "    </tr>\n",
       "    <tr>\n",
       "      <th>3</th>\n",
       "      <td>[finally, ,, a, thin, layer, of, nafion, was, ...</td>\n",
       "      <td>action</td>\n",
       "      <td>[399, 3, 10, 263, 231, 8, 2389, 11, 370, 28, 2...</td>\n",
       "    </tr>\n",
       "    <tr>\n",
       "      <th>4</th>\n",
       "      <td>[for, the, preparation, of, the, epoxy−clay, c...</td>\n",
       "      <td>action</td>\n",
       "      <td>[16, 2, 117, 8, 2, 1364, 54, 62, 438, 3, 2, 66...</td>\n",
       "    </tr>\n",
       "    <tr>\n",
       "      <th>...</th>\n",
       "      <td>...</td>\n",
       "      <td>...</td>\n",
       "      <td>...</td>\n",
       "    </tr>\n",
       "    <tr>\n",
       "      <th>6403</th>\n",
       "      <td>[pp, homopolymer, (, pd, &lt;, int, &gt;, ,, melt, i...</td>\n",
       "      <td>property</td>\n",
       "      <td>[624, 2194, 6, 4498, 0, 4, 1, 3, 759, 726, 0, ...</td>\n",
       "    </tr>\n",
       "    <tr>\n",
       "      <th>6404</th>\n",
       "      <td>[the, gpc, measurement, showed, that, p, (, vd...</td>\n",
       "      <td>property</td>\n",
       "      <td>[2, 615, 282, 1671, 55, 346, 6, 6507, 11745, 7...</td>\n",
       "    </tr>\n",
       "    <tr>\n",
       "      <th>6405</th>\n",
       "      <td>[due, to, their, large, aspect, ratio, and, un...</td>\n",
       "      <td>property</td>\n",
       "      <td>[480, 14, 449, 738, 1275, 68, 9, 4627, 1434, 3...</td>\n",
       "    </tr>\n",
       "    <tr>\n",
       "      <th>6406</th>\n",
       "      <td>[the, nanosize, ba0.5sr0.5tio3, powder, (, sig...</td>\n",
       "      <td>property</td>\n",
       "      <td>[2, 11746, 11747, 182, 6, 6508, 1703, 2095, 3,...</td>\n",
       "    </tr>\n",
       "    <tr>\n",
       "      <th>6407</th>\n",
       "      <td>[at, critical, concentration, ,, the, thermal,...</td>\n",
       "      <td>property</td>\n",
       "      <td>[18, 1897, 131, 3, 2, 237, 436, 8, 1384, 132, ...</td>\n",
       "    </tr>\n",
       "  </tbody>\n",
       "</table>\n",
       "<p>6408 rows × 3 columns</p>\n",
       "</div>"
      ],
      "text/plain": [
       "                                                   text     label  \\\n",
       "0            [the, mixture, was, stirred, overnight, .]    action   \n",
       "1     [sd, and, swf, were, milled, through, an, 80-m...    action   \n",
       "2     [prior, to, each, experiment, ,, a, suspension...    action   \n",
       "3     [finally, ,, a, thin, layer, of, nafion, was, ...    action   \n",
       "4     [for, the, preparation, of, the, epoxy−clay, c...    action   \n",
       "...                                                 ...       ...   \n",
       "6403  [pp, homopolymer, (, pd, <, int, >, ,, melt, i...  property   \n",
       "6404  [the, gpc, measurement, showed, that, p, (, vd...  property   \n",
       "6405  [due, to, their, large, aspect, ratio, and, un...  property   \n",
       "6406  [the, nanosize, ba0.5sr0.5tio3, powder, (, sig...  property   \n",
       "6407  [at, critical, concentration, ,, the, thermal,...  property   \n",
       "\n",
       "                                                    idx  \n",
       "0                              [2, 42, 11, 116, 262, 5]  \n",
       "1     [2387, 9, 3744, 12, 2388, 157, 29, 6603, 6604,...  \n",
       "2     [221, 14, 86, 398, 3, 10, 148, 8, 2, 496, 497,...  \n",
       "3     [399, 3, 10, 263, 231, 8, 2389, 11, 370, 28, 2...  \n",
       "4     [16, 2, 117, 8, 2, 1364, 54, 62, 438, 3, 2, 66...  \n",
       "...                                                 ...  \n",
       "6403  [624, 2194, 6, 4498, 0, 4, 1, 3, 759, 726, 0, ...  \n",
       "6404  [2, 615, 282, 1671, 55, 346, 6, 6507, 11745, 7...  \n",
       "6405  [480, 14, 449, 738, 1275, 68, 9, 4627, 1434, 3...  \n",
       "6406  [2, 11746, 11747, 182, 6, 6508, 1703, 2095, 3,...  \n",
       "6407  [18, 1897, 131, 3, 2, 237, 436, 8, 1384, 132, ...  \n",
       "\n",
       "[6408 rows x 3 columns]"
      ]
     },
     "execution_count": 10,
     "metadata": {},
     "output_type": "execute_result"
    }
   ],
   "source": [
    "train"
   ]
  },
  {
   "cell_type": "code",
   "execution_count": 9,
   "id": "c816bfc5",
   "metadata": {},
   "outputs": [
    {
     "ename": "NameError",
     "evalue": "name 'X_train' is not defined",
     "output_type": "error",
     "traceback": [
      "\u001b[0;31m---------------------------------------------------------------------------\u001b[0m",
      "\u001b[0;31mNameError\u001b[0m                                 Traceback (most recent call last)",
      "Cell \u001b[0;32mIn [9], line 1\u001b[0m\n\u001b[0;32m----> 1\u001b[0m nn_trainer_e\u001b[39m.\u001b[39mfit(X_train, y_train)\n",
      "\u001b[0;31mNameError\u001b[0m: name 'X_train' is not defined"
     ]
    }
   ],
   "source": [
    "nn_trainer_e.fit(train.idx, train.label)"
   ]
  }
 ],
 "metadata": {
  "kernelspec": {
   "display_name": "Python 3.9.15 ('pollydarton')",
   "language": "python",
   "name": "python3"
  },
  "language_info": {
   "codemirror_mode": {
    "name": "ipython",
    "version": 3
   },
   "file_extension": ".py",
   "mimetype": "text/x-python",
   "name": "python",
   "nbconvert_exporter": "python",
   "pygments_lexer": "ipython3",
   "version": "3.9.15"
  },
  "toc": {
   "base_numbering": 1,
   "nav_menu": {},
   "number_sections": true,
   "sideBar": true,
   "skip_h1_title": false,
   "title_cell": "Table of Contents",
   "title_sidebar": "Contents",
   "toc_cell": false,
   "toc_position": {},
   "toc_section_display": true,
   "toc_window_display": false
  },
  "varInspector": {
   "cols": {
    "lenName": 16,
    "lenType": 16,
    "lenVar": 40
   },
   "kernels_config": {
    "python": {
     "delete_cmd_postfix": "",
     "delete_cmd_prefix": "del ",
     "library": "var_list.py",
     "varRefreshCmd": "print(var_dic_list())"
    },
    "r": {
     "delete_cmd_postfix": ") ",
     "delete_cmd_prefix": "rm(",
     "library": "var_list.r",
     "varRefreshCmd": "cat(var_dic_list()) "
    }
   },
   "types_to_exclude": [
    "module",
    "function",
    "builtin_function_or_method",
    "instance",
    "_Feature"
   ],
   "window_display": false
  },
  "vscode": {
   "interpreter": {
    "hash": "a9b78b718931f80fc5e3ab72ed521239234f1386c1c68376b39676895c1cd556"
   }
  }
 },
 "nbformat": 4,
 "nbformat_minor": 5
}
