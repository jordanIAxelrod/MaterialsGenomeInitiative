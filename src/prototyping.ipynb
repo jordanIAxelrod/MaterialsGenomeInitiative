{
 "cells": [
  {
   "cell_type": "code",
   "execution_count": 11,
   "metadata": {},
   "outputs": [],
   "source": [
    "import pandas as pd\n",
    "import torch\n",
    "import nltk\n",
    "import re\n",
    "import json\n",
    "from typing import List\n",
    "\n",
    "try:\n",
    "    nltk.data.find('tokenizers/punkt')\n",
    "except LookupError:\n",
    "    nltk.download('punkt')"
   ]
  },
  {
   "cell_type": "code",
   "execution_count": null,
   "metadata": {},
   "outputs": [],
   "source": [
    "df = pd.read_csv('./data/train.tsv', sep='\\t')\n",
    "\n",
    "def tokenize_text(text: str) -> List[str]:\n",
    "    text = re.sub(r'([a-z])- ([a-z])', '\\1\\2', text) # Saw hyphens like this in the middle of a lot of words e.g. \"transmission elec- tron microscopy\". Seem like line breaks\n",
    "    return nltk.tokenize.word_tokenize(text)\n",
    "\n",
    "pd.DataFrame([(tokenize_text(t),l) for t,l in df.to_records(index=False)], columns=df.columns)"
   ]
  },
  {
   "cell_type": "code",
   "execution_count": null,
   "metadata": {},
   "outputs": [],
   "source": [
    "class TextDataset(torch.Dataset):\n",
    "    def __init__(self, train=True):\n",
    "        path = f'./data/{\"train\" if train else \"test\"}.tsv'\n",
    "        self.data = pd.read_csv(path)\n",
    "\n",
    "    def __len__(self):\n",
    "        return len(self.data)\n",
    "\n",
    "    def __getitem__(self, idx):\n",
    "        text = tokenize_text(self.data.iloc[idx, 0])\n",
    "        label = self.data.iloc[idx, 1]\n",
    "        return text, label"
   ]
  },
  {
   "cell_type": "code",
   "execution_count": 16,
   "metadata": {},
   "outputs": [],
   "source": [
    "document = ''\n",
    "with open('../data/raw/new_sentences_acs.txt') as f:\n",
    "    for el in f.readlines():\n",
    "        document += el.replace('\\n', ' ')\n",
    "\n",
    "sents = nltk.sent_tokenize(document)\n",
    "with open('../data/new_sentences_acs.json', 'w') as f:\n",
    "    json.dump(sents, f, indent=4)"
   ]
  }
 ],
 "metadata": {
  "kernelspec": {
   "display_name": "Python 3.10.6 ('pollydarton')",
   "language": "python",
   "name": "python3"
  },
  "language_info": {
   "codemirror_mode": {
    "name": "ipython",
    "version": 3
   },
   "file_extension": ".py",
   "mimetype": "text/x-python",
   "name": "python",
   "nbconvert_exporter": "python",
   "pygments_lexer": "ipython3",
   "version": "3.9.15"
  },
  "orig_nbformat": 4,
  "vscode": {
   "interpreter": {
    "hash": "a9b78b718931f80fc5e3ab72ed521239234f1386c1c68376b39676895c1cd556"
   }
  }
 },
 "nbformat": 4,
 "nbformat_minor": 2
}
