{
 "cells": [
  {
   "cell_type": "markdown",
   "id": "83e2458b",
   "metadata": {},
   "source": [
    "# Import Libraries"
   ]
  },
  {
   "cell_type": "code",
   "execution_count": 1,
   "id": "a8abd43e",
   "metadata": {
    "ExecuteTime": {
     "end_time": "2022-12-14T03:29:10.413516Z",
     "start_time": "2022-12-14T03:29:08.982230Z"
    }
   },
   "outputs": [],
   "source": [
    "import pandas as pd\n",
    "import numpy as np\n",
    "\n",
    "import nltk\n",
    "\n",
    "import itertools"
   ]
  },
  {
   "cell_type": "markdown",
   "id": "0930126a",
   "metadata": {},
   "source": [
    "# Load Data"
   ]
  },
  {
   "cell_type": "code",
   "execution_count": 2,
   "id": "c439b4cb",
   "metadata": {
    "ExecuteTime": {
     "end_time": "2022-12-14T03:29:10.432858Z",
     "start_time": "2022-12-14T03:29:10.415901Z"
    }
   },
   "outputs": [],
   "source": [
    "df_train = pd.read_csv('../data/train.tsv', sep='\\t')\n",
    "train_data = df_train.to_records(index=False)\n",
    "\n",
    "df_test = pd.read_csv('../data/test.tsv', sep='\\t')\n",
    "test_data = df_test.to_records(index=False)"
   ]
  },
  {
   "cell_type": "markdown",
   "id": "5f957e03",
   "metadata": {},
   "source": [
    "## Take a look at data"
   ]
  },
  {
   "cell_type": "code",
   "execution_count": 3,
   "id": "5a1c32e4",
   "metadata": {
    "ExecuteTime": {
     "end_time": "2022-12-14T03:29:10.454350Z",
     "start_time": "2022-12-14T03:29:10.436318Z"
    }
   },
   "outputs": [
    {
     "data": {
      "text/plain": [
       "{'action', 'constituent', 'property', 'unrelated'}"
      ]
     },
     "execution_count": 3,
     "metadata": {},
     "output_type": "execute_result"
    }
   ],
   "source": [
    "set([x[1] for x in train_data])"
   ]
  },
  {
   "cell_type": "markdown",
   "id": "b8d44f2f",
   "metadata": {},
   "source": [
    "## Preprocess (sentence level)"
   ]
  },
  {
   "cell_type": "code",
   "execution_count": 4,
   "id": "ecb356ed",
   "metadata": {
    "ExecuteTime": {
     "end_time": "2022-12-14T03:29:10.466082Z",
     "start_time": "2022-12-14T03:29:10.456971Z"
    }
   },
   "outputs": [],
   "source": [
    "from sentence_level_preprocess import *"
   ]
  },
  {
   "cell_type": "code",
   "execution_count": 5,
   "id": "20767255",
   "metadata": {
    "ExecuteTime": {
     "end_time": "2022-12-14T03:29:10.512071Z",
     "start_time": "2022-12-14T03:29:10.467690Z"
    }
   },
   "outputs": [],
   "source": [
    "# remove line breaks (e.g. \"elec- tron\" -> \"electron\")\n",
    "train_data = [(rm_linebreaks(t), l) for t, l in train_data]\n",
    "test_data = [(rm_linebreaks(t), l) for t, l in test_data]\n",
    "\n",
    "# lower case\n",
    "train_data = [(t.lower(), l) for t, l in train_data]\n",
    "test_data = [(t.lower(), l) for t, l in test_data]\n",
    "\n",
    "# split with keys\n",
    "keys = ['(', ')', '[', ']', ',', ';', ':', '/', '%', '+', '-', '−', '–', '∼','° c', '°c', '◦ c', '◦c', 'μ', 'ml']\n",
    "train_data = [(split_with_keys(t, keys), l) for t, l in train_data]\n",
    "test_data = [(split_with_keys(t, keys), l) for t, l in test_data]\n",
    "\n",
    "# unify expressions for temperature (e.g. '° c' -> '<temp>')\n",
    "train_data = [(c2temp_2(t), l) for t, l in train_data]\n",
    "test_data = [(c2temp_2(t), l) for t, l in test_data]"
   ]
  },
  {
   "cell_type": "markdown",
   "id": "82c1b577",
   "metadata": {},
   "source": [
    "## Preprocess (word level)"
   ]
  },
  {
   "cell_type": "code",
   "execution_count": 6,
   "id": "f9c6fae2",
   "metadata": {
    "ExecuteTime": {
     "end_time": "2022-12-14T03:29:10.523506Z",
     "start_time": "2022-12-14T03:29:10.516532Z"
    }
   },
   "outputs": [],
   "source": [
    "from word_level_preprocess import *"
   ]
  },
  {
   "cell_type": "code",
   "execution_count": 7,
   "id": "771d0a45",
   "metadata": {
    "ExecuteTime": {
     "end_time": "2022-12-14T03:29:10.533445Z",
     "start_time": "2022-12-14T03:29:10.527820Z"
    }
   },
   "outputs": [],
   "source": [
    "import re\n",
    "\n",
    "def apply_wlpp(f, s):\n",
    "    \"\"\"\n",
    "    Apply a word_level_preprocess function to a string.\n",
    "    \n",
    "    Input:\n",
    "        f: word_level_preprocess function\n",
    "        s: target string\n",
    "    \n",
    "    Output:\n",
    "        string\n",
    "    \"\"\"\n",
    "    s_ = s.split(' ')\n",
    "    t = [f(x) for x in s_]\n",
    "    return \" \".join(t)"
   ]
  },
  {
   "cell_type": "code",
   "execution_count": 8,
   "id": "8a1a9755",
   "metadata": {
    "ExecuteTime": {
     "end_time": "2022-12-14T03:29:10.618512Z",
     "start_time": "2022-12-14T03:29:10.536493Z"
    }
   },
   "outputs": [],
   "source": [
    "# recognize decimal as '<dec>' (e.g. '0.5' -> '<dec>')\n",
    "train_data = [(apply_wlpp(put_decimal_together, t), l) for t, l in train_data]\n",
    "test_data = [(apply_wlpp(put_decimal_together, t), l) for t, l in test_data]\n",
    "\n",
    "# split with keys\n",
    "keys = ['.']\n",
    "train_data = [(split_with_keys(t, keys), l) for t, l in train_data]\n",
    "test_data = [(split_with_keys(t, keys), l) for t, l in test_data]\n",
    "\n",
    "# recognize integer as '<int>' (e.g. '60' -> '<int>')\n",
    "train_data = [(apply_wlpp(put_int_together, t), l) for t, l in train_data]\n",
    "test_data = [(apply_wlpp(put_int_together, t), l) for t, l in test_data]\n",
    "\n",
    "# recognize ratioas '<ratio>' (e.g. '<int> : <int>' -> '<ratio>')\n",
    "train_data = [(put_ratio_together(t), l) for t, l in train_data]\n",
    "test_data = [(put_ratio_together(t), l) for t, l in test_data]\n",
    "\n",
    "# unify expressions for temperature (e.g. '°c' -> '<temp>')\n",
    "train_data = [(apply_wlpp(c2temp, t), l) for t, l in train_data]\n",
    "test_data = [(apply_wlpp(c2temp, t), l) for t, l in test_data]"
   ]
  },
  {
   "cell_type": "markdown",
   "id": "f22f13ba",
   "metadata": {},
   "source": [
    "## Tokenize"
   ]
  },
  {
   "cell_type": "code",
   "execution_count": 9,
   "id": "226976ae",
   "metadata": {
    "ExecuteTime": {
     "end_time": "2022-12-14T03:29:10.633355Z",
     "start_time": "2022-12-14T03:29:10.626163Z"
    }
   },
   "outputs": [],
   "source": [
    "# This separates '<int>' into ['<', 'int', '>']\n",
    "\"\"\"\n",
    "train_data = [(nltk.tokenize.word_tokenize(t), l) for t, l in train_data]\n",
    "test_data = [(nltk.tokenize.word_tokenize(t), l) for t, l in test_data]\n",
    "\"\"\"\n",
    "# Word tokenization\n",
    "train_data = [(t.split(' '), l) for t, l in train_data]\n",
    "test_data  = [(t.split(' '), l) for t, l in test_data]"
   ]
  },
  {
   "cell_type": "markdown",
   "id": "cfec7525",
   "metadata": {},
   "source": [
    "## Index words"
   ]
  },
  {
   "cell_type": "code",
   "execution_count": 10,
   "id": "499f9e04",
   "metadata": {
    "ExecuteTime": {
     "end_time": "2022-12-14T03:29:10.641452Z",
     "start_time": "2022-12-14T03:29:10.636663Z"
    }
   },
   "outputs": [],
   "source": [
    "from indexation import *"
   ]
  },
  {
   "cell_type": "code",
   "execution_count": 11,
   "id": "d9252a9d",
   "metadata": {
    "ExecuteTime": {
     "end_time": "2022-12-14T03:29:10.649583Z",
     "start_time": "2022-12-14T03:29:10.644525Z"
    }
   },
   "outputs": [],
   "source": [
    "train_texts   = [x[0] for x in train_data]\n",
    "train_targets = [[x[1]] for x in train_data]\n",
    "\n",
    "test_texts   = [x[0] for x in test_data]\n",
    "test_targets = [[x[1]] for x in test_data]"
   ]
  },
  {
   "cell_type": "code",
   "execution_count": 12,
   "id": "ef24230c",
   "metadata": {
    "ExecuteTime": {
     "end_time": "2022-12-14T03:29:10.658648Z",
     "start_time": "2022-12-14T03:29:10.653617Z"
    }
   },
   "outputs": [
    {
     "name": "stdout",
     "output_type": "stream",
     "text": [
      "<re.Match object; span=(0, 5), match='vc500'>\n"
     ]
    }
   ],
   "source": [
    "print(re.fullmatch(r\"[a-z]+[0-9]+(\\.[0-9]+)?\", 'vc500'))"
   ]
  },
  {
   "cell_type": "code",
   "execution_count": 13,
   "id": "c12fb240",
   "metadata": {
    "ExecuteTime": {
     "end_time": "2022-12-14T03:29:10.666973Z",
     "start_time": "2022-12-14T03:29:10.662398Z"
    }
   },
   "outputs": [
    {
     "name": "stdout",
     "output_type": "stream",
     "text": [
      "vc 500\n"
     ]
    }
   ],
   "source": [
    "print(re.sub(r\"([a-z]+)([0-9]+(\\.[0-9]+)?)\", r\"\\1 \\2\", 'vc500'))"
   ]
  },
  {
   "cell_type": "code",
   "execution_count": 14,
   "id": "26489fcc",
   "metadata": {
    "ExecuteTime": {
     "end_time": "2022-12-14T03:29:10.677847Z",
     "start_time": "2022-12-14T03:29:10.671364Z"
    }
   },
   "outputs": [
    {
     "name": "stdout",
     "output_type": "stream",
     "text": [
      "None\n"
     ]
    }
   ],
   "source": [
    "print(re.fullmatch(r\"[0-9]+(\\.[0-9]+)?[a-z]+\", '27μm'))"
   ]
  },
  {
   "cell_type": "code",
   "execution_count": 15,
   "id": "8b8e1769",
   "metadata": {
    "ExecuteTime": {
     "end_time": "2022-12-14T03:29:10.687712Z",
     "start_time": "2022-12-14T03:29:10.682114Z"
    }
   },
   "outputs": [
    {
     "name": "stdout",
     "output_type": "stream",
     "text": [
      "24 h\n"
     ]
    }
   ],
   "source": [
    "print(re.sub(r\"([0-9]+(\\.[0-9]+)?)([a-z]+)\", r\"\\1 \\3\", '24h'))"
   ]
  },
  {
   "cell_type": "code",
   "execution_count": 16,
   "id": "6653f9aa",
   "metadata": {
    "ExecuteTime": {
     "end_time": "2022-12-14T03:29:10.713874Z",
     "start_time": "2022-12-14T03:29:10.691352Z"
    }
   },
   "outputs": [],
   "source": [
    "train_texts_id, vocab_size, _, word_type2idx = word2idx(train_texts)\n",
    "train_targets_id, _, _, l2idx = word2idx(train_targets)\n",
    "train_targets_id = [l[0] for l in train_targets_id]\n",
    "train_data_idx = list(zip(train_texts_id, train_targets_id))\n",
    "\n",
    "test_texts_id = [[word_type2idx[w] if w in word_type2idx.keys() else vocab_size for w in s] for s in test_texts]\n",
    "test_targets_id = [l2idx[l[0]] for l in test_targets]\n",
    "test_data_idx = list(zip(test_texts_id, test_targets_id))"
   ]
  },
  {
   "cell_type": "markdown",
   "id": "934ff79c",
   "metadata": {},
   "source": [
    "## Featurize"
   ]
  },
  {
   "cell_type": "code",
   "execution_count": 17,
   "id": "bd5adf0c",
   "metadata": {
    "ExecuteTime": {
     "end_time": "2022-12-14T03:29:10.724016Z",
     "start_time": "2022-12-14T03:29:10.717948Z"
    }
   },
   "outputs": [],
   "source": [
    "from featurize import *"
   ]
  },
  {
   "cell_type": "code",
   "execution_count": 18,
   "id": "272e078d",
   "metadata": {
    "ExecuteTime": {
     "end_time": "2022-12-14T03:29:11.266605Z",
     "start_time": "2022-12-14T03:29:10.726990Z"
    }
   },
   "outputs": [],
   "source": [
    "# use vocab_size + 1 in order to express unknown words\n",
    "train_data_bow = [(bow(t, vocab_size + 1), l) for t, l in train_data_idx]\n",
    "test_data_bow  = [(bow(t, vocab_size + 1), l) for t, l in test_data_idx]"
   ]
  },
  {
   "cell_type": "markdown",
   "id": "58df8757",
   "metadata": {},
   "source": [
    "## Train test (validation) split"
   ]
  },
  {
   "cell_type": "code",
   "execution_count": 19,
   "id": "f9198db2",
   "metadata": {
    "ExecuteTime": {
     "end_time": "2022-12-14T03:29:11.274695Z",
     "start_time": "2022-12-14T03:29:11.268585Z"
    }
   },
   "outputs": [],
   "source": [
    "from sklearn.model_selection import train_test_split"
   ]
  },
  {
   "cell_type": "code",
   "execution_count": 20,
   "id": "78fc7478",
   "metadata": {
    "ExecuteTime": {
     "end_time": "2022-12-14T03:29:11.282324Z",
     "start_time": "2022-12-14T03:29:11.277554Z"
    }
   },
   "outputs": [],
   "source": [
    "X = [t for t, l in train_data_bow]\n",
    "y = [l for t, l in train_data_bow]"
   ]
  },
  {
   "cell_type": "code",
   "execution_count": 21,
   "id": "3e46db8c",
   "metadata": {
    "ExecuteTime": {
     "end_time": "2022-12-14T03:29:11.290758Z",
     "start_time": "2022-12-14T03:29:11.286092Z"
    }
   },
   "outputs": [],
   "source": [
    "X_train, X_val, y_train, y_val = train_test_split(X, y, test_size=0.2)"
   ]
  },
  {
   "cell_type": "code",
   "execution_count": 22,
   "id": "7c7ac74a",
   "metadata": {
    "ExecuteTime": {
     "end_time": "2022-12-14T03:29:11.299395Z",
     "start_time": "2022-12-14T03:29:11.295372Z"
    }
   },
   "outputs": [],
   "source": [
    "X_test = [t for t, l in test_data_bow]\n",
    "y_test = [l for t, l in test_data_bow]"
   ]
  },
  {
   "cell_type": "markdown",
   "id": "e881f4fe",
   "metadata": {},
   "source": [
    "# Learn Classifiers"
   ]
  },
  {
   "cell_type": "markdown",
   "id": "eaf06951",
   "metadata": {},
   "source": [
    "## Logistic regression"
   ]
  },
  {
   "cell_type": "code",
   "execution_count": 23,
   "id": "7a8aace9",
   "metadata": {
    "ExecuteTime": {
     "end_time": "2022-12-14T03:29:11.308834Z",
     "start_time": "2022-12-14T03:29:11.303402Z"
    }
   },
   "outputs": [],
   "source": [
    "from sklearn.linear_model import LogisticRegression"
   ]
  },
  {
   "cell_type": "code",
   "execution_count": 24,
   "id": "a61ec758",
   "metadata": {
    "ExecuteTime": {
     "end_time": "2022-12-14T03:29:11.878426Z",
     "start_time": "2022-12-14T03:29:11.312823Z"
    }
   },
   "outputs": [
    {
     "data": {
      "text/plain": [
       "LogisticRegression()"
      ]
     },
     "execution_count": 24,
     "metadata": {},
     "output_type": "execute_result"
    }
   ],
   "source": [
    "model = LogisticRegression()\n",
    "model.fit(X_train, y_train)"
   ]
  },
  {
   "cell_type": "code",
   "execution_count": 25,
   "id": "d2efe7a6",
   "metadata": {
    "ExecuteTime": {
     "end_time": "2022-12-14T03:29:11.924824Z",
     "start_time": "2022-12-14T03:29:11.881099Z"
    }
   },
   "outputs": [
    {
     "data": {
      "text/plain": [
       "0.861878453038674"
      ]
     },
     "execution_count": 25,
     "metadata": {},
     "output_type": "execute_result"
    }
   ],
   "source": [
    "model.score(X_val, y_val)"
   ]
  },
  {
   "cell_type": "markdown",
   "id": "662f746a",
   "metadata": {},
   "source": [
    "### Confusion matrix"
   ]
  },
  {
   "cell_type": "code",
   "execution_count": 26,
   "id": "986b17b6",
   "metadata": {
    "ExecuteTime": {
     "end_time": "2022-12-14T03:29:13.040036Z",
     "start_time": "2022-12-14T03:29:11.929784Z"
    }
   },
   "outputs": [],
   "source": [
    "from sklearn.metrics import confusion_matrix\n",
    "\n",
    "import seaborn as sns"
   ]
  },
  {
   "cell_type": "code",
   "execution_count": 27,
   "id": "68e48951",
   "metadata": {
    "ExecuteTime": {
     "end_time": "2022-12-14T03:29:13.086478Z",
     "start_time": "2022-12-14T03:29:13.053381Z"
    }
   },
   "outputs": [],
   "source": [
    "y_pred = model.predict(X_val)\n",
    "cm = confusion_matrix(y_val, y_pred)"
   ]
  },
  {
   "cell_type": "code",
   "execution_count": 28,
   "id": "23a24ebc",
   "metadata": {
    "ExecuteTime": {
     "end_time": "2022-12-14T03:29:13.309118Z",
     "start_time": "2022-12-14T03:29:13.088654Z"
    }
   },
   "outputs": [
    {
     "data": {
      "text/plain": [
       "<AxesSubplot:>"
      ]
     },
     "execution_count": 28,
     "metadata": {},
     "output_type": "execute_result"
    },
    {
     "data": {
      "image/png": "[encoded data removed]",
      "text/plain": [
       "<Figure size 432x288 with 2 Axes>"
      ]
     },
     "metadata": {
      "needs_background": "light"
     },
     "output_type": "display_data"
    }
   ],
   "source": [
    "sns.heatmap(cm, annot=True)"
   ]
  },
  {
   "cell_type": "code",
   "execution_count": 29,
   "id": "c3a1e03e",
   "metadata": {
    "ExecuteTime": {
     "end_time": "2022-12-14T03:29:13.550368Z",
     "start_time": "2022-12-14T03:29:13.312161Z"
    }
   },
   "outputs": [
    {
     "data": {
      "text/plain": [
       "<AxesSubplot:>"
      ]
     },
     "execution_count": 29,
     "metadata": {},
     "output_type": "execute_result"
    },
    {
     "data": {
      "image/png": "[encoded data removed]",
      "text/plain": [
       "<Figure size 432x288 with 2 Axes>"
      ]
     },
     "metadata": {
      "needs_background": "light"
     },
     "output_type": "display_data"
    }
   ],
   "source": [
    "sns.heatmap(cm / np.tile(np.sum(cm, axis=1), (4, 1)).T, annot=True)"
   ]
  },
  {
   "cell_type": "markdown",
   "id": "1b14c934",
   "metadata": {},
   "source": [
    "### Average performance"
   ]
  },
  {
   "cell_type": "code",
   "execution_count": 30,
   "id": "112da4b5",
   "metadata": {
    "ExecuteTime": {
     "end_time": "2022-12-14T03:29:13.556485Z",
     "start_time": "2022-12-14T03:29:13.553096Z"
    }
   },
   "outputs": [],
   "source": [
    "from sklearn.metrics import f1_score"
   ]
  },
  {
   "cell_type": "code",
   "execution_count": 31,
   "id": "44992816",
   "metadata": {
    "ExecuteTime": {
     "end_time": "2022-12-14T03:29:25.237612Z",
     "start_time": "2022-12-14T03:29:13.561014Z"
    }
   },
   "outputs": [
    {
     "name": "stdout",
     "output_type": "stream",
     "text": [
      "mean: 0.8403314917127072\n",
      "std : 0.02912498420573967\n"
     ]
    }
   ],
   "source": [
    "num_trial = 20\n",
    "f1s = []\n",
    "\n",
    "for i in range(num_trial):\n",
    "    X_train, X_val, y_train, y_val = train_test_split(X, y, test_size=0.2)\n",
    "    model = LogisticRegression()\n",
    "    model.fit(X_train, y_train)\n",
    "    y_pred = model.predict(X_val)\n",
    "    f1 = f1_score(y_val, y_pred, average='micro')\n",
    "    f1s.append(f1)\n",
    "\n",
    "print(\"mean:\", np.mean(f1s))\n",
    "print(\"std :\", np.std(f1s))"
   ]
  },
  {
   "cell_type": "markdown",
   "id": "d02aba46",
   "metadata": {},
   "source": [
    "### Test score"
   ]
  },
  {
   "cell_type": "code",
   "execution_count": 32,
   "id": "46647559",
   "metadata": {
    "ExecuteTime": {
     "end_time": "2022-12-14T03:29:25.966468Z",
     "start_time": "2022-12-14T03:29:25.240003Z"
    }
   },
   "outputs": [
    {
     "name": "stdout",
     "output_type": "stream",
     "text": [
      "0.8546255506607929\n"
     ]
    }
   ],
   "source": [
    "model.fit(X, y)\n",
    "y_pred = model.predict(X_test)\n",
    "f1 = f1_score(y_test, y_pred, average='micro')\n",
    "print(f1)"
   ]
  },
  {
   "cell_type": "markdown",
   "id": "6b6be1be",
   "metadata": {},
   "source": [
    "## Random forest"
   ]
  },
  {
   "cell_type": "code",
   "execution_count": 33,
   "id": "fc45b19f",
   "metadata": {
    "ExecuteTime": {
     "end_time": "2022-12-14T03:29:26.059285Z",
     "start_time": "2022-12-14T03:29:25.969515Z"
    }
   },
   "outputs": [],
   "source": [
    "from sklearn.ensemble import RandomForestClassifier"
   ]
  },
  {
   "cell_type": "code",
   "execution_count": 34,
   "id": "73f1362b",
   "metadata": {
    "ExecuteTime": {
     "end_time": "2022-12-14T03:29:26.210296Z",
     "start_time": "2022-12-14T03:29:26.061131Z"
    }
   },
   "outputs": [
    {
     "data": {
      "text/plain": [
       "RandomForestClassifier(criterion='entropy', max_depth=10, max_samples=0.8,\n",
       "                       n_estimators=20)"
      ]
     },
     "execution_count": 34,
     "metadata": {},
     "output_type": "execute_result"
    }
   ],
   "source": [
    "model = RandomForestClassifier(\n",
    "    n_estimators=20,\n",
    "    criterion='entropy',\n",
    "    max_depth=10,\n",
    "    bootstrap=True,\n",
    "    class_weight=None,\n",
    "    max_samples=0.8\n",
    ")\n",
    "model.fit(X_train, y_train)"
   ]
  },
  {
   "cell_type": "code",
   "execution_count": 35,
   "id": "1249bc9f",
   "metadata": {
    "ExecuteTime": {
     "end_time": "2022-12-14T03:29:26.251167Z",
     "start_time": "2022-12-14T03:29:26.215022Z"
    }
   },
   "outputs": [
    {
     "data": {
      "text/plain": [
       "0.6298342541436464"
      ]
     },
     "execution_count": 35,
     "metadata": {},
     "output_type": "execute_result"
    }
   ],
   "source": [
    "model.score(X_val, y_val)"
   ]
  },
  {
   "cell_type": "markdown",
   "id": "10b1d4f5",
   "metadata": {},
   "source": [
    "### Confusion matrix"
   ]
  },
  {
   "cell_type": "code",
   "execution_count": 36,
   "id": "bbb993b2",
   "metadata": {
    "ExecuteTime": {
     "end_time": "2022-12-14T03:29:26.473832Z",
     "start_time": "2022-12-14T03:29:26.255009Z"
    }
   },
   "outputs": [
    {
     "data": {
      "text/plain": [
       "<AxesSubplot:>"
      ]
     },
     "execution_count": 36,
     "metadata": {},
     "output_type": "execute_result"
    },
    {
     "data": {
      "image/png": "[encoded data removed]",
      "text/plain": [
       "<Figure size 432x288 with 2 Axes>"
      ]
     },
     "metadata": {
      "needs_background": "light"
     },
     "output_type": "display_data"
    }
   ],
   "source": [
    "y_pred = model.predict(X_val)\n",
    "cm = confusion_matrix(y_val, y_pred)\n",
    "sns.heatmap(cm, annot=True)"
   ]
  },
  {
   "cell_type": "code",
   "execution_count": 37,
   "id": "1493249b",
   "metadata": {
    "ExecuteTime": {
     "end_time": "2022-12-14T03:29:26.656885Z",
     "start_time": "2022-12-14T03:29:26.477373Z"
    }
   },
   "outputs": [
    {
     "data": {
      "text/plain": [
       "<AxesSubplot:>"
      ]
     },
     "execution_count": 37,
     "metadata": {},
     "output_type": "execute_result"
    },
    {
     "data": {
      "image/png": "[encoded data removed]",
      "text/plain": [
       "<Figure size 432x288 with 2 Axes>"
      ]
     },
     "metadata": {
      "needs_background": "light"
     },
     "output_type": "display_data"
    }
   ],
   "source": [
    "sns.heatmap(cm / np.tile(np.sum(cm, axis=1), (4, 1)).T, annot=True)"
   ]
  },
  {
   "cell_type": "markdown",
   "id": "79d72bb7",
   "metadata": {},
   "source": [
    "### Grid search"
   ]
  },
  {
   "cell_type": "code",
   "execution_count": 38,
   "id": "332aabb6",
   "metadata": {
    "ExecuteTime": {
     "end_time": "2022-12-14T03:29:26.664415Z",
     "start_time": "2022-12-14T03:29:26.661419Z"
    }
   },
   "outputs": [],
   "source": [
    "from sklearn.model_selection import GridSearchCV"
   ]
  },
  {
   "cell_type": "code",
   "execution_count": 39,
   "id": "3dcfe502",
   "metadata": {
    "ExecuteTime": {
     "end_time": "2022-12-14T03:30:36.551964Z",
     "start_time": "2022-12-14T03:29:26.667906Z"
    }
   },
   "outputs": [
    {
     "name": "stdout",
     "output_type": "stream",
     "text": [
      "Fitting 3 folds for each of 140 candidates, totalling 420 fits\n",
      "[CV 1/3] END max_depth=2, max_samples=0.2, n_estimators=1;, score=0.583 total time=   0.1s\n",
      "[CV 2/3] END max_depth=2, max_samples=0.2, n_estimators=1;, score=0.628 total time=   0.1s\n",
      "[CV 3/3] END max_depth=2, max_samples=0.2, n_estimators=1;, score=0.631 total time=   0.1s\n",
      "[CV 1/3] END max_depth=2, max_samples=0.2, n_estimators=2;, score=0.642 total time=   0.1s\n",
      "[CV 2/3] END max_depth=2, max_samples=0.2, n_estimators=2;, score=0.648 total time=   0.1s\n",
      "[CV 3/3] END max_depth=2, max_samples=0.2, n_estimators=2;, score=0.635 total time=   0.1s\n",
      "[CV 1/3] END max_depth=2, max_samples=0.2, n_estimators=4;, score=0.629 total time=   0.1s\n",
      "[CV 2/3] END max_depth=2, max_samples=0.2, n_estimators=4;, score=0.631 total time=   0.1s\n",
      "[CV 3/3] END max_depth=2, max_samples=0.2, n_estimators=4;, score=0.631 total time=   0.1s\n",
      "[CV 1/3] END max_depth=2, max_samples=0.2, n_estimators=8;, score=0.629 total time=   0.1s\n",
      "[CV 2/3] END max_depth=2, max_samples=0.2, n_estimators=8;, score=0.635 total time=   0.1s\n",
      "[CV 3/3] END max_depth=2, max_samples=0.2, n_estimators=8;, score=0.631 total time=   0.1s\n",
      "[CV 1/3] END max_depth=2, max_samples=0.2, n_estimators=16;, score=0.629 total time=   0.1s\n",
      "[CV 2/3] END max_depth=2, max_samples=0.2, n_estimators=16;, score=0.631 total time=   0.1s\n",
      "[CV 3/3] END max_depth=2, max_samples=0.2, n_estimators=16;, score=0.631 total time=   0.1s\n",
      "[CV 1/3] END max_depth=2, max_samples=0.2, n_estimators=32;, score=0.629 total time=   0.2s\n",
      "[CV 2/3] END max_depth=2, max_samples=0.2, n_estimators=32;, score=0.631 total time=   0.2s\n",
      "[CV 3/3] END max_depth=2, max_samples=0.2, n_estimators=32;, score=0.631 total time=   0.3s\n",
      "[CV 1/3] END max_depth=2, max_samples=0.2, n_estimators=64;, score=0.629 total time=   0.2s\n",
      "[CV 2/3] END max_depth=2, max_samples=0.2, n_estimators=64;, score=0.631 total time=   0.2s\n",
      "[CV 3/3] END max_depth=2, max_samples=0.2, n_estimators=64;, score=0.631 total time=   0.2s\n",
      "[CV 1/3] END max_depth=2, max_samples=0.4, n_estimators=1;, score=0.646 total time=   0.1s\n",
      "[CV 2/3] END max_depth=2, max_samples=0.4, n_estimators=1;, score=0.628 total time=   0.1s\n",
      "[CV 3/3] END max_depth=2, max_samples=0.4, n_estimators=1;, score=0.631 total time=   0.2s\n",
      "[CV 1/3] END max_depth=2, max_samples=0.4, n_estimators=2;, score=0.656 total time=   0.1s\n",
      "[CV 2/3] END max_depth=2, max_samples=0.4, n_estimators=2;, score=0.658 total time=   0.1s\n",
      "[CV 3/3] END max_depth=2, max_samples=0.4, n_estimators=2;, score=0.625 total time=   0.1s\n",
      "[CV 1/3] END max_depth=2, max_samples=0.4, n_estimators=4;, score=0.626 total time=   0.1s\n",
      "[CV 2/3] END max_depth=2, max_samples=0.4, n_estimators=4;, score=0.631 total time=   0.1s\n",
      "[CV 3/3] END max_depth=2, max_samples=0.4, n_estimators=4;, score=0.635 total time=   0.1s\n",
      "[CV 1/3] END max_depth=2, max_samples=0.4, n_estimators=8;, score=0.629 total time=   0.1s\n",
      "[CV 2/3] END max_depth=2, max_samples=0.4, n_estimators=8;, score=0.631 total time=   0.1s\n",
      "[CV 3/3] END max_depth=2, max_samples=0.4, n_estimators=8;, score=0.631 total time=   0.1s\n",
      "[CV 1/3] END max_depth=2, max_samples=0.4, n_estimators=16;, score=0.629 total time=   0.1s\n",
      "[CV 2/3] END max_depth=2, max_samples=0.4, n_estimators=16;, score=0.631 total time=   0.1s\n",
      "[CV 3/3] END max_depth=2, max_samples=0.4, n_estimators=16;, score=0.631 total time=   0.1s\n",
      "[CV 1/3] END max_depth=2, max_samples=0.4, n_estimators=32;, score=0.629 total time=   0.2s\n",
      "[CV 2/3] END max_depth=2, max_samples=0.4, n_estimators=32;, score=0.631 total time=   0.2s\n",
      "[CV 3/3] END max_depth=2, max_samples=0.4, n_estimators=32;, score=0.631 total time=   0.2s\n",
      "[CV 1/3] END max_depth=2, max_samples=0.4, n_estimators=64;, score=0.629 total time=   0.2s\n",
      "[CV 2/3] END max_depth=2, max_samples=0.4, n_estimators=64;, score=0.631 total time=   0.2s\n",
      "[CV 3/3] END max_depth=2, max_samples=0.4, n_estimators=64;, score=0.631 total time=   0.2s\n",
      "[CV 1/3] END max_depth=2, max_samples=0.6, n_estimators=1;, score=0.623 total time=   0.1s\n",
      "[CV 2/3] END max_depth=2, max_samples=0.6, n_estimators=1;, score=0.631 total time=   0.1s\n",
      "[CV 3/3] END max_depth=2, max_samples=0.6, n_estimators=1;, score=0.631 total time=   0.1s\n",
      "[CV 1/3] END max_depth=2, max_samples=0.6, n_estimators=2;, score=0.649 total time=   0.1s\n",
      "[CV 2/3] END max_depth=2, max_samples=0.6, n_estimators=2;, score=0.635 total time=   0.1s\n",
      "[CV 3/3] END max_depth=2, max_samples=0.6, n_estimators=2;, score=0.631 total time=   0.1s\n",
      "[CV 1/3] END max_depth=2, max_samples=0.6, n_estimators=4;, score=0.626 total time=   0.1s\n",
      "[CV 2/3] END max_depth=2, max_samples=0.6, n_estimators=4;, score=0.631 total time=   0.1s\n",
      "[CV 3/3] END max_depth=2, max_samples=0.6, n_estimators=4;, score=0.641 total time=   0.1s\n",
      "[CV 1/3] END max_depth=2, max_samples=0.6, n_estimators=8;, score=0.629 total time=   0.1s\n",
      "[CV 2/3] END max_depth=2, max_samples=0.6, n_estimators=8;, score=0.631 total time=   0.1s\n",
      "[CV 3/3] END max_depth=2, max_samples=0.6, n_estimators=8;, score=0.631 total time=   0.1s\n",
      "[CV 1/3] END max_depth=2, max_samples=0.6, n_estimators=16;, score=0.629 total time=   0.1s\n",
      "[CV 2/3] END max_depth=2, max_samples=0.6, n_estimators=16;, score=0.631 total time=   0.1s\n",
      "[CV 3/3] END max_depth=2, max_samples=0.6, n_estimators=16;, score=0.631 total time=   0.1s\n",
      "[CV 1/3] END max_depth=2, max_samples=0.6, n_estimators=32;, score=0.629 total time=   0.2s\n",
      "[CV 2/3] END max_depth=2, max_samples=0.6, n_estimators=32;, score=0.631 total time=   0.2s\n",
      "[CV 3/3] END max_depth=2, max_samples=0.6, n_estimators=32;, score=0.631 total time=   0.2s\n",
      "[CV 1/3] END max_depth=2, max_samples=0.6, n_estimators=64;, score=0.629 total time=   0.2s\n",
      "[CV 2/3] END max_depth=2, max_samples=0.6, n_estimators=64;, score=0.631 total time=   0.2s\n",
      "[CV 3/3] END max_depth=2, max_samples=0.6, n_estimators=64;, score=0.631 total time=   0.2s\n",
      "[CV 1/3] END max_depth=2, max_samples=0.8, n_estimators=1;, score=0.596 total time=   0.1s\n",
      "[CV 2/3] END max_depth=2, max_samples=0.8, n_estimators=1;, score=0.638 total time=   0.1s\n",
      "[CV 3/3] END max_depth=2, max_samples=0.8, n_estimators=1;, score=0.635 total time=   0.1s\n",
      "[CV 1/3] END max_depth=2, max_samples=0.8, n_estimators=2;, score=0.623 total time=   0.1s\n",
      "[CV 2/3] END max_depth=2, max_samples=0.8, n_estimators=2;, score=0.641 total time=   0.1s\n",
      "[CV 3/3] END max_depth=2, max_samples=0.8, n_estimators=2;, score=0.664 total time=   0.1s\n",
      "[CV 1/3] END max_depth=2, max_samples=0.8, n_estimators=4;, score=0.629 total time=   0.1s\n",
      "[CV 2/3] END max_depth=2, max_samples=0.8, n_estimators=4;, score=0.631 total time=   0.1s\n",
      "[CV 3/3] END max_depth=2, max_samples=0.8, n_estimators=4;, score=0.628 total time=   0.1s\n",
      "[CV 1/3] END max_depth=2, max_samples=0.8, n_estimators=8;, score=0.629 total time=   0.1s\n",
      "[CV 2/3] END max_depth=2, max_samples=0.8, n_estimators=8;, score=0.631 total time=   0.1s\n",
      "[CV 3/3] END max_depth=2, max_samples=0.8, n_estimators=8;, score=0.631 total time=   0.1s\n",
      "[CV 1/3] END max_depth=2, max_samples=0.8, n_estimators=16;, score=0.629 total time=   0.1s\n",
      "[CV 2/3] END max_depth=2, max_samples=0.8, n_estimators=16;, score=0.631 total time=   0.1s\n",
      "[CV 3/3] END max_depth=2, max_samples=0.8, n_estimators=16;, score=0.631 total time=   0.1s\n",
      "[CV 1/3] END max_depth=2, max_samples=0.8, n_estimators=32;, score=0.629 total time=   0.2s\n",
      "[CV 2/3] END max_depth=2, max_samples=0.8, n_estimators=32;, score=0.631 total time=   0.2s\n",
      "[CV 3/3] END max_depth=2, max_samples=0.8, n_estimators=32;, score=0.631 total time=   0.2s\n",
      "[CV 1/3] END max_depth=2, max_samples=0.8, n_estimators=64;, score=0.629 total time=   0.2s\n",
      "[CV 2/3] END max_depth=2, max_samples=0.8, n_estimators=64;, score=0.631 total time=   0.2s\n",
      "[CV 3/3] END max_depth=2, max_samples=0.8, n_estimators=64;, score=0.631 total time=   0.2s\n",
      "[CV 1/3] END max_depth=4, max_samples=0.2, n_estimators=1;, score=0.616 total time=   0.1s\n",
      "[CV 2/3] END max_depth=4, max_samples=0.2, n_estimators=1;, score=0.638 total time=   0.1s\n",
      "[CV 3/3] END max_depth=4, max_samples=0.2, n_estimators=1;, score=0.628 total time=   0.1s\n",
      "[CV 1/3] END max_depth=4, max_samples=0.2, n_estimators=2;, score=0.616 total time=   0.1s\n",
      "[CV 2/3] END max_depth=4, max_samples=0.2, n_estimators=2;, score=0.674 total time=   0.1s\n"
     ]
    },
    {
     "name": "stdout",
     "output_type": "stream",
     "text": [
      "[CV 3/3] END max_depth=4, max_samples=0.2, n_estimators=2;, score=0.668 total time=   0.1s\n",
      "[CV 1/3] END max_depth=4, max_samples=0.2, n_estimators=4;, score=0.629 total time=   0.1s\n",
      "[CV 2/3] END max_depth=4, max_samples=0.2, n_estimators=4;, score=0.645 total time=   0.1s\n",
      "[CV 3/3] END max_depth=4, max_samples=0.2, n_estimators=4;, score=0.631 total time=   0.2s\n",
      "[CV 1/3] END max_depth=4, max_samples=0.2, n_estimators=8;, score=0.636 total time=   0.1s\n",
      "[CV 2/3] END max_depth=4, max_samples=0.2, n_estimators=8;, score=0.635 total time=   0.1s\n",
      "[CV 3/3] END max_depth=4, max_samples=0.2, n_estimators=8;, score=0.631 total time=   0.1s\n",
      "[CV 1/3] END max_depth=4, max_samples=0.2, n_estimators=16;, score=0.629 total time=   0.2s\n",
      "[CV 2/3] END max_depth=4, max_samples=0.2, n_estimators=16;, score=0.635 total time=   0.1s\n",
      "[CV 3/3] END max_depth=4, max_samples=0.2, n_estimators=16;, score=0.631 total time=   0.1s\n",
      "[CV 1/3] END max_depth=4, max_samples=0.2, n_estimators=32;, score=0.639 total time=   0.2s\n",
      "[CV 2/3] END max_depth=4, max_samples=0.2, n_estimators=32;, score=0.635 total time=   0.2s\n",
      "[CV 3/3] END max_depth=4, max_samples=0.2, n_estimators=32;, score=0.631 total time=   0.2s\n",
      "[CV 1/3] END max_depth=4, max_samples=0.2, n_estimators=64;, score=0.629 total time=   0.2s\n",
      "[CV 2/3] END max_depth=4, max_samples=0.2, n_estimators=64;, score=0.631 total time=   0.2s\n",
      "[CV 3/3] END max_depth=4, max_samples=0.2, n_estimators=64;, score=0.631 total time=   0.2s\n",
      "[CV 1/3] END max_depth=4, max_samples=0.4, n_estimators=1;, score=0.659 total time=   0.1s\n",
      "[CV 2/3] END max_depth=4, max_samples=0.4, n_estimators=1;, score=0.635 total time=   0.1s\n",
      "[CV 3/3] END max_depth=4, max_samples=0.4, n_estimators=1;, score=0.645 total time=   0.1s\n",
      "[CV 1/3] END max_depth=4, max_samples=0.4, n_estimators=2;, score=0.675 total time=   0.1s\n",
      "[CV 2/3] END max_depth=4, max_samples=0.4, n_estimators=2;, score=0.658 total time=   0.1s\n",
      "[CV 3/3] END max_depth=4, max_samples=0.4, n_estimators=2;, score=0.661 total time=   0.1s\n",
      "[CV 1/3] END max_depth=4, max_samples=0.4, n_estimators=4;, score=0.662 total time=   0.1s\n",
      "[CV 2/3] END max_depth=4, max_samples=0.4, n_estimators=4;, score=0.635 total time=   0.1s\n",
      "[CV 3/3] END max_depth=4, max_samples=0.4, n_estimators=4;, score=0.635 total time=   0.1s\n",
      "[CV 1/3] END max_depth=4, max_samples=0.4, n_estimators=8;, score=0.632 total time=   0.1s\n",
      "[CV 2/3] END max_depth=4, max_samples=0.4, n_estimators=8;, score=0.648 total time=   0.1s\n",
      "[CV 3/3] END max_depth=4, max_samples=0.4, n_estimators=8;, score=0.651 total time=   0.1s\n",
      "[CV 1/3] END max_depth=4, max_samples=0.4, n_estimators=16;, score=0.629 total time=   0.1s\n",
      "[CV 2/3] END max_depth=4, max_samples=0.4, n_estimators=16;, score=0.641 total time=   0.1s\n",
      "[CV 3/3] END max_depth=4, max_samples=0.4, n_estimators=16;, score=0.631 total time=   0.1s\n",
      "[CV 1/3] END max_depth=4, max_samples=0.4, n_estimators=32;, score=0.629 total time=   0.2s\n",
      "[CV 2/3] END max_depth=4, max_samples=0.4, n_estimators=32;, score=0.631 total time=   0.2s\n",
      "[CV 3/3] END max_depth=4, max_samples=0.4, n_estimators=32;, score=0.631 total time=   0.2s\n",
      "[CV 1/3] END max_depth=4, max_samples=0.4, n_estimators=64;, score=0.629 total time=   0.2s\n",
      "[CV 2/3] END max_depth=4, max_samples=0.4, n_estimators=64;, score=0.631 total time=   0.2s\n",
      "[CV 3/3] END max_depth=4, max_samples=0.4, n_estimators=64;, score=0.631 total time=   0.2s\n",
      "[CV 1/3] END max_depth=4, max_samples=0.6, n_estimators=1;, score=0.619 total time=   0.1s\n",
      "[CV 2/3] END max_depth=4, max_samples=0.6, n_estimators=1;, score=0.651 total time=   0.1s\n",
      "[CV 3/3] END max_depth=4, max_samples=0.6, n_estimators=1;, score=0.641 total time=   0.1s\n",
      "[CV 1/3] END max_depth=4, max_samples=0.6, n_estimators=2;, score=0.656 total time=   0.1s\n",
      "[CV 2/3] END max_depth=4, max_samples=0.6, n_estimators=2;, score=0.674 total time=   0.1s\n",
      "[CV 3/3] END max_depth=4, max_samples=0.6, n_estimators=2;, score=0.628 total time=   0.1s\n",
      "[CV 1/3] END max_depth=4, max_samples=0.6, n_estimators=4;, score=0.649 total time=   0.1s\n",
      "[CV 2/3] END max_depth=4, max_samples=0.6, n_estimators=4;, score=0.635 total time=   0.1s\n",
      "[CV 3/3] END max_depth=4, max_samples=0.6, n_estimators=4;, score=0.641 total time=   0.1s\n",
      "[CV 1/3] END max_depth=4, max_samples=0.6, n_estimators=8;, score=0.629 total time=   0.1s\n",
      "[CV 2/3] END max_depth=4, max_samples=0.6, n_estimators=8;, score=0.654 total time=   0.1s\n",
      "[CV 3/3] END max_depth=4, max_samples=0.6, n_estimators=8;, score=0.631 total time=   0.1s\n",
      "[CV 1/3] END max_depth=4, max_samples=0.6, n_estimators=16;, score=0.632 total time=   0.1s\n",
      "[CV 2/3] END max_depth=4, max_samples=0.6, n_estimators=16;, score=0.631 total time=   0.1s\n",
      "[CV 3/3] END max_depth=4, max_samples=0.6, n_estimators=16;, score=0.638 total time=   0.1s\n",
      "[CV 1/3] END max_depth=4, max_samples=0.6, n_estimators=32;, score=0.629 total time=   0.2s\n",
      "[CV 2/3] END max_depth=4, max_samples=0.6, n_estimators=32;, score=0.641 total time=   0.2s\n",
      "[CV 3/3] END max_depth=4, max_samples=0.6, n_estimators=32;, score=0.631 total time=   0.2s\n",
      "[CV 1/3] END max_depth=4, max_samples=0.6, n_estimators=64;, score=0.629 total time=   0.2s\n",
      "[CV 2/3] END max_depth=4, max_samples=0.6, n_estimators=64;, score=0.645 total time=   0.2s\n",
      "[CV 3/3] END max_depth=4, max_samples=0.6, n_estimators=64;, score=0.631 total time=   0.2s\n",
      "[CV 1/3] END max_depth=4, max_samples=0.8, n_estimators=1;, score=0.629 total time=   0.1s\n",
      "[CV 2/3] END max_depth=4, max_samples=0.8, n_estimators=1;, score=0.628 total time=   0.1s\n",
      "[CV 3/3] END max_depth=4, max_samples=0.8, n_estimators=1;, score=0.651 total time=   0.1s\n",
      "[CV 1/3] END max_depth=4, max_samples=0.8, n_estimators=2;, score=0.636 total time=   0.1s\n",
      "[CV 2/3] END max_depth=4, max_samples=0.8, n_estimators=2;, score=0.631 total time=   0.1s\n",
      "[CV 3/3] END max_depth=4, max_samples=0.8, n_estimators=2;, score=0.651 total time=   0.2s\n",
      "[CV 1/3] END max_depth=4, max_samples=0.8, n_estimators=4;, score=0.636 total time=   0.1s\n",
      "[CV 2/3] END max_depth=4, max_samples=0.8, n_estimators=4;, score=0.635 total time=   0.1s\n",
      "[CV 3/3] END max_depth=4, max_samples=0.8, n_estimators=4;, score=0.635 total time=   0.1s\n",
      "[CV 1/3] END max_depth=4, max_samples=0.8, n_estimators=8;, score=0.629 total time=   0.1s\n",
      "[CV 2/3] END max_depth=4, max_samples=0.8, n_estimators=8;, score=0.658 total time=   0.1s\n",
      "[CV 3/3] END max_depth=4, max_samples=0.8, n_estimators=8;, score=0.631 total time=   0.1s\n",
      "[CV 1/3] END max_depth=4, max_samples=0.8, n_estimators=16;, score=0.629 total time=   0.1s\n",
      "[CV 2/3] END max_depth=4, max_samples=0.8, n_estimators=16;, score=0.631 total time=   0.1s\n",
      "[CV 3/3] END max_depth=4, max_samples=0.8, n_estimators=16;, score=0.635 total time=   0.1s\n",
      "[CV 1/3] END max_depth=4, max_samples=0.8, n_estimators=32;, score=0.629 total time=   0.2s\n",
      "[CV 2/3] END max_depth=4, max_samples=0.8, n_estimators=32;, score=0.638 total time=   0.2s\n",
      "[CV 3/3] END max_depth=4, max_samples=0.8, n_estimators=32;, score=0.631 total time=   0.2s\n",
      "[CV 1/3] END max_depth=4, max_samples=0.8, n_estimators=64;, score=0.629 total time=   0.2s\n",
      "[CV 2/3] END max_depth=4, max_samples=0.8, n_estimators=64;, score=0.631 total time=   0.2s\n",
      "[CV 3/3] END max_depth=4, max_samples=0.8, n_estimators=64;, score=0.631 total time=   0.2s\n",
      "[CV 1/3] END max_depth=8, max_samples=0.2, n_estimators=1;, score=0.609 total time=   0.1s\n",
      "[CV 2/3] END max_depth=8, max_samples=0.2, n_estimators=1;, score=0.661 total time=   0.1s\n",
      "[CV 3/3] END max_depth=8, max_samples=0.2, n_estimators=1;, score=0.638 total time=   0.1s\n",
      "[CV 1/3] END max_depth=8, max_samples=0.2, n_estimators=2;, score=0.599 total time=   0.1s\n",
      "[CV 2/3] END max_depth=8, max_samples=0.2, n_estimators=2;, score=0.605 total time=   0.1s\n",
      "[CV 3/3] END max_depth=8, max_samples=0.2, n_estimators=2;, score=0.658 total time=   0.1s\n",
      "[CV 1/3] END max_depth=8, max_samples=0.2, n_estimators=4;, score=0.642 total time=   0.1s\n",
      "[CV 2/3] END max_depth=8, max_samples=0.2, n_estimators=4;, score=0.694 total time=   0.1s\n",
      "[CV 3/3] END max_depth=8, max_samples=0.2, n_estimators=4;, score=0.654 total time=   0.1s\n",
      "[CV 1/3] END max_depth=8, max_samples=0.2, n_estimators=8;, score=0.666 total time=   0.2s\n",
      "[CV 2/3] END max_depth=8, max_samples=0.2, n_estimators=8;, score=0.664 total time=   0.1s\n",
      "[CV 3/3] END max_depth=8, max_samples=0.2, n_estimators=8;, score=0.661 total time=   0.1s\n"
     ]
    },
    {
     "name": "stdout",
     "output_type": "stream",
     "text": [
      "[CV 1/3] END max_depth=8, max_samples=0.2, n_estimators=16;, score=0.679 total time=   0.1s\n",
      "[CV 2/3] END max_depth=8, max_samples=0.2, n_estimators=16;, score=0.674 total time=   0.1s\n",
      "[CV 3/3] END max_depth=8, max_samples=0.2, n_estimators=16;, score=0.641 total time=   0.1s\n",
      "[CV 1/3] END max_depth=8, max_samples=0.2, n_estimators=32;, score=0.656 total time=   0.2s\n",
      "[CV 2/3] END max_depth=8, max_samples=0.2, n_estimators=32;, score=0.638 total time=   0.2s\n",
      "[CV 3/3] END max_depth=8, max_samples=0.2, n_estimators=32;, score=0.651 total time=   0.2s\n",
      "[CV 1/3] END max_depth=8, max_samples=0.2, n_estimators=64;, score=0.639 total time=   0.2s\n",
      "[CV 2/3] END max_depth=8, max_samples=0.2, n_estimators=64;, score=0.658 total time=   0.2s\n",
      "[CV 3/3] END max_depth=8, max_samples=0.2, n_estimators=64;, score=0.645 total time=   0.2s\n",
      "[CV 1/3] END max_depth=8, max_samples=0.4, n_estimators=1;, score=0.636 total time=   0.1s\n",
      "[CV 2/3] END max_depth=8, max_samples=0.4, n_estimators=1;, score=0.631 total time=   0.1s\n",
      "[CV 3/3] END max_depth=8, max_samples=0.4, n_estimators=1;, score=0.648 total time=   0.1s\n",
      "[CV 1/3] END max_depth=8, max_samples=0.4, n_estimators=2;, score=0.626 total time=   0.1s\n",
      "[CV 2/3] END max_depth=8, max_samples=0.4, n_estimators=2;, score=0.658 total time=   0.1s\n",
      "[CV 3/3] END max_depth=8, max_samples=0.4, n_estimators=2;, score=0.684 total time=   0.1s\n",
      "[CV 1/3] END max_depth=8, max_samples=0.4, n_estimators=4;, score=0.659 total time=   0.1s\n",
      "[CV 2/3] END max_depth=8, max_samples=0.4, n_estimators=4;, score=0.645 total time=   0.1s\n",
      "[CV 3/3] END max_depth=8, max_samples=0.4, n_estimators=4;, score=0.658 total time=   0.1s\n",
      "[CV 1/3] END max_depth=8, max_samples=0.4, n_estimators=8;, score=0.646 total time=   0.1s\n",
      "[CV 2/3] END max_depth=8, max_samples=0.4, n_estimators=8;, score=0.651 total time=   0.1s\n",
      "[CV 3/3] END max_depth=8, max_samples=0.4, n_estimators=8;, score=0.658 total time=   0.1s\n",
      "[CV 1/3] END max_depth=8, max_samples=0.4, n_estimators=16;, score=0.652 total time=   0.1s\n",
      "[CV 2/3] END max_depth=8, max_samples=0.4, n_estimators=16;, score=0.668 total time=   0.1s\n",
      "[CV 3/3] END max_depth=8, max_samples=0.4, n_estimators=16;, score=0.691 total time=   0.1s\n",
      "[CV 1/3] END max_depth=8, max_samples=0.4, n_estimators=32;, score=0.646 total time=   0.2s\n",
      "[CV 2/3] END max_depth=8, max_samples=0.4, n_estimators=32;, score=0.658 total time=   0.2s\n",
      "[CV 3/3] END max_depth=8, max_samples=0.4, n_estimators=32;, score=0.658 total time=   0.2s\n",
      "[CV 1/3] END max_depth=8, max_samples=0.4, n_estimators=64;, score=0.659 total time=   0.2s\n",
      "[CV 2/3] END max_depth=8, max_samples=0.4, n_estimators=64;, score=0.658 total time=   0.2s\n",
      "[CV 3/3] END max_depth=8, max_samples=0.4, n_estimators=64;, score=0.645 total time=   0.2s\n",
      "[CV 1/3] END max_depth=8, max_samples=0.6, n_estimators=1;, score=0.642 total time=   0.1s\n",
      "[CV 2/3] END max_depth=8, max_samples=0.6, n_estimators=1;, score=0.654 total time=   0.1s\n",
      "[CV 3/3] END max_depth=8, max_samples=0.6, n_estimators=1;, score=0.671 total time=   0.1s\n",
      "[CV 1/3] END max_depth=8, max_samples=0.6, n_estimators=2;, score=0.629 total time=   0.1s\n",
      "[CV 2/3] END max_depth=8, max_samples=0.6, n_estimators=2;, score=0.661 total time=   0.1s\n",
      "[CV 3/3] END max_depth=8, max_samples=0.6, n_estimators=2;, score=0.664 total time=   0.1s\n",
      "[CV 1/3] END max_depth=8, max_samples=0.6, n_estimators=4;, score=0.689 total time=   0.1s\n",
      "[CV 2/3] END max_depth=8, max_samples=0.6, n_estimators=4;, score=0.661 total time=   0.1s\n",
      "[CV 3/3] END max_depth=8, max_samples=0.6, n_estimators=4;, score=0.654 total time=   0.2s\n",
      "[CV 1/3] END max_depth=8, max_samples=0.6, n_estimators=8;, score=0.685 total time=   0.3s\n",
      "[CV 2/3] END max_depth=8, max_samples=0.6, n_estimators=8;, score=0.674 total time=   0.1s\n",
      "[CV 3/3] END max_depth=8, max_samples=0.6, n_estimators=8;, score=0.645 total time=   0.1s\n",
      "[CV 1/3] END max_depth=8, max_samples=0.6, n_estimators=16;, score=0.669 total time=   0.2s\n",
      "[CV 2/3] END max_depth=8, max_samples=0.6, n_estimators=16;, score=0.664 total time=   0.2s\n",
      "[CV 3/3] END max_depth=8, max_samples=0.6, n_estimators=16;, score=0.651 total time=   0.2s\n",
      "[CV 1/3] END max_depth=8, max_samples=0.6, n_estimators=32;, score=0.672 total time=   0.6s\n",
      "[CV 2/3] END max_depth=8, max_samples=0.6, n_estimators=32;, score=0.668 total time=   0.8s\n",
      "[CV 3/3] END max_depth=8, max_samples=0.6, n_estimators=32;, score=0.664 total time=   0.3s\n",
      "[CV 1/3] END max_depth=8, max_samples=0.6, n_estimators=64;, score=0.679 total time=   0.7s\n",
      "[CV 2/3] END max_depth=8, max_samples=0.6, n_estimators=64;, score=0.664 total time=   0.4s\n",
      "[CV 3/3] END max_depth=8, max_samples=0.6, n_estimators=64;, score=0.654 total time=   0.5s\n",
      "[CV 1/3] END max_depth=8, max_samples=0.8, n_estimators=1;, score=0.632 total time=   0.2s\n",
      "[CV 2/3] END max_depth=8, max_samples=0.8, n_estimators=1;, score=0.641 total time=   0.4s\n",
      "[CV 3/3] END max_depth=8, max_samples=0.8, n_estimators=1;, score=0.648 total time=   0.3s\n",
      "[CV 1/3] END max_depth=8, max_samples=0.8, n_estimators=2;, score=0.646 total time=   0.2s\n",
      "[CV 2/3] END max_depth=8, max_samples=0.8, n_estimators=2;, score=0.678 total time=   0.1s\n",
      "[CV 3/3] END max_depth=8, max_samples=0.8, n_estimators=2;, score=0.621 total time=   0.2s\n",
      "[CV 1/3] END max_depth=8, max_samples=0.8, n_estimators=4;, score=0.685 total time=   0.2s\n",
      "[CV 2/3] END max_depth=8, max_samples=0.8, n_estimators=4;, score=0.684 total time=   0.2s\n",
      "[CV 3/3] END max_depth=8, max_samples=0.8, n_estimators=4;, score=0.654 total time=   0.2s\n",
      "[CV 1/3] END max_depth=8, max_samples=0.8, n_estimators=8;, score=0.656 total time=   0.2s\n",
      "[CV 2/3] END max_depth=8, max_samples=0.8, n_estimators=8;, score=0.674 total time=   0.2s\n",
      "[CV 3/3] END max_depth=8, max_samples=0.8, n_estimators=8;, score=0.658 total time=   0.2s\n",
      "[CV 1/3] END max_depth=8, max_samples=0.8, n_estimators=16;, score=0.685 total time=   0.4s\n",
      "[CV 2/3] END max_depth=8, max_samples=0.8, n_estimators=16;, score=0.664 total time=   0.2s\n",
      "[CV 3/3] END max_depth=8, max_samples=0.8, n_estimators=16;, score=0.688 total time=   0.2s\n",
      "[CV 1/3] END max_depth=8, max_samples=0.8, n_estimators=32;, score=0.666 total time=   0.2s\n",
      "[CV 2/3] END max_depth=8, max_samples=0.8, n_estimators=32;, score=0.684 total time=   0.2s\n",
      "[CV 3/3] END max_depth=8, max_samples=0.8, n_estimators=32;, score=0.661 total time=   0.2s\n",
      "[CV 1/3] END max_depth=8, max_samples=0.8, n_estimators=64;, score=0.659 total time=   0.3s\n",
      "[CV 2/3] END max_depth=8, max_samples=0.8, n_estimators=64;, score=0.668 total time=   0.3s\n",
      "[CV 3/3] END max_depth=8, max_samples=0.8, n_estimators=64;, score=0.648 total time=   0.3s\n",
      "[CV 1/3] END max_depth=16, max_samples=0.2, n_estimators=1;, score=0.623 total time=   0.1s\n",
      "[CV 2/3] END max_depth=16, max_samples=0.2, n_estimators=1;, score=0.654 total time=   0.1s\n",
      "[CV 3/3] END max_depth=16, max_samples=0.2, n_estimators=1;, score=0.571 total time=   0.2s\n",
      "[CV 1/3] END max_depth=16, max_samples=0.2, n_estimators=2;, score=0.606 total time=   0.2s\n",
      "[CV 2/3] END max_depth=16, max_samples=0.2, n_estimators=2;, score=0.625 total time=   0.1s\n",
      "[CV 3/3] END max_depth=16, max_samples=0.2, n_estimators=2;, score=0.641 total time=   0.2s\n",
      "[CV 1/3] END max_depth=16, max_samples=0.2, n_estimators=4;, score=0.666 total time=   0.3s\n",
      "[CV 2/3] END max_depth=16, max_samples=0.2, n_estimators=4;, score=0.684 total time=   0.2s\n",
      "[CV 3/3] END max_depth=16, max_samples=0.2, n_estimators=4;, score=0.681 total time=   0.2s\n",
      "[CV 1/3] END max_depth=16, max_samples=0.2, n_estimators=8;, score=0.692 total time=   0.2s\n",
      "[CV 2/3] END max_depth=16, max_samples=0.2, n_estimators=8;, score=0.688 total time=   0.2s\n",
      "[CV 3/3] END max_depth=16, max_samples=0.2, n_estimators=8;, score=0.698 total time=   0.1s\n",
      "[CV 1/3] END max_depth=16, max_samples=0.2, n_estimators=16;, score=0.685 total time=   0.1s\n",
      "[CV 2/3] END max_depth=16, max_samples=0.2, n_estimators=16;, score=0.701 total time=   0.2s\n",
      "[CV 3/3] END max_depth=16, max_samples=0.2, n_estimators=16;, score=0.688 total time=   0.2s\n",
      "[CV 1/3] END max_depth=16, max_samples=0.2, n_estimators=32;, score=0.675 total time=   0.2s\n",
      "[CV 2/3] END max_depth=16, max_samples=0.2, n_estimators=32;, score=0.661 total time=   0.2s\n",
      "[CV 3/3] END max_depth=16, max_samples=0.2, n_estimators=32;, score=0.658 total time=   0.5s\n",
      "[CV 1/3] END max_depth=16, max_samples=0.2, n_estimators=64;, score=0.709 total time=   0.3s\n"
     ]
    },
    {
     "name": "stdout",
     "output_type": "stream",
     "text": [
      "[CV 2/3] END max_depth=16, max_samples=0.2, n_estimators=64;, score=0.684 total time=   0.3s\n",
      "[CV 3/3] END max_depth=16, max_samples=0.2, n_estimators=64;, score=0.661 total time=   0.2s\n",
      "[CV 1/3] END max_depth=16, max_samples=0.4, n_estimators=1;, score=0.649 total time=   0.1s\n",
      "[CV 2/3] END max_depth=16, max_samples=0.4, n_estimators=1;, score=0.664 total time=   0.1s\n",
      "[CV 3/3] END max_depth=16, max_samples=0.4, n_estimators=1;, score=0.664 total time=   0.1s\n",
      "[CV 1/3] END max_depth=16, max_samples=0.4, n_estimators=2;, score=0.652 total time=   0.1s\n",
      "[CV 2/3] END max_depth=16, max_samples=0.4, n_estimators=2;, score=0.664 total time=   0.1s\n",
      "[CV 3/3] END max_depth=16, max_samples=0.4, n_estimators=2;, score=0.688 total time=   0.1s\n",
      "[CV 1/3] END max_depth=16, max_samples=0.4, n_estimators=4;, score=0.689 total time=   0.1s\n",
      "[CV 2/3] END max_depth=16, max_samples=0.4, n_estimators=4;, score=0.698 total time=   0.1s\n",
      "[CV 3/3] END max_depth=16, max_samples=0.4, n_estimators=4;, score=0.674 total time=   0.1s\n",
      "[CV 1/3] END max_depth=16, max_samples=0.4, n_estimators=8;, score=0.682 total time=   0.1s\n",
      "[CV 2/3] END max_depth=16, max_samples=0.4, n_estimators=8;, score=0.708 total time=   0.1s\n",
      "[CV 3/3] END max_depth=16, max_samples=0.4, n_estimators=8;, score=0.694 total time=   0.1s\n",
      "[CV 1/3] END max_depth=16, max_samples=0.4, n_estimators=16;, score=0.675 total time=   0.1s\n",
      "[CV 2/3] END max_depth=16, max_samples=0.4, n_estimators=16;, score=0.684 total time=   0.1s\n",
      "[CV 3/3] END max_depth=16, max_samples=0.4, n_estimators=16;, score=0.701 total time=   0.1s\n",
      "[CV 1/3] END max_depth=16, max_samples=0.4, n_estimators=32;, score=0.702 total time=   0.2s\n",
      "[CV 2/3] END max_depth=16, max_samples=0.4, n_estimators=32;, score=0.711 total time=   0.2s\n",
      "[CV 3/3] END max_depth=16, max_samples=0.4, n_estimators=32;, score=0.701 total time=   0.2s\n",
      "[CV 1/3] END max_depth=16, max_samples=0.4, n_estimators=64;, score=0.705 total time=   0.2s\n",
      "[CV 2/3] END max_depth=16, max_samples=0.4, n_estimators=64;, score=0.694 total time=   0.2s\n",
      "[CV 3/3] END max_depth=16, max_samples=0.4, n_estimators=64;, score=0.681 total time=   0.2s\n",
      "[CV 1/3] END max_depth=16, max_samples=0.6, n_estimators=1;, score=0.672 total time=   0.1s\n",
      "[CV 2/3] END max_depth=16, max_samples=0.6, n_estimators=1;, score=0.651 total time=   0.1s\n",
      "[CV 3/3] END max_depth=16, max_samples=0.6, n_estimators=1;, score=0.631 total time=   0.1s\n",
      "[CV 1/3] END max_depth=16, max_samples=0.6, n_estimators=2;, score=0.646 total time=   0.2s\n",
      "[CV 2/3] END max_depth=16, max_samples=0.6, n_estimators=2;, score=0.658 total time=   0.1s\n",
      "[CV 3/3] END max_depth=16, max_samples=0.6, n_estimators=2;, score=0.684 total time=   0.2s\n",
      "[CV 1/3] END max_depth=16, max_samples=0.6, n_estimators=4;, score=0.692 total time=   0.1s\n",
      "[CV 2/3] END max_depth=16, max_samples=0.6, n_estimators=4;, score=0.704 total time=   0.1s\n",
      "[CV 3/3] END max_depth=16, max_samples=0.6, n_estimators=4;, score=0.694 total time=   0.3s\n",
      "[CV 1/3] END max_depth=16, max_samples=0.6, n_estimators=8;, score=0.712 total time=   0.1s\n",
      "[CV 2/3] END max_depth=16, max_samples=0.6, n_estimators=8;, score=0.704 total time=   0.1s\n",
      "[CV 3/3] END max_depth=16, max_samples=0.6, n_estimators=8;, score=0.701 total time=   0.1s\n",
      "[CV 1/3] END max_depth=16, max_samples=0.6, n_estimators=16;, score=0.702 total time=   0.2s\n",
      "[CV 2/3] END max_depth=16, max_samples=0.6, n_estimators=16;, score=0.708 total time=   0.2s\n",
      "[CV 3/3] END max_depth=16, max_samples=0.6, n_estimators=16;, score=0.711 total time=   0.2s\n",
      "[CV 1/3] END max_depth=16, max_samples=0.6, n_estimators=32;, score=0.705 total time=   0.2s\n",
      "[CV 2/3] END max_depth=16, max_samples=0.6, n_estimators=32;, score=0.704 total time=   0.2s\n",
      "[CV 3/3] END max_depth=16, max_samples=0.6, n_estimators=32;, score=0.714 total time=   0.2s\n",
      "[CV 1/3] END max_depth=16, max_samples=0.6, n_estimators=64;, score=0.722 total time=   0.3s\n",
      "[CV 2/3] END max_depth=16, max_samples=0.6, n_estimators=64;, score=0.711 total time=   0.2s\n",
      "[CV 3/3] END max_depth=16, max_samples=0.6, n_estimators=64;, score=0.694 total time=   0.2s\n",
      "[CV 1/3] END max_depth=16, max_samples=0.8, n_estimators=1;, score=0.675 total time=   0.1s\n",
      "[CV 2/3] END max_depth=16, max_samples=0.8, n_estimators=1;, score=0.681 total time=   0.1s\n",
      "[CV 3/3] END max_depth=16, max_samples=0.8, n_estimators=1;, score=0.678 total time=   0.1s\n",
      "[CV 1/3] END max_depth=16, max_samples=0.8, n_estimators=2;, score=0.646 total time=   0.1s\n",
      "[CV 2/3] END max_depth=16, max_samples=0.8, n_estimators=2;, score=0.701 total time=   0.1s\n",
      "[CV 3/3] END max_depth=16, max_samples=0.8, n_estimators=2;, score=0.711 total time=   0.1s\n",
      "[CV 1/3] END max_depth=16, max_samples=0.8, n_estimators=4;, score=0.695 total time=   0.1s\n",
      "[CV 2/3] END max_depth=16, max_samples=0.8, n_estimators=4;, score=0.711 total time=   0.1s\n",
      "[CV 3/3] END max_depth=16, max_samples=0.8, n_estimators=4;, score=0.694 total time=   0.1s\n",
      "[CV 1/3] END max_depth=16, max_samples=0.8, n_estimators=8;, score=0.705 total time=   0.1s\n",
      "[CV 2/3] END max_depth=16, max_samples=0.8, n_estimators=8;, score=0.721 total time=   0.1s\n",
      "[CV 3/3] END max_depth=16, max_samples=0.8, n_estimators=8;, score=0.704 total time=   0.1s\n",
      "[CV 1/3] END max_depth=16, max_samples=0.8, n_estimators=16;, score=0.725 total time=   0.2s\n",
      "[CV 2/3] END max_depth=16, max_samples=0.8, n_estimators=16;, score=0.718 total time=   0.2s\n",
      "[CV 3/3] END max_depth=16, max_samples=0.8, n_estimators=16;, score=0.731 total time=   0.2s\n",
      "[CV 1/3] END max_depth=16, max_samples=0.8, n_estimators=32;, score=0.728 total time=   0.2s\n",
      "[CV 2/3] END max_depth=16, max_samples=0.8, n_estimators=32;, score=0.731 total time=   0.2s\n",
      "[CV 3/3] END max_depth=16, max_samples=0.8, n_estimators=32;, score=0.704 total time=   0.2s\n",
      "[CV 1/3] END max_depth=16, max_samples=0.8, n_estimators=64;, score=0.715 total time=   0.3s\n",
      "[CV 2/3] END max_depth=16, max_samples=0.8, n_estimators=64;, score=0.704 total time=   0.3s\n",
      "[CV 3/3] END max_depth=16, max_samples=0.8, n_estimators=64;, score=0.708 total time=   0.3s\n",
      "[CV 1/3] END max_depth=32, max_samples=0.2, n_estimators=1;, score=0.566 total time=   0.1s\n",
      "[CV 2/3] END max_depth=32, max_samples=0.2, n_estimators=1;, score=0.638 total time=   0.1s\n",
      "[CV 3/3] END max_depth=32, max_samples=0.2, n_estimators=1;, score=0.638 total time=   0.1s\n",
      "[CV 1/3] END max_depth=32, max_samples=0.2, n_estimators=2;, score=0.629 total time=   0.1s\n",
      "[CV 2/3] END max_depth=32, max_samples=0.2, n_estimators=2;, score=0.701 total time=   0.1s\n",
      "[CV 3/3] END max_depth=32, max_samples=0.2, n_estimators=2;, score=0.645 total time=   0.1s\n",
      "[CV 1/3] END max_depth=32, max_samples=0.2, n_estimators=4;, score=0.685 total time=   0.1s\n",
      "[CV 2/3] END max_depth=32, max_samples=0.2, n_estimators=4;, score=0.721 total time=   0.1s\n",
      "[CV 3/3] END max_depth=32, max_samples=0.2, n_estimators=4;, score=0.678 total time=   0.1s\n",
      "[CV 1/3] END max_depth=32, max_samples=0.2, n_estimators=8;, score=0.692 total time=   0.1s\n",
      "[CV 2/3] END max_depth=32, max_samples=0.2, n_estimators=8;, score=0.704 total time=   0.1s\n",
      "[CV 3/3] END max_depth=32, max_samples=0.2, n_estimators=8;, score=0.678 total time=   0.1s\n",
      "[CV 1/3] END max_depth=32, max_samples=0.2, n_estimators=16;, score=0.689 total time=   0.2s\n",
      "[CV 2/3] END max_depth=32, max_samples=0.2, n_estimators=16;, score=0.711 total time=   0.2s\n",
      "[CV 3/3] END max_depth=32, max_samples=0.2, n_estimators=16;, score=0.678 total time=   0.1s\n",
      "[CV 1/3] END max_depth=32, max_samples=0.2, n_estimators=32;, score=0.702 total time=   0.2s\n",
      "[CV 2/3] END max_depth=32, max_samples=0.2, n_estimators=32;, score=0.711 total time=   0.2s\n",
      "[CV 3/3] END max_depth=32, max_samples=0.2, n_estimators=32;, score=0.704 total time=   0.2s\n",
      "[CV 1/3] END max_depth=32, max_samples=0.2, n_estimators=64;, score=0.689 total time=   0.3s\n",
      "[CV 2/3] END max_depth=32, max_samples=0.2, n_estimators=64;, score=0.708 total time=   0.2s\n",
      "[CV 3/3] END max_depth=32, max_samples=0.2, n_estimators=64;, score=0.688 total time=   0.2s\n",
      "[CV 1/3] END max_depth=32, max_samples=0.4, n_estimators=1;, score=0.662 total time=   0.1s\n",
      "[CV 2/3] END max_depth=32, max_samples=0.4, n_estimators=1;, score=0.681 total time=   0.2s\n",
      "[CV 3/3] END max_depth=32, max_samples=0.4, n_estimators=1;, score=0.668 total time=   0.1s\n",
      "[CV 1/3] END max_depth=32, max_samples=0.4, n_estimators=2;, score=0.642 total time=   0.1s\n",
      "[CV 2/3] END max_depth=32, max_samples=0.4, n_estimators=2;, score=0.681 total time=   0.1s\n"
     ]
    },
    {
     "name": "stdout",
     "output_type": "stream",
     "text": [
      "[CV 3/3] END max_depth=32, max_samples=0.4, n_estimators=2;, score=0.661 total time=   0.1s\n",
      "[CV 1/3] END max_depth=32, max_samples=0.4, n_estimators=4;, score=0.666 total time=   0.2s\n",
      "[CV 2/3] END max_depth=32, max_samples=0.4, n_estimators=4;, score=0.701 total time=   0.1s\n",
      "[CV 3/3] END max_depth=32, max_samples=0.4, n_estimators=4;, score=0.691 total time=   0.1s\n",
      "[CV 1/3] END max_depth=32, max_samples=0.4, n_estimators=8;, score=0.719 total time=   0.1s\n",
      "[CV 2/3] END max_depth=32, max_samples=0.4, n_estimators=8;, score=0.694 total time=   0.2s\n",
      "[CV 3/3] END max_depth=32, max_samples=0.4, n_estimators=8;, score=0.704 total time=   0.1s\n",
      "[CV 1/3] END max_depth=32, max_samples=0.4, n_estimators=16;, score=0.725 total time=   0.2s\n",
      "[CV 2/3] END max_depth=32, max_samples=0.4, n_estimators=16;, score=0.741 total time=   0.2s\n",
      "[CV 3/3] END max_depth=32, max_samples=0.4, n_estimators=16;, score=0.711 total time=   0.2s\n",
      "[CV 1/3] END max_depth=32, max_samples=0.4, n_estimators=32;, score=0.709 total time=   0.2s\n",
      "[CV 2/3] END max_depth=32, max_samples=0.4, n_estimators=32;, score=0.711 total time=   0.2s\n",
      "[CV 3/3] END max_depth=32, max_samples=0.4, n_estimators=32;, score=0.744 total time=   0.2s\n",
      "[CV 1/3] END max_depth=32, max_samples=0.4, n_estimators=64;, score=0.735 total time=   0.3s\n",
      "[CV 2/3] END max_depth=32, max_samples=0.4, n_estimators=64;, score=0.741 total time=   0.3s\n",
      "[CV 3/3] END max_depth=32, max_samples=0.4, n_estimators=64;, score=0.748 total time=   0.3s\n",
      "[CV 1/3] END max_depth=32, max_samples=0.6, n_estimators=1;, score=0.642 total time=   0.1s\n",
      "[CV 2/3] END max_depth=32, max_samples=0.6, n_estimators=1;, score=0.645 total time=   0.1s\n",
      "[CV 3/3] END max_depth=32, max_samples=0.6, n_estimators=1;, score=0.588 total time=   0.1s\n",
      "[CV 1/3] END max_depth=32, max_samples=0.6, n_estimators=2;, score=0.675 total time=   0.1s\n",
      "[CV 2/3] END max_depth=32, max_samples=0.6, n_estimators=2;, score=0.688 total time=   0.1s\n",
      "[CV 3/3] END max_depth=32, max_samples=0.6, n_estimators=2;, score=0.704 total time=   0.1s\n",
      "[CV 1/3] END max_depth=32, max_samples=0.6, n_estimators=4;, score=0.732 total time=   0.1s\n",
      "[CV 2/3] END max_depth=32, max_samples=0.6, n_estimators=4;, score=0.731 total time=   0.1s\n",
      "[CV 3/3] END max_depth=32, max_samples=0.6, n_estimators=4;, score=0.701 total time=   0.1s\n",
      "[CV 1/3] END max_depth=32, max_samples=0.6, n_estimators=8;, score=0.725 total time=   0.1s\n",
      "[CV 2/3] END max_depth=32, max_samples=0.6, n_estimators=8;, score=0.767 total time=   0.2s\n",
      "[CV 3/3] END max_depth=32, max_samples=0.6, n_estimators=8;, score=0.761 total time=   0.2s\n",
      "[CV 1/3] END max_depth=32, max_samples=0.6, n_estimators=16;, score=0.765 total time=   0.2s\n",
      "[CV 2/3] END max_depth=32, max_samples=0.6, n_estimators=16;, score=0.774 total time=   0.2s\n",
      "[CV 3/3] END max_depth=32, max_samples=0.6, n_estimators=16;, score=0.774 total time=   0.2s\n",
      "[CV 1/3] END max_depth=32, max_samples=0.6, n_estimators=32;, score=0.742 total time=   0.2s\n",
      "[CV 2/3] END max_depth=32, max_samples=0.6, n_estimators=32;, score=0.718 total time=   0.2s\n",
      "[CV 3/3] END max_depth=32, max_samples=0.6, n_estimators=32;, score=0.764 total time=   0.3s\n",
      "[CV 1/3] END max_depth=32, max_samples=0.6, n_estimators=64;, score=0.758 total time=   0.3s\n",
      "[CV 2/3] END max_depth=32, max_samples=0.6, n_estimators=64;, score=0.734 total time=   0.3s\n",
      "[CV 3/3] END max_depth=32, max_samples=0.6, n_estimators=64;, score=0.744 total time=   0.3s\n",
      "[CV 1/3] END max_depth=32, max_samples=0.8, n_estimators=1;, score=0.699 total time=   0.1s\n",
      "[CV 2/3] END max_depth=32, max_samples=0.8, n_estimators=1;, score=0.615 total time=   0.1s\n",
      "[CV 3/3] END max_depth=32, max_samples=0.8, n_estimators=1;, score=0.678 total time=   0.1s\n",
      "[CV 1/3] END max_depth=32, max_samples=0.8, n_estimators=2;, score=0.715 total time=   0.1s\n",
      "[CV 2/3] END max_depth=32, max_samples=0.8, n_estimators=2;, score=0.734 total time=   0.1s\n",
      "[CV 3/3] END max_depth=32, max_samples=0.8, n_estimators=2;, score=0.681 total time=   0.1s\n",
      "[CV 1/3] END max_depth=32, max_samples=0.8, n_estimators=4;, score=0.752 total time=   0.1s\n",
      "[CV 2/3] END max_depth=32, max_samples=0.8, n_estimators=4;, score=0.711 total time=   0.2s\n",
      "[CV 3/3] END max_depth=32, max_samples=0.8, n_estimators=4;, score=0.721 total time=   0.1s\n",
      "[CV 1/3] END max_depth=32, max_samples=0.8, n_estimators=8;, score=0.745 total time=   0.2s\n",
      "[CV 2/3] END max_depth=32, max_samples=0.8, n_estimators=8;, score=0.748 total time=   0.2s\n",
      "[CV 3/3] END max_depth=32, max_samples=0.8, n_estimators=8;, score=0.731 total time=   0.1s\n",
      "[CV 1/3] END max_depth=32, max_samples=0.8, n_estimators=16;, score=0.752 total time=   0.2s\n",
      "[CV 2/3] END max_depth=32, max_samples=0.8, n_estimators=16;, score=0.751 total time=   0.2s\n",
      "[CV 3/3] END max_depth=32, max_samples=0.8, n_estimators=16;, score=0.754 total time=   0.2s\n",
      "[CV 1/3] END max_depth=32, max_samples=0.8, n_estimators=32;, score=0.772 total time=   0.2s\n",
      "[CV 2/3] END max_depth=32, max_samples=0.8, n_estimators=32;, score=0.761 total time=   0.2s\n",
      "[CV 3/3] END max_depth=32, max_samples=0.8, n_estimators=32;, score=0.764 total time=   0.2s\n",
      "[CV 1/3] END max_depth=32, max_samples=0.8, n_estimators=64;, score=0.762 total time=   0.3s\n",
      "[CV 2/3] END max_depth=32, max_samples=0.8, n_estimators=64;, score=0.741 total time=   0.3s\n",
      "[CV 3/3] END max_depth=32, max_samples=0.8, n_estimators=64;, score=0.774 total time=   0.3s\n"
     ]
    },
    {
     "data": {
      "text/plain": [
       "GridSearchCV(cv=3,\n",
       "             estimator=RandomForestClassifier(criterion='entropy', max_depth=10,\n",
       "                                              max_samples=0.8,\n",
       "                                              n_estimators=20),\n",
       "             param_grid={'max_depth': [2, 4, 8, 16, 32],\n",
       "                         'max_samples': [0.2, 0.4, 0.6, 0.8],\n",
       "                         'n_estimators': [1, 2, 4, 8, 16, 32, 64]},\n",
       "             verbose=3)"
      ]
     },
     "execution_count": 39,
     "metadata": {},
     "output_type": "execute_result"
    }
   ],
   "source": [
    "param_grid = {\n",
    "    'n_estimators':[1, 2, 4, 8, 16, 32, 64],\n",
    "    'max_depth'   :[2, 4, 8, 16, 32],\n",
    "    'max_samples' :[0.2, 0.4, 0.6, 0.8]\n",
    "}\n",
    "gs = GridSearchCV(model, param_grid, cv=3, verbose=3)\n",
    "gs.fit(X, y)"
   ]
  },
  {
   "cell_type": "code",
   "execution_count": 40,
   "id": "ca35a963",
   "metadata": {
    "ExecuteTime": {
     "end_time": "2022-12-14T03:30:36.573852Z",
     "start_time": "2022-12-14T03:30:36.555376Z"
    }
   },
   "outputs": [
    {
     "data": {
      "text/plain": [
       "RandomForestClassifier(criterion='entropy', max_depth=32, max_samples=0.6,\n",
       "                       n_estimators=16)"
      ]
     },
     "execution_count": 40,
     "metadata": {},
     "output_type": "execute_result"
    }
   ],
   "source": [
    "gs.best_estimator_"
   ]
  },
  {
   "cell_type": "code",
   "execution_count": 41,
   "id": "2745af41",
   "metadata": {
    "ExecuteTime": {
     "end_time": "2022-12-14T03:30:36.590120Z",
     "start_time": "2022-12-14T03:30:36.583251Z"
    }
   },
   "outputs": [
    {
     "data": {
      "text/plain": [
       "0.7710244732422461"
      ]
     },
     "execution_count": 41,
     "metadata": {},
     "output_type": "execute_result"
    }
   ],
   "source": [
    "gs.best_score_"
   ]
  },
  {
   "cell_type": "markdown",
   "id": "a1226d8a",
   "metadata": {},
   "source": [
    "### Test score"
   ]
  },
  {
   "cell_type": "code",
   "execution_count": 42,
   "id": "cb6d97fc",
   "metadata": {
    "ExecuteTime": {
     "end_time": "2022-12-14T03:30:36.628760Z",
     "start_time": "2022-12-14T03:30:36.606703Z"
    }
   },
   "outputs": [
    {
     "data": {
      "text/plain": [
       "\"\\nmodel = gs.best_estimator_\\nmodel.fit(X, y)\\ny_pred = model.predict(X_test)\\nf1 = f1_score(y_test, y_pred, average='micro')\\nprint(f1)\\n\""
      ]
     },
     "execution_count": 42,
     "metadata": {},
     "output_type": "execute_result"
    }
   ],
   "source": [
    "\"\"\"\n",
    "model = gs.best_estimator_\n",
    "model.fit(X, y)\n",
    "y_pred = model.predict(X_test)\n",
    "f1 = f1_score(y_test, y_pred, average='micro')\n",
    "print(f1)\n",
    "\"\"\""
   ]
  },
  {
   "cell_type": "markdown",
   "id": "97896c23",
   "metadata": {},
   "source": [
    "## XGBoost"
   ]
  },
  {
   "cell_type": "code",
   "execution_count": 43,
   "id": "4a1af3db",
   "metadata": {
    "ExecuteTime": {
     "end_time": "2022-12-14T03:30:36.696156Z",
     "start_time": "2022-12-14T03:30:36.635765Z"
    }
   },
   "outputs": [],
   "source": [
    "import xgboost as xgb"
   ]
  },
  {
   "cell_type": "code",
   "execution_count": 44,
   "id": "1df5b002",
   "metadata": {
    "ExecuteTime": {
     "end_time": "2022-12-14T03:30:36.885369Z",
     "start_time": "2022-12-14T03:30:36.699066Z"
    }
   },
   "outputs": [],
   "source": [
    "dtrain = xgb.DMatrix(X_train, label=y_train)"
   ]
  },
  {
   "cell_type": "code",
   "execution_count": 45,
   "id": "a22bfa78",
   "metadata": {
    "ExecuteTime": {
     "end_time": "2022-12-14T03:30:37.654433Z",
     "start_time": "2022-12-14T03:30:36.887509Z"
    }
   },
   "outputs": [],
   "source": [
    "param = {'max_depth':2, 'eta':1, 'objective':'multi:softmax', 'num_class':4}\n",
    "num_round = 10\n",
    "bst = xgb.train(param, dtrain, num_round)"
   ]
  },
  {
   "cell_type": "code",
   "execution_count": 46,
   "id": "ca62a9b8",
   "metadata": {
    "ExecuteTime": {
     "end_time": "2022-12-14T03:30:37.663716Z",
     "start_time": "2022-12-14T03:30:37.658144Z"
    }
   },
   "outputs": [],
   "source": [
    "from sklearn.metrics import accuracy_score"
   ]
  },
  {
   "cell_type": "code",
   "execution_count": 47,
   "id": "53f265f3",
   "metadata": {
    "ExecuteTime": {
     "end_time": "2022-12-14T03:30:37.747700Z",
     "start_time": "2022-12-14T03:30:37.670236Z"
    }
   },
   "outputs": [
    {
     "name": "stdout",
     "output_type": "stream",
     "text": [
      "0.7734806629834254\n"
     ]
    }
   ],
   "source": [
    "dval = xgb.DMatrix(X_val)\n",
    "pred = bst.predict(dval)\n",
    "score = accuracy_score(y_val, pred)\n",
    "print(score)"
   ]
  },
  {
   "cell_type": "markdown",
   "id": "a1592686",
   "metadata": {},
   "source": [
    "### Grid search"
   ]
  },
  {
   "cell_type": "code",
   "execution_count": 48,
   "id": "68c8b1c7",
   "metadata": {
    "ExecuteTime": {
     "end_time": "2022-12-14T03:30:37.787592Z",
     "start_time": "2022-12-14T03:30:37.752081Z"
    }
   },
   "outputs": [],
   "source": [
    "import numpy\n",
    "import itertools\n",
    "from sklearn.metrics import accuracy_score\n",
    "\n",
    "class MyGridSearchCV():\n",
    "    \n",
    "    def __init__(self, model, param_grid, cv):\n",
    "        self.m = model\n",
    "        self.pg = param_grid\n",
    "        self.cv = cv\n",
    "        # processed\n",
    "        pg_ex, pg_keys = self.expand_(self.pg)\n",
    "        self.pg_ex = pg_ex\n",
    "        self.pg_keys = pg_keys\n",
    "        self.pg_ex_adj = self.adj_(pg_ex, pg_keys)\n",
    "        # results\n",
    "        self.best_param_ = None\n",
    "        self.best_score_ = 0\n",
    "    \n",
    "    def fit(self, x, y, num_round, verbose=False):\n",
    "        ds = self.cv_split_(x, y, self.cv)\n",
    "        for p in self.pg_ex_adj:\n",
    "            scores = []\n",
    "            for dtrain, dval in ds:\n",
    "                r = self.m.train(p, dtrain, num_round)\n",
    "                dval_x, dval_y = dval\n",
    "                pred = r.predict(dval_x)\n",
    "                score = accuracy_score(dval_y, pred)\n",
    "                scores.append(score)\n",
    "            curr_score = sum(scores)/len(scores)\n",
    "            if verbose:\n",
    "                print(\"params:\", p)\n",
    "                print(\"accuracy:\", curr_score)\n",
    "            if self.best_score_ < curr_score:\n",
    "                self.best_score_ = curr_score\n",
    "                self.best_param_ = p\n",
    "    \n",
    "    def expand_(self, pg):\n",
    "        keys = list(pg.keys())\n",
    "        \n",
    "        vals = list(pg.values())\n",
    "        pg_ex = self.prod_(vals)\n",
    "        \n",
    "        return pg_ex, keys\n",
    "    \n",
    "    def prod_(self, nl):\n",
    "        \"\"\"\n",
    "        nl: nested list\n",
    "        \"\"\"\n",
    "        if len(nl) > 1:\n",
    "            p = list(itertools.product(nl[0], self.prod_(nl[1:])))\n",
    "            flattened = []\n",
    "            for x in p:\n",
    "                x0 = x[0] if type(x[0]) is tuple else tuple([x[0]])\n",
    "                x1 = x[1] if type(x[1]) is tuple else tuple([x[1]])\n",
    "                flattened.append(x0 + x1)\n",
    "            return flattened\n",
    "        else:\n",
    "            return nl[0]\n",
    "    \n",
    "    def adj_(self, vals, keys):\n",
    "        l = []\n",
    "        for v in vals:\n",
    "            d = {k:p for k, p in zip(keys, v)}\n",
    "            l.append(d)\n",
    "        return l\n",
    "    \n",
    "    def cv_split_(self, x, y, cv):\n",
    "        asgn = np.random.randint(0, cv, len(x))\n",
    "        ds = []\n",
    "        for i in range(cv):\n",
    "            # validation data\n",
    "            x_val = [x[j] for j in range(len(x)) if asgn[j]==i]\n",
    "            y_val = [y[j] for j in range(len(y)) if asgn[j]==i]\n",
    "            dval_x = xgb.DMatrix(x_val)\n",
    "            dval = (dval_x, y_val)\n",
    "            # training data\n",
    "            x_trn = [x[j] for j in range(len(x)) if asgn[j]!=i]\n",
    "            y_trn = [y[j] for j in range(len(y)) if asgn[j]!=i]\n",
    "            dtrain = xgb.DMatrix(x_trn, label=y_trn)\n",
    "            # combine\n",
    "            ds.append((dtrain, dval))\n",
    "        return ds"
   ]
  },
  {
   "cell_type": "code",
   "execution_count": 49,
   "id": "1c93a3e9",
   "metadata": {
    "ExecuteTime": {
     "end_time": "2022-12-14T03:31:44.232988Z",
     "start_time": "2022-12-14T03:30:37.791804Z"
    }
   },
   "outputs": [
    {
     "name": "stdout",
     "output_type": "stream",
     "text": [
      "params: {'max_depth': 2, 'eta': 0.5, 'objective': 'multi:softmax', 'num_class': 4}\n",
      "accuracy: 0.7622591341341342\n",
      "params: {'max_depth': 2, 'eta': 1, 'objective': 'multi:softmax', 'num_class': 4}\n",
      "accuracy: 0.7845970970970971\n",
      "params: {'max_depth': 2, 'eta': 2, 'objective': 'multi:softmax', 'num_class': 4}\n",
      "accuracy: 0.746361986986987\n",
      "params: {'max_depth': 4, 'eta': 0.5, 'objective': 'multi:softmax', 'num_class': 4}\n",
      "accuracy: 0.8018956456456455\n",
      "params: {'max_depth': 4, 'eta': 1, 'objective': 'multi:softmax', 'num_class': 4}\n",
      "accuracy: 0.8107357357357357\n",
      "params: {'max_depth': 4, 'eta': 2, 'objective': 'multi:softmax', 'num_class': 4}\n",
      "accuracy: 0.7960554304304304\n",
      "params: {'max_depth': 8, 'eta': 0.5, 'objective': 'multi:softmax', 'num_class': 4}\n",
      "accuracy: 0.8139764764764764\n",
      "params: {'max_depth': 8, 'eta': 1, 'objective': 'multi:softmax', 'num_class': 4}\n",
      "accuracy: 0.8196602852852853\n",
      "params: {'max_depth': 8, 'eta': 2, 'objective': 'multi:softmax', 'num_class': 4}\n",
      "accuracy: 0.8058433433433434\n",
      "params: {'max_depth': 16, 'eta': 0.5, 'objective': 'multi:softmax', 'num_class': 4}\n",
      "accuracy: 0.8097785285285285\n",
      "params: {'max_depth': 16, 'eta': 1, 'objective': 'multi:softmax', 'num_class': 4}\n",
      "accuracy: 0.8205955955955956\n",
      "params: {'max_depth': 16, 'eta': 2, 'objective': 'multi:softmax', 'num_class': 4}\n",
      "accuracy: 0.7942348598598598\n",
      "params: {'max_depth': 32, 'eta': 0.5, 'objective': 'multi:softmax', 'num_class': 4}\n",
      "accuracy: 0.8106825575575575\n"
     ]
    },
    {
     "ename": "KeyboardInterrupt",
     "evalue": "",
     "output_type": "error",
     "traceback": [
      "\u001b[0;31m---------------------------------------------------------------------------\u001b[0m",
      "\u001b[0;31mKeyboardInterrupt\u001b[0m                         Traceback (most recent call last)",
      "Cell \u001b[0;32mIn [49], line 11\u001b[0m\n\u001b[1;32m      8\u001b[0m gs \u001b[38;5;241m=\u001b[39m MyGridSearchCV(xgb, param_grid, cv)\n\u001b[1;32m     10\u001b[0m num_round \u001b[38;5;241m=\u001b[39m \u001b[38;5;241m10\u001b[39m\n\u001b[0;32m---> 11\u001b[0m \u001b[43mgs\u001b[49m\u001b[38;5;241;43m.\u001b[39;49m\u001b[43mfit\u001b[49m\u001b[43m(\u001b[49m\u001b[43mX\u001b[49m\u001b[43m,\u001b[49m\u001b[43m \u001b[49m\u001b[43my\u001b[49m\u001b[43m,\u001b[49m\u001b[43m \u001b[49m\u001b[43mnum_round\u001b[49m\u001b[43m,\u001b[49m\u001b[43m \u001b[49m\u001b[43mverbose\u001b[49m\u001b[38;5;241;43m=\u001b[39;49m\u001b[38;5;28;43;01mTrue\u001b[39;49;00m\u001b[43m)\u001b[49m\n",
      "Cell \u001b[0;32mIn [48], line 25\u001b[0m, in \u001b[0;36mMyGridSearchCV.fit\u001b[0;34m(self, x, y, num_round, verbose)\u001b[0m\n\u001b[1;32m     23\u001b[0m scores \u001b[38;5;241m=\u001b[39m []\n\u001b[1;32m     24\u001b[0m \u001b[38;5;28;01mfor\u001b[39;00m dtrain, dval \u001b[38;5;129;01min\u001b[39;00m ds:\n\u001b[0;32m---> 25\u001b[0m     r \u001b[38;5;241m=\u001b[39m \u001b[38;5;28;43mself\u001b[39;49m\u001b[38;5;241;43m.\u001b[39;49m\u001b[43mm\u001b[49m\u001b[38;5;241;43m.\u001b[39;49m\u001b[43mtrain\u001b[49m\u001b[43m(\u001b[49m\u001b[43mp\u001b[49m\u001b[43m,\u001b[49m\u001b[43m \u001b[49m\u001b[43mdtrain\u001b[49m\u001b[43m,\u001b[49m\u001b[43m \u001b[49m\u001b[43mnum_round\u001b[49m\u001b[43m)\u001b[49m\n\u001b[1;32m     26\u001b[0m     dval_x, dval_y \u001b[38;5;241m=\u001b[39m dval\n\u001b[1;32m     27\u001b[0m     pred \u001b[38;5;241m=\u001b[39m r\u001b[38;5;241m.\u001b[39mpredict(dval_x)\n",
      "File \u001b[0;32m/usr/local/lib/python3.9/site-packages/xgboost/core.py:620\u001b[0m, in \u001b[0;36mrequire_keyword_args.<locals>.throw_if.<locals>.inner_f\u001b[0;34m(*args, **kwargs)\u001b[0m\n\u001b[1;32m    618\u001b[0m \u001b[38;5;28;01mfor\u001b[39;00m k, arg \u001b[38;5;129;01min\u001b[39;00m \u001b[38;5;28mzip\u001b[39m(sig\u001b[38;5;241m.\u001b[39mparameters, args):\n\u001b[1;32m    619\u001b[0m     kwargs[k] \u001b[38;5;241m=\u001b[39m arg\n\u001b[0;32m--> 620\u001b[0m \u001b[38;5;28;01mreturn\u001b[39;00m \u001b[43mfunc\u001b[49m\u001b[43m(\u001b[49m\u001b[38;5;241;43m*\u001b[39;49m\u001b[38;5;241;43m*\u001b[39;49m\u001b[43mkwargs\u001b[49m\u001b[43m)\u001b[49m\n",
      "File \u001b[0;32m/usr/local/lib/python3.9/site-packages/xgboost/training.py:185\u001b[0m, in \u001b[0;36mtrain\u001b[0;34m(params, dtrain, num_boost_round, evals, obj, feval, maximize, early_stopping_rounds, evals_result, verbose_eval, xgb_model, callbacks, custom_metric)\u001b[0m\n\u001b[1;32m    183\u001b[0m \u001b[38;5;28;01mif\u001b[39;00m cb_container\u001b[38;5;241m.\u001b[39mbefore_iteration(bst, i, dtrain, evals):\n\u001b[1;32m    184\u001b[0m     \u001b[38;5;28;01mbreak\u001b[39;00m\n\u001b[0;32m--> 185\u001b[0m \u001b[43mbst\u001b[49m\u001b[38;5;241;43m.\u001b[39;49m\u001b[43mupdate\u001b[49m\u001b[43m(\u001b[49m\u001b[43mdtrain\u001b[49m\u001b[43m,\u001b[49m\u001b[43m \u001b[49m\u001b[43mi\u001b[49m\u001b[43m,\u001b[49m\u001b[43m \u001b[49m\u001b[43mobj\u001b[49m\u001b[43m)\u001b[49m\n\u001b[1;32m    186\u001b[0m \u001b[38;5;28;01mif\u001b[39;00m cb_container\u001b[38;5;241m.\u001b[39mafter_iteration(bst, i, dtrain, evals):\n\u001b[1;32m    187\u001b[0m     \u001b[38;5;28;01mbreak\u001b[39;00m\n",
      "File \u001b[0;32m/usr/local/lib/python3.9/site-packages/xgboost/core.py:1918\u001b[0m, in \u001b[0;36mBooster.update\u001b[0;34m(self, dtrain, iteration, fobj)\u001b[0m\n\u001b[1;32m   1915\u001b[0m \u001b[38;5;28mself\u001b[39m\u001b[38;5;241m.\u001b[39m_validate_dmatrix_features(dtrain)\n\u001b[1;32m   1917\u001b[0m \u001b[38;5;28;01mif\u001b[39;00m fobj \u001b[38;5;129;01mis\u001b[39;00m \u001b[38;5;28;01mNone\u001b[39;00m:\n\u001b[0;32m-> 1918\u001b[0m     _check_call(\u001b[43m_LIB\u001b[49m\u001b[38;5;241;43m.\u001b[39;49m\u001b[43mXGBoosterUpdateOneIter\u001b[49m\u001b[43m(\u001b[49m\u001b[38;5;28;43mself\u001b[39;49m\u001b[38;5;241;43m.\u001b[39;49m\u001b[43mhandle\u001b[49m\u001b[43m,\u001b[49m\n\u001b[1;32m   1919\u001b[0m \u001b[43m                                            \u001b[49m\u001b[43mctypes\u001b[49m\u001b[38;5;241;43m.\u001b[39;49m\u001b[43mc_int\u001b[49m\u001b[43m(\u001b[49m\u001b[43miteration\u001b[49m\u001b[43m)\u001b[49m\u001b[43m,\u001b[49m\n\u001b[1;32m   1920\u001b[0m \u001b[43m                                            \u001b[49m\u001b[43mdtrain\u001b[49m\u001b[38;5;241;43m.\u001b[39;49m\u001b[43mhandle\u001b[49m\u001b[43m)\u001b[49m)\n\u001b[1;32m   1921\u001b[0m \u001b[38;5;28;01melse\u001b[39;00m:\n\u001b[1;32m   1922\u001b[0m     pred \u001b[38;5;241m=\u001b[39m \u001b[38;5;28mself\u001b[39m\u001b[38;5;241m.\u001b[39mpredict(dtrain, output_margin\u001b[38;5;241m=\u001b[39m\u001b[38;5;28;01mTrue\u001b[39;00m, training\u001b[38;5;241m=\u001b[39m\u001b[38;5;28;01mTrue\u001b[39;00m)\n",
      "\u001b[0;31mKeyboardInterrupt\u001b[0m: "
     ]
    }
   ],
   "source": [
    "param_grid = {\n",
    "    'max_depth':[2, 4, 8, 16, 32, 64],\n",
    "    'eta':[0.5, 1, 2],\n",
    "    'objective':['multi:softmax'],\n",
    "    'num_class':[4]\n",
    "}\n",
    "cv = 3\n",
    "gs = MyGridSearchCV(xgb, param_grid, cv)\n",
    "\n",
    "num_round = 10\n",
    "gs.fit(X, y, num_round, verbose=True)"
   ]
  },
  {
   "cell_type": "code",
   "execution_count": null,
   "id": "327b585d",
   "metadata": {
    "ExecuteTime": {
     "end_time": "2022-12-14T03:31:44.384992Z",
     "start_time": "2022-12-14T03:31:44.384979Z"
    }
   },
   "outputs": [],
   "source": [
    "gs.best_param_"
   ]
  },
  {
   "cell_type": "code",
   "execution_count": null,
   "id": "29a5fd07",
   "metadata": {
    "ExecuteTime": {
     "end_time": "2022-12-14T03:31:44.386487Z",
     "start_time": "2022-12-14T03:31:44.386472Z"
    }
   },
   "outputs": [],
   "source": [
    "gs.best_score_"
   ]
  },
  {
   "cell_type": "markdown",
   "id": "d28ab05d",
   "metadata": {},
   "source": [
    "### Test score"
   ]
  },
  {
   "cell_type": "code",
   "execution_count": null,
   "id": "2f501ce4",
   "metadata": {
    "ExecuteTime": {
     "end_time": "2022-12-14T03:31:44.387856Z",
     "start_time": "2022-12-14T03:31:44.387833Z"
    }
   },
   "outputs": [],
   "source": [
    "\"\"\"\n",
    "dtrain = xgb.DMatrix(X, label=y)\n",
    "num_round = 10\n",
    "bst = xgb.train(gs.best_param_, dtrain, num_round)\n",
    "\n",
    "dtest = xgb.DMatrix(X_test)\n",
    "y_pred = bst.predict(dtest)\n",
    "f1 = f1_score(y_test, y_pred, average='micro')\n",
    "\n",
    "print(f1)\n",
    "\"\"\""
   ]
  },
  {
   "cell_type": "markdown",
   "id": "a2f6aeef",
   "metadata": {},
   "source": [
    "## Attention"
   ]
  },
  {
   "cell_type": "code",
   "execution_count": null,
   "id": "bd98d9dc",
   "metadata": {
    "ExecuteTime": {
     "end_time": "2022-12-14T03:31:44.403961Z",
     "start_time": "2022-12-14T03:31:44.403886Z"
    }
   },
   "outputs": [],
   "source": [
    "import torch\n",
    "import torch.nn as nn\n",
    "import torch.nn.functional as F\n",
    "from torch import optim\n",
    "\n",
    "from sklearn.metrics import accuracy_score"
   ]
  },
  {
   "cell_type": "code",
   "execution_count": null,
   "id": "1d1ca6be",
   "metadata": {
    "ExecuteTime": {
     "end_time": "2022-12-14T03:31:44.418095Z",
     "start_time": "2022-12-14T03:31:44.418070Z"
    }
   },
   "outputs": [],
   "source": [
    "class NNClassifier(nn.Module):\n",
    "    def __init__(self, vocab_size, emb_dim, hid_dim, seqlen, K):\n",
    "        super().__init__()\n",
    "        # reserve last feature for padding which is always zero\n",
    "        self.emb = nn.Embedding(vocab_size + 1, emb_dim, padding_idx=vocab_size)\n",
    "        self.bilstm = nn.LSTM(emb_dim, hid_dim, 1, batch_first=True, bidirectional=True)\n",
    "        self.key = nn.Linear(hid_dim * 2, hid_dim * 2, bias=False)\n",
    "        self.softmax = nn.Softmax(dim=1)\n",
    "        self.droput = nn.Dropout(p=0.1)\n",
    "        self.linear = nn.Linear(seqlen, 1, bias=False)\n",
    "        self.output = nn.Linear(hid_dim * 2, K, bias=False)\n",
    "        self.log_softmax = nn.LogSoftmax(dim=1)\n",
    "        \n",
    "    def forward(self, X):\n",
    "        \"\"\"\n",
    "        X: bsz x seqlen\n",
    "        \"\"\"\n",
    "        embedded = self.emb(X) # bsz x seqlen x emb_dim\n",
    "        \n",
    "        feats, _ = self.bilstm(embedded) # bsz x seqlen x (hid_dim * 2)\n",
    "        \n",
    "        key = self.key(feats) # bsz x seqlen x (hid_dim * 2)\n",
    "        query = torch.permute(feats, (0, 2, 1)) # bsz x (hid_dim * 2) x seqlen\n",
    "        attn = torch.bmm(key, query) # bsz x seqlen x seqlen\n",
    "        attn = self.softmax(attn) # bsz x seqlen x seqlen\n",
    "        value = query # bsz x (hid_dim * 2) x seqlen\n",
    "        c = torch.bmm(value, attn) # bsz x (hid_dim * 2) x seqlen\n",
    "        c = self.droput(c)\n",
    "        \n",
    "#         h = self.linear(c) # bsz x (hid_dim * 2) x 1\n",
    "        h = torch.mean(c, dim=2)\n",
    "        h = torch.squeeze(h) # bsz x (hid_dim * 2)\n",
    "        \n",
    "        out = self.output(h) # bsz x K\n",
    "        \n",
    "        log_probs = self.log_softmax(out) # bsz x K\n",
    "        \n",
    "        return log_probs"
   ]
  },
  {
   "cell_type": "code",
   "execution_count": null,
   "id": "f23e117a",
   "metadata": {
    "ExecuteTime": {
     "end_time": "2022-12-14T03:31:44.434087Z",
     "start_time": "2022-12-14T03:31:44.434061Z"
    }
   },
   "outputs": [],
   "source": [
    "class DataLoader:\n",
    "    def __init__(self, data, bsz, max_len, vocab_size):\n",
    "        self.data =data\n",
    "        self.bsz = bsz\n",
    "        self.max_len = max_len\n",
    "        self.vocab_size = vocab_size\n",
    "    \n",
    "    def __len__(self):\n",
    "        return len(self.data)\n",
    "          \n",
    "    def __iter__(self):\n",
    "        for i in range(0, len(self.data), self.bsz):\n",
    "            if i+self.bsz < len(self.data):\n",
    "                x = [d[0] + [vocab_size for i in range(self.max_len - len(d[0]))]\n",
    "                    for d in self.data[i:i+self.bsz]]\n",
    "                y = [d[1] for d in self.data[i:i+self.bsz]]\n",
    "                yield x, y\n",
    "            else:\n",
    "                x = [d[0] + [vocab_size for i in range(self.max_len - len(d[0]))]\n",
    "                    for d in self.data[i:]]\n",
    "                y = [d[1] for d in self.data[i:]]\n",
    "                yield x, y\n",
    "\n",
    "def train_nn(self, train_data, val_data, bsz, lr, epochs, K, max_len, vocab_size):\n",
    "    train_dl = DataLoader(train_data, bsz, max_len, vocab_size)\n",
    "    val_dl   = DataLoader(val_data, len(val_data), max_len, vocab_size)\n",
    "\n",
    "    optimizer = torch.optim.Adam(model.parameters(), lr=lr)\n",
    "    criterion = nn.NLLLoss(reduction='mean')\n",
    "\n",
    "    best_acc = 0\n",
    "    for epoch in range(epochs):\n",
    "        print(\"epoch:\", epoch)\n",
    "        for x, y in train_dl:\n",
    "            X = torch.LongTensor(x) # bsz x seqlen\n",
    "            Y = torch.LongTensor(y) # bsz\n",
    "\n",
    "            model.train()\n",
    "            model.zero_grad()\n",
    "            optimizer.zero_grad()\n",
    "\n",
    "            log_probs = model.forward(X)\n",
    "            loss = criterion(log_probs, Y)\n",
    "            # print(\"training loss:\", loss.item())\n",
    "            _, pred = torch.max(log_probs, 1)\n",
    "            trn_acc = accuracy_score(y, pred.detach().numpy())\n",
    "            print(\"training accuracy:\", trn_acc)\n",
    "            loss.backward()\n",
    "\n",
    "            torch.nn.utils.clip_grad_norm_(model.parameters(), 1.0)\n",
    "            optimizer.step()\n",
    "\n",
    "        model.eval()\n",
    "        for x, y in val_dl: # loop only once\n",
    "            X = torch.LongTensor(x) # bsz x seqlen\n",
    "            log_probs = model.forward(X) # bsz x K\n",
    "            _, pred = torch.max(log_probs, 1)\n",
    "        val_acc = accuracy_score(y, pred.detach().numpy())\n",
    "        print(\"validation accuracy:\", val_acc)\n",
    "        if best_acc < val_acc:\n",
    "            best_acc = val_acc\n",
    "            torch.save(model.state_dict(), 'best_model.pt')\n",
    "\n",
    "    model.load_state_dict(torch.load('best_model.pt'))\n",
    "    return model, best_acc"
   ]
  },
  {
   "cell_type": "code",
   "execution_count": null,
   "id": "76490a49",
   "metadata": {
    "ExecuteTime": {
     "end_time": "2022-12-14T03:31:44.458995Z",
     "start_time": "2022-12-14T03:31:44.458964Z"
    }
   },
   "outputs": [],
   "source": [
    "emb_dim = 4\n",
    "hid_dim = 3\n",
    "max_len = 128\n",
    "K = 4\n",
    "model = NNClassifier(vocab_size, emb_dim, hid_dim, max_len, K)"
   ]
  },
  {
   "cell_type": "code",
   "execution_count": null,
   "id": "1ed49ac0",
   "metadata": {
    "ExecuteTime": {
     "end_time": "2022-12-14T03:31:44.470138Z",
     "start_time": "2022-12-14T03:31:44.470108Z"
    }
   },
   "outputs": [],
   "source": [
    "xt, xv, yt, yv = train_test_split(train_texts_id, train_targets_id, test_size=0.2)\n",
    "dt = list(zip(xt, yt))\n",
    "dv = list(zip(xv, yv))\n",
    "\n",
    "bsz = 256\n",
    "lr = 0.01\n",
    "epochs = 50\n",
    "model, _ = train_nn(\n",
    "    model,\n",
    "    dt,\n",
    "    dv,\n",
    "    bsz, lr, epochs, K, max_len, vocab_size\n",
    ")"
   ]
  },
  {
   "cell_type": "code",
   "execution_count": null,
   "id": "364626d1",
   "metadata": {
    "ExecuteTime": {
     "end_time": "2022-12-14T03:31:44.475269Z",
     "start_time": "2022-12-14T03:31:44.475253Z"
    }
   },
   "outputs": [],
   "source": [
    "def cv_split(x, y, cv):\n",
    "    asgn = np.random.randint(0, cv, len(x))\n",
    "    ds = []\n",
    "    for i in range(cv):\n",
    "        # validation data\n",
    "        x_val = [x[j] for j in range(len(x)) if asgn[j]==i]\n",
    "        y_val = [y[j] for j in range(len(y)) if asgn[j]==i]\n",
    "        dval = list(zip(x_val, y_val))\n",
    "        # training data\n",
    "        x_trn = [x[j] for j in range(len(x)) if asgn[j]!=i]\n",
    "        y_trn = [y[j] for j in range(len(y)) if asgn[j]!=i]\n",
    "        dtrain = list(zip(x_trn, y_trn))\n",
    "        # combine\n",
    "        ds.append((dtrain, dval))\n",
    "    return ds"
   ]
  },
  {
   "cell_type": "markdown",
   "id": "72239c91",
   "metadata": {},
   "source": [
    "### Cross validation"
   ]
  },
  {
   "cell_type": "code",
   "execution_count": null,
   "id": "f176e97f",
   "metadata": {
    "ExecuteTime": {
     "end_time": "2022-12-14T03:31:44.487207Z",
     "start_time": "2022-12-14T03:31:44.487184Z"
    }
   },
   "outputs": [],
   "source": [
    "cv = 3\n",
    "ds = cv_split(train_texts_id, train_targets_id, cv)\n",
    "\n",
    "emb_dim = 32\n",
    "hid_dim = 16\n",
    "max_len = 128\n",
    "K = 4\n",
    "\n",
    "bsz = 128\n",
    "lr = 0.01\n",
    "epochs = 100\n",
    "acc = []\n",
    "for dt, dv in ds:\n",
    "    model = NNClassifier(vocab_size, emb_dim, hid_dim, max_len, K)\n",
    "    model, best_acc = train_nn(\n",
    "        model,\n",
    "        dt,\n",
    "        dv,\n",
    "        bsz, lr, epochs, K, max_len, vocab_size\n",
    "    )\n",
    "    acc.append(best_acc)\n",
    "    del model\n",
    "\n",
    "print(sum(acc)/len(acc))"
   ]
  },
  {
   "cell_type": "code",
   "execution_count": null,
   "id": "c5c34390",
   "metadata": {},
   "outputs": [],
   "source": []
  }
 ],
 "metadata": {
  "kernelspec": {
   "display_name": "Python 3 (ipykernel)",
   "language": "python",
   "name": "python3"
  },
  "language_info": {
   "codemirror_mode": {
    "name": "ipython",
    "version": 3
   },
   "file_extension": ".py",
   "mimetype": "text/x-python",
   "name": "python",
   "nbconvert_exporter": "python",
   "pygments_lexer": "ipython3",
   "version": "3.9.10"
  },
  "toc": {
   "base_numbering": 1,
   "nav_menu": {},
   "number_sections": true,
   "sideBar": true,
   "skip_h1_title": false,
   "title_cell": "Table of Contents",
   "title_sidebar": "Contents",
   "toc_cell": false,
   "toc_position": {},
   "toc_section_display": true,
   "toc_window_display": false
  },
  "varInspector": {
   "cols": {
    "lenName": 16,
    "lenType": 16,
    "lenVar": 40
   },
   "kernels_config": {
    "python": {
     "delete_cmd_postfix": "",
     "delete_cmd_prefix": "del ",
     "library": "var_list.py",
     "varRefreshCmd": "print(var_dic_list())"
    },
    "r": {
     "delete_cmd_postfix": ") ",
     "delete_cmd_prefix": "rm(",
     "library": "var_list.r",
     "varRefreshCmd": "cat(var_dic_list()) "
    }
   },
   "types_to_exclude": [
    "module",
    "function",
    "builtin_function_or_method",
    "instance",
    "_Feature"
   ],
   "window_display": false
  }
 },
 "nbformat": 4,
 "nbformat_minor": 5
}
